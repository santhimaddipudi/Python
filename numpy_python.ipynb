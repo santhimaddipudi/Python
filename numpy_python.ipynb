{
  "nbformat": 4,
  "nbformat_minor": 0,
  "metadata": {
    "colab": {
      "provenance": [],
      "authorship_tag": "ABX9TyPpTxA2GA6q7vMrXrmA5ojx",
      "include_colab_link": true
    },
    "kernelspec": {
      "name": "python3",
      "display_name": "Python 3"
    },
    "language_info": {
      "name": "python"
    }
  },
  "cells": [
    {
      "cell_type": "markdown",
      "metadata": {
        "id": "view-in-github",
        "colab_type": "text"
      },
      "source": [
        "<a href=\"https://colab.research.google.com/github/santhimaddipudi/Python-work/blob/master/numpy_python.ipynb\" target=\"_parent\"><img src=\"https://colab.research.google.com/assets/colab-badge.svg\" alt=\"Open In Colab\"/></a>"
      ]
    },
    {
      "cell_type": "markdown",
      "source": [
        "#**Numpy**"
      ],
      "metadata": {
        "id": "i_fk9bQ7o1LA"
      }
    },
    {
      "cell_type": "code",
      "execution_count": 2,
      "metadata": {
        "colab": {
          "base_uri": "https://localhost:8080/"
        },
        "id": "HRt4yIcNo0GV",
        "outputId": "41773749-5d2c-44c1-d0f0-5781216a369b"
      },
      "outputs": [
        {
          "output_type": "stream",
          "name": "stdout",
          "text": [
            "[1 2 3]\n"
          ]
        }
      ],
      "source": [
        "import numpy as np\n",
        "n1=np.array([1,2,3])\n",
        "print(n1)"
      ]
    },
    {
      "cell_type": "code",
      "source": [
        "n2=np.zeros(10)\n",
        "print(n2)\n",
        "n3=np.ones((5,5))\n",
        "print(n3)"
      ],
      "metadata": {
        "colab": {
          "base_uri": "https://localhost:8080/"
        },
        "id": "4Xha6JxKpHPy",
        "outputId": "5ce1a372-3545-4fdc-8aa7-024716c82449"
      },
      "execution_count": 4,
      "outputs": [
        {
          "output_type": "stream",
          "name": "stdout",
          "text": [
            "[0. 0. 0. 0. 0. 0. 0. 0. 0. 0.]\n",
            "[[1. 1. 1. 1. 1.]\n",
            " [1. 1. 1. 1. 1.]\n",
            " [1. 1. 1. 1. 1.]\n",
            " [1. 1. 1. 1. 1.]\n",
            " [1. 1. 1. 1. 1.]]\n"
          ]
        }
      ]
    },
    {
      "cell_type": "code",
      "source": [
        "print(np.eye(5))#5x5 matrix with 1 in diagnal"
      ],
      "metadata": {
        "colab": {
          "base_uri": "https://localhost:8080/"
        },
        "id": "eoYBHvCjpWA0",
        "outputId": "d316b779-3e25-409e-ea7f-b13c6fd6b56f"
      },
      "execution_count": 5,
      "outputs": [
        {
          "output_type": "stream",
          "name": "stdout",
          "text": [
            "[[1. 0. 0. 0. 0.]\n",
            " [0. 1. 0. 0. 0.]\n",
            " [0. 0. 1. 0. 0.]\n",
            " [0. 0. 0. 1. 0.]\n",
            " [0. 0. 0. 0. 1.]]\n"
          ]
        }
      ]
    },
    {
      "cell_type": "code",
      "source": [
        "#2d array\n",
        "b=np.array([[1,2,3],[4,5,6]])\n",
        "print(b)\n",
        "#3d array\n",
        "c=np.array([[[1,2,3],[4,5,6]],[[7,8,9],[5,4,3]]])\n",
        "print(c)"
      ],
      "metadata": {
        "colab": {
          "base_uri": "https://localhost:8080/"
        },
        "id": "fistGSHbptU-",
        "outputId": "aab76163-290d-4eab-b34e-0d2efd8d6757"
      },
      "execution_count": 11,
      "outputs": [
        {
          "output_type": "stream",
          "name": "stdout",
          "text": [
            "[[1 2 3]\n",
            " [4 5 6]]\n",
            "[[[1 2 3]\n",
            "  [4 5 6]]\n",
            "\n",
            " [[7 8 9]\n",
            "  [5 4 3]]]\n"
          ]
        }
      ]
    },
    {
      "cell_type": "code",
      "source": [
        "#random 3 numbers between range 1-10\n",
        "print(np.random.randint(1,10,3))\n",
        "np.random.randint(10,size=(3,3))#random matrix of 3x3"
      ],
      "metadata": {
        "colab": {
          "base_uri": "https://localhost:8080/"
        },
        "id": "GSNomrdHraUI",
        "outputId": "a6d38c01-e3a3-40cc-e897-6285e0276c03"
      },
      "execution_count": 13,
      "outputs": [
        {
          "output_type": "stream",
          "name": "stdout",
          "text": [
            "[9 7 8]\n"
          ]
        },
        {
          "output_type": "execute_result",
          "data": {
            "text/plain": [
              "array([[8, 2, 5],\n",
              "       [7, 4, 4],\n",
              "       [4, 7, 2]])"
            ]
          },
          "metadata": {},
          "execution_count": 13
        }
      ]
    },
    {
      "cell_type": "code",
      "source": [
        "np.array([1,2,3,4,0],dtype=bool)"
      ],
      "metadata": {
        "colab": {
          "base_uri": "https://localhost:8080/"
        },
        "id": "xfNvsmQA0T5q",
        "outputId": "aec85a0b-e4c9-4f92-9278-e82c3a12fd6c"
      },
      "execution_count": 15,
      "outputs": [
        {
          "output_type": "execute_result",
          "data": {
            "text/plain": [
              "array([ True,  True,  True,  True, False])"
            ]
          },
          "metadata": {},
          "execution_count": 15
        }
      ]
    },
    {
      "cell_type": "code",
      "source": [
        "#array of values with step 3\n",
        "np.arange(1,15,3)"
      ],
      "metadata": {
        "colab": {
          "base_uri": "https://localhost:8080/"
        },
        "id": "TZO5qBMd0juD",
        "outputId": "b52d6c85-92ab-4e73-d4e9-b7432ad79fd5"
      },
      "execution_count": 21,
      "outputs": [
        {
          "output_type": "execute_result",
          "data": {
            "text/plain": [
              "array([ 1,  4,  7, 10, 13])"
            ]
          },
          "metadata": {},
          "execution_count": 21
        }
      ]
    },
    {
      "cell_type": "code",
      "source": [
        "from numpy import *\n",
        "a=arange(12)\n",
        "a=a.reshape(3,2,2)\n",
        "print(a)"
      ],
      "metadata": {
        "colab": {
          "base_uri": "https://localhost:8080/"
        },
        "id": "hB39ii7309Eb",
        "outputId": "f713a679-7114-4eca-83fd-3495751a3dc4"
      },
      "execution_count": 24,
      "outputs": [
        {
          "output_type": "stream",
          "name": "stdout",
          "text": [
            "[[[ 0  1]\n",
            "  [ 2  3]]\n",
            "\n",
            " [[ 4  5]\n",
            "  [ 6  7]]\n",
            "\n",
            " [[ 8  9]\n",
            "  [10 11]]]\n"
          ]
        }
      ]
    },
    {
      "cell_type": "code",
      "source": [
        "#transpose array\n",
        "trans=np.array([[1,2,3],[4,5,6]])\n",
        "print(trans)\n",
        "print(trans.T)"
      ],
      "metadata": {
        "colab": {
          "base_uri": "https://localhost:8080/"
        },
        "id": "XNdr1KJC1nde",
        "outputId": "b43c56fe-5038-4816-be98-f0c88dd34fa5"
      },
      "execution_count": 25,
      "outputs": [
        {
          "output_type": "stream",
          "name": "stdout",
          "text": [
            "[[1 2 3]\n",
            " [4 5 6]]\n",
            "[[1 4]\n",
            " [2 5]\n",
            " [3 6]]\n"
          ]
        }
      ]
    },
    {
      "cell_type": "code",
      "source": [
        "trans.resize((5,5),refcheck=False)#fils new values with 0\n",
        "print(trans)\n",
        "trans.size#give number of elements in array"
      ],
      "metadata": {
        "colab": {
          "base_uri": "https://localhost:8080/"
        },
        "id": "ltDay-7c17Es",
        "outputId": "44d75dc3-ea4f-42c7-9708-5f9d7d14f1ed"
      },
      "execution_count": 30,
      "outputs": [
        {
          "output_type": "stream",
          "name": "stdout",
          "text": [
            "[[1 2 3 4 5]\n",
            " [6 0 0 0 0]\n",
            " [0 0 0 0 0]\n",
            " [0 0 0 0 0]\n",
            " [0 0 0 0 0]]\n"
          ]
        },
        {
          "output_type": "execute_result",
          "data": {
            "text/plain": [
              "25"
            ]
          },
          "metadata": {},
          "execution_count": 30
        }
      ]
    },
    {
      "cell_type": "code",
      "source": [
        "arr2=np.append(trans,[1,2,3,4,5])#append values at end of array\n",
        "print(arr2)\n",
        "arr2.size\n",
        "arr2.reshape(5,6)"
      ],
      "metadata": {
        "colab": {
          "base_uri": "https://localhost:8080/"
        },
        "id": "e7zgvOVY2P6F",
        "outputId": "a7f08cdf-3edd-4c5c-de6f-93c74bb6031a"
      },
      "execution_count": 35,
      "outputs": [
        {
          "output_type": "stream",
          "name": "stdout",
          "text": [
            "[1 2 3 4 5 6 0 0 0 0 0 0 0 0 0 0 0 0 0 0 0 0 0 0 0 1 2 3 4 5]\n"
          ]
        },
        {
          "output_type": "execute_result",
          "data": {
            "text/plain": [
              "array([[1, 2, 3, 4, 5, 6],\n",
              "       [0, 0, 0, 0, 0, 0],\n",
              "       [0, 0, 0, 0, 0, 0],\n",
              "       [0, 0, 0, 0, 0, 0],\n",
              "       [0, 1, 2, 3, 4, 5]])"
            ]
          },
          "metadata": {},
          "execution_count": 35
        }
      ]
    },
    {
      "cell_type": "code",
      "source": [
        "np.insert(arr2,2,10)#insert 10 at index 2\n",
        "np.delete(trans,2,axis=1)#delete column at index 2"
      ],
      "metadata": {
        "colab": {
          "base_uri": "https://localhost:8080/"
        },
        "id": "6mAo1v-J2z_0",
        "outputId": "de2cce43-37fe-4afa-a249-2552b99f2cd0"
      },
      "execution_count": 38,
      "outputs": [
        {
          "output_type": "execute_result",
          "data": {
            "text/plain": [
              "array([[1, 2, 4, 5],\n",
              "       [6, 0, 0, 0],\n",
              "       [0, 0, 0, 0],\n",
              "       [0, 0, 0, 0],\n",
              "       [0, 0, 0, 0]])"
            ]
          },
          "metadata": {},
          "execution_count": 38
        }
      ]
    },
    {
      "cell_type": "code",
      "source": [
        "a=array([True,False,False])#true if atlease one elemnt true\n",
        "a.any()"
      ],
      "metadata": {
        "colab": {
          "base_uri": "https://localhost:8080/"
        },
        "id": "3fgzZbzW3e0b",
        "outputId": "69f79b2a-0566-4c66-abf3-387bf99d3704"
      },
      "execution_count": 41,
      "outputs": [
        {
          "output_type": "execute_result",
          "data": {
            "text/plain": [
              "True"
            ]
          },
          "metadata": {},
          "execution_count": 41
        }
      ]
    },
    {
      "cell_type": "code",
      "source": [
        "a=array([10,20,30])\n",
        "append(a,40)\n",
        "append(a,[40,50])"
      ],
      "metadata": {
        "colab": {
          "base_uri": "https://localhost:8080/"
        },
        "id": "ONezVA5n5PtZ",
        "outputId": "6aa69d75-093c-4b3e-9cc4-fcdfec4f0115"
      },
      "execution_count": 49,
      "outputs": [
        {
          "output_type": "execute_result",
          "data": {
            "text/plain": [
              "array([10, 20, 30, 40, 50])"
            ]
          },
          "metadata": {},
          "execution_count": 49
        }
      ]
    },
    {
      "cell_type": "code",
      "source": [
        "#takes average of 1st and last element\n",
        "from numpy import *\n",
        "def myfunc(a):\n",
        "  return(a[0]+a[-1])/2\n",
        "arr=array([10,20,30,40,50,60])\n",
        "myfunc(arr)"
      ],
      "metadata": {
        "colab": {
          "base_uri": "https://localhost:8080/"
        },
        "id": "SK5ndVP25pgC",
        "outputId": "12d1b50a-fdca-4f39-e556-43274caba5e7"
      },
      "execution_count": 52,
      "outputs": [
        {
          "output_type": "execute_result",
          "data": {
            "text/plain": [
              "35.0"
            ]
          },
          "metadata": {},
          "execution_count": 52
        }
      ]
    },
    {
      "cell_type": "code",
      "source": [
        "np.linspace(1,50,5)#gives 5 evenly divided values between 1-50"
      ],
      "metadata": {
        "colab": {
          "base_uri": "https://localhost:8080/"
        },
        "id": "qf1vHUBg7cm7",
        "outputId": "b20f8895-491c-4a40-963f-b023e0958367"
      },
      "execution_count": 54,
      "outputs": [
        {
          "output_type": "execute_result",
          "data": {
            "text/plain": [
              "array([ 1.  , 13.25, 25.5 , 37.75, 50.  ])"
            ]
          },
          "metadata": {},
          "execution_count": 54
        }
      ]
    },
    {
      "cell_type": "code",
      "source": [
        "print(add.accumulate(array([1,2,4,5])))#gives cumilative sum\n",
        "print(multiply.accumulate(array([1,2,4,5])))#gives cumilative product"
      ],
      "metadata": {
        "colab": {
          "base_uri": "https://localhost:8080/"
        },
        "id": "1UFyPqUl7vgf",
        "outputId": "5af2770f-de46-490c-ff33-12b0a5b57c2f"
      },
      "execution_count": 57,
      "outputs": [
        {
          "output_type": "stream",
          "name": "stdout",
          "text": [
            "[ 1  3  7 12]\n",
            "[ 1  2  8 40]\n"
          ]
        }
      ]
    },
    {
      "cell_type": "code",
      "source": [
        "a1=np.array([1,2,3,4,5])\n",
        "a2=np.array([6,7,8,9,10])\n",
        "np.concatenate((a1,a2),axis=0)"
      ],
      "metadata": {
        "colab": {
          "base_uri": "https://localhost:8080/"
        },
        "id": "szEmdGn98FbA",
        "outputId": "1cf07317-6e67-48aa-f43c-ad2abad60f65"
      },
      "execution_count": 61,
      "outputs": [
        {
          "output_type": "execute_result",
          "data": {
            "text/plain": [
              "array([ 1,  2,  3,  4,  5,  6,  7,  8,  9, 10])"
            ]
          },
          "metadata": {},
          "execution_count": 61
        }
      ]
    },
    {
      "cell_type": "code",
      "source": [
        "a1=np.array([(1,2,3,4,5),(2,3,4,5,6)])\n",
        "a2=np.array([(6,7,8,9,10),(11,12,13,14,15)])\n",
        "print(a1)\n",
        "print(a2)\n",
        "np.concatenate((a1,a2),axis=1)#adds a2  as columns to end of a1"
      ],
      "metadata": {
        "colab": {
          "base_uri": "https://localhost:8080/"
        },
        "id": "vI85z5938gKs",
        "outputId": "dc29f428-89a6-42f5-e7ea-0419d4a650f6"
      },
      "execution_count": 66,
      "outputs": [
        {
          "output_type": "stream",
          "name": "stdout",
          "text": [
            "[[1 2 3 4 5]\n",
            " [2 3 4 5 6]]\n",
            "[[ 6  7  8  9 10]\n",
            " [11 12 13 14 15]]\n"
          ]
        },
        {
          "output_type": "execute_result",
          "data": {
            "text/plain": [
              "array([[ 1,  2,  3,  4,  5,  6,  7,  8,  9, 10],\n",
              "       [ 2,  3,  4,  5,  6, 11, 12, 13, 14, 15]])"
            ]
          },
          "metadata": {},
          "execution_count": 66
        }
      ]
    },
    {
      "cell_type": "code",
      "source": [
        "#dot product\n",
        "s2=np.arange(12).reshape(3,4)\n",
        "s3=np.arange(12,24).reshape(4,3)\n",
        "print(s2)\n",
        "print(s3)\n",
        "np.dot(s2,s3)"
      ],
      "metadata": {
        "colab": {
          "base_uri": "https://localhost:8080/"
        },
        "id": "cQZ_h9Jv-szd",
        "outputId": "3a157cb8-b599-448d-ab15-1afbe89bab60"
      },
      "execution_count": 72,
      "outputs": [
        {
          "output_type": "stream",
          "name": "stdout",
          "text": [
            "[[ 0  1  2  3]\n",
            " [ 4  5  6  7]\n",
            " [ 8  9 10 11]]\n",
            "[[12 13 14]\n",
            " [15 16 17]\n",
            " [18 19 20]\n",
            " [21 22 23]]\n"
          ]
        },
        {
          "output_type": "execute_result",
          "data": {
            "text/plain": [
              "array([[114, 120, 126],\n",
              "       [378, 400, 422],\n",
              "       [642, 680, 718]])"
            ]
          },
          "metadata": {},
          "execution_count": 72
        }
      ]
    },
    {
      "cell_type": "code",
      "source": [
        "#brodcast smaller array if sizes are diffrent\n",
        "a = np.arange(3).reshape(1,3)\n",
        "b = np.arange(4).reshape(4,1)\n",
        "\n",
        "print(a)\n",
        "print(b)\n",
        "a+b\n"
      ],
      "metadata": {
        "colab": {
          "base_uri": "https://localhost:8080/"
        },
        "id": "I1P3UONILDTo",
        "outputId": "306429fc-66fe-4c44-a511-6668fb232de7"
      },
      "execution_count": 85,
      "outputs": [
        {
          "output_type": "stream",
          "name": "stdout",
          "text": [
            "[[0 1 2]]\n",
            "[[0]\n",
            " [1]\n",
            " [2]\n",
            " [3]]\n"
          ]
        },
        {
          "output_type": "execute_result",
          "data": {
            "text/plain": [
              "array([[0, 1, 2],\n",
              "       [1, 2, 3],\n",
              "       [2, 3, 4],\n",
              "       [3, 4, 5]])"
            ]
          },
          "metadata": {},
          "execution_count": 85
        }
      ]
    },
    {
      "cell_type": "code",
      "source": [
        "import numpy as np\n",
        "import matplotlib.pyplot as plt\n",
        "def f(x, y):\n",
        " return np.where((x**2 + y**2 < 1), 1.0, 0.0)\n",
        "x = np.linspace(-5, 5, 500)\n",
        "y = np.linspace(-5, 5, 500)\n",
        "xv, yv = np.meshgrid(x, y)\n",
        "rectangular_mask = f(xv, yv)\n",
        "plt.pcolormesh(xv, yv, rectangular_mask, shading='auto')\n",
        "plt.colorbar()\n",
        "plt.grid()\n",
        "plt.show()\n"
      ],
      "metadata": {
        "colab": {
          "base_uri": "https://localhost:8080/",
          "height": 435
        },
        "id": "9auVWlCXNJYF",
        "outputId": "0e12f0a6-f71a-4a02-d994-c93b2f0c1b8d"
      },
      "execution_count": 86,
      "outputs": [
        {
          "output_type": "display_data",
          "data": {
            "text/plain": [
              "<Figure size 640x480 with 2 Axes>"
            ],
            "image/png": "[encoded data removed]"
          },
          "metadata": {}
        }
      ]
    },
    {
      "cell_type": "code",
      "source": [
        "a= np.random.randint(1,100,15) #1D\n",
        "a\n"
      ],
      "metadata": {
        "colab": {
          "base_uri": "https://localhost:8080/"
        },
        "id": "scNKBvAANii8",
        "outputId": "86155428-a538-4d3d-c9a0-b0c0c846584b"
      },
      "execution_count": 88,
      "outputs": [
        {
          "output_type": "execute_result",
          "data": {
            "text/plain": [
              "array([89, 78, 79, 91, 75, 83, 87, 53, 59, 67, 46,  7, 95, 12, 36])"
            ]
          },
          "metadata": {},
          "execution_count": 88
        }
      ]
    },
    {
      "cell_type": "code",
      "source": [
        "b = np.random.randint(1,100,24).reshape(6,4) # 2D\n",
        "b"
      ],
      "metadata": {
        "colab": {
          "base_uri": "https://localhost:8080/"
        },
        "id": "VehoYop4NmmN",
        "outputId": "8106abe7-de3d-4664-e308-ca74afc6169c"
      },
      "execution_count": 89,
      "outputs": [
        {
          "output_type": "execute_result",
          "data": {
            "text/plain": [
              "array([[70, 65, 42, 57],\n",
              "       [19, 25, 31, 10],\n",
              "       [29, 23, 24, 74],\n",
              "       [97, 83, 36, 86],\n",
              "       [26,  2, 52, 39],\n",
              "       [56, 49, 14, 41]])"
            ]
          },
          "metadata": {},
          "execution_count": 89
        }
      ]
    },
    {
      "cell_type": "code",
      "source": [
        "np.sort(a)#default asc"
      ],
      "metadata": {
        "colab": {
          "base_uri": "https://localhost:8080/"
        },
        "id": "hBRflHAENoMJ",
        "outputId": "08863809-9eb9-4717-e767-969b01880da2"
      },
      "execution_count": 90,
      "outputs": [
        {
          "output_type": "execute_result",
          "data": {
            "text/plain": [
              "array([ 7, 12, 36, 46, 53, 59, 67, 75, 78, 79, 83, 87, 89, 91, 95])"
            ]
          },
          "metadata": {},
          "execution_count": 90
        }
      ]
    },
    {
      "cell_type": "code",
      "source": [
        "np.sort(a)[::-1]#desc"
      ],
      "metadata": {
        "colab": {
          "base_uri": "https://localhost:8080/"
        },
        "id": "iMP_sid7Nshh",
        "outputId": "f88da1b0-210d-47bf-ef48-377475460cc9"
      },
      "execution_count": 91,
      "outputs": [
        {
          "output_type": "execute_result",
          "data": {
            "text/plain": [
              "array([95, 91, 89, 87, 83, 79, 78, 75, 67, 59, 53, 46, 36, 12,  7])"
            ]
          },
          "metadata": {},
          "execution_count": 91
        }
      ]
    },
    {
      "cell_type": "code",
      "source": [
        "np.sort(b)#sort rows,it is default"
      ],
      "metadata": {
        "colab": {
          "base_uri": "https://localhost:8080/"
        },
        "id": "BYjLHISENxLL",
        "outputId": "08dc9635-3c84-40d0-cce9-2a0d924022e2"
      },
      "execution_count": 96,
      "outputs": [
        {
          "output_type": "execute_result",
          "data": {
            "text/plain": [
              "array([[42, 57, 65, 70],\n",
              "       [10, 19, 25, 31],\n",
              "       [23, 24, 29, 74],\n",
              "       [36, 83, 86, 97],\n",
              "       [ 2, 26, 39, 52],\n",
              "       [14, 41, 49, 56]])"
            ]
          },
          "metadata": {},
          "execution_count": 96
        }
      ]
    },
    {
      "cell_type": "code",
      "source": [
        "np.sort(b,axis=0)#sort columns"
      ],
      "metadata": {
        "colab": {
          "base_uri": "https://localhost:8080/"
        },
        "id": "JikSBFuiN56T",
        "outputId": "269f1058-09f4-41c9-a913-f1afc1dfae1b"
      },
      "execution_count": 98,
      "outputs": [
        {
          "output_type": "execute_result",
          "data": {
            "text/plain": [
              "array([[19,  2, 14, 10],\n",
              "       [26, 23, 24, 39],\n",
              "       [29, 25, 31, 41],\n",
              "       [56, 49, 36, 57],\n",
              "       [70, 65, 42, 74],\n",
              "       [97, 83, 52, 86]])"
            ]
          },
          "metadata": {},
          "execution_count": 98
        }
      ]
    },
    {
      "cell_type": "code",
      "source": [
        "#cumilative sum\n",
        "np.cumsum(a)"
      ],
      "metadata": {
        "colab": {
          "base_uri": "https://localhost:8080/"
        },
        "id": "xKrDrawyTqeo",
        "outputId": "5306e662-09df-4746-931e-2bc6423e1a17"
      },
      "execution_count": 99,
      "outputs": [
        {
          "output_type": "execute_result",
          "data": {
            "text/plain": [
              "array([ 89, 167, 246, 337, 412, 495, 582, 635, 694, 761, 807, 814, 909,\n",
              "       921, 957])"
            ]
          },
          "metadata": {},
          "execution_count": 99
        }
      ]
    },
    {
      "cell_type": "code",
      "source": [
        "np.cumsum(b,axis=0)#column wise cum sum"
      ],
      "metadata": {
        "colab": {
          "base_uri": "https://localhost:8080/"
        },
        "id": "C-9FLUyjT64a",
        "outputId": "8dd344e0-d801-41ba-bdad-3df92b5416c3"
      },
      "execution_count": 100,
      "outputs": [
        {
          "output_type": "execute_result",
          "data": {
            "text/plain": [
              "array([[ 70,  65,  42,  57],\n",
              "       [ 89,  90,  73,  67],\n",
              "       [118, 113,  97, 141],\n",
              "       [215, 196, 133, 227],\n",
              "       [241, 198, 185, 266],\n",
              "       [297, 247, 199, 307]])"
            ]
          },
          "metadata": {},
          "execution_count": 100
        }
      ]
    },
    {
      "cell_type": "code",
      "source": [
        "print(a)\n",
        "np.cumprod(a)"
      ],
      "metadata": {
        "colab": {
          "base_uri": "https://localhost:8080/"
        },
        "id": "20oRn-r4UC_s",
        "outputId": "9f82380c-f2ff-4045-8a06-07a498984fbf"
      },
      "execution_count": 102,
      "outputs": [
        {
          "output_type": "stream",
          "name": "stdout",
          "text": [
            "[89 78 79 91 75 83 87 53 59 67 46  7 95 12 36]\n"
          ]
        },
        {
          "output_type": "execute_result",
          "data": {
            "text/plain": [
              "array([                  89,                 6942,               548418,\n",
              "                   49906038,           3742952850,         310665086550,\n",
              "             27027862529850,     1432476714082050,    84516126130840950,\n",
              "        5662580450766343650,  2224283703318085276, -2876758150482954684,\n",
              "        3409136809762579260,  4016153569731847888, -2992424079329888960])"
            ]
          },
          "metadata": {},
          "execution_count": 102
        }
      ]
    },
    {
      "cell_type": "code",
      "source": [
        "np.flip(a)#reverse the order of elements"
      ],
      "metadata": {
        "colab": {
          "base_uri": "https://localhost:8080/"
        },
        "id": "4chw7BTqUeVN",
        "outputId": "a24ff4b0-4e68-4cb3-e16e-b33398b71cf5"
      },
      "execution_count": 104,
      "outputs": [
        {
          "output_type": "execute_result",
          "data": {
            "text/plain": [
              "array([36, 12, 95,  7, 46, 67, 59, 53, 87, 83, 75, 91, 79, 78, 89])"
            ]
          },
          "metadata": {},
          "execution_count": 104
        }
      ]
    },
    {
      "cell_type": "code",
      "source": [
        "np.put(a,[0,1,2],[11,11,11])#replace specific elments with given numbers\n",
        "a"
      ],
      "metadata": {
        "colab": {
          "base_uri": "https://localhost:8080/"
        },
        "id": "c8JS0arDVAFu",
        "outputId": "05d20064-8ca7-49c0-c05f-736e943b7fe3"
      },
      "execution_count": 107,
      "outputs": [
        {
          "output_type": "execute_result",
          "data": {
            "text/plain": [
              "array([11, 11, 11, 91, 75, 83, 87, 53, 59, 67, 46,  7, 95, 12, 36])"
            ]
          },
          "metadata": {},
          "execution_count": 107
        }
      ]
    },
    {
      "cell_type": "code",
      "source": [
        "print(np.delete(a,0)) #delete 0 index item"
      ],
      "metadata": {
        "colab": {
          "base_uri": "https://localhost:8080/"
        },
        "id": "Zb_Ad_HAVQ55",
        "outputId": "98c297e8-a0a8-4a39-dc8c-5824948ebf39"
      },
      "execution_count": 116,
      "outputs": [
        {
          "output_type": "stream",
          "name": "stdout",
          "text": [
            "[11 11 91 75 83 87 53 59 67 46  7 95 12 36]\n"
          ]
        },
        {
          "output_type": "execute_result",
          "data": {
            "text/plain": [
              "array([11, 11, 11, 91, 75, 83, 87, 53, 59, 67, 46,  7, 95, 12, 36])"
            ]
          },
          "metadata": {},
          "execution_count": 116
        }
      ]
    },
    {
      "cell_type": "markdown",
      "source": [
        "set functions"
      ],
      "metadata": {
        "id": "9ErobYlFW84h"
      }
    },
    {
      "cell_type": "code",
      "source": [
        "m = np.array([1,2,3,4,5])\n",
        "n = np.array([3,4,5,6,7])\n"
      ],
      "metadata": {
        "id": "t9Fsn3VXW-Ua"
      },
      "execution_count": 118,
      "outputs": []
    },
    {
      "cell_type": "code",
      "source": [
        "np.union1d(m,n)"
      ],
      "metadata": {
        "colab": {
          "base_uri": "https://localhost:8080/"
        },
        "id": "TQUcmUwIXAKp",
        "outputId": "30349b5b-08b8-4bf9-98ff-0afd155c845e"
      },
      "execution_count": 119,
      "outputs": [
        {
          "output_type": "execute_result",
          "data": {
            "text/plain": [
              "array([1, 2, 3, 4, 5, 6, 7])"
            ]
          },
          "metadata": {},
          "execution_count": 119
        }
      ]
    },
    {
      "cell_type": "code",
      "source": [
        "np.intersect1d(m,n)"
      ],
      "metadata": {
        "colab": {
          "base_uri": "https://localhost:8080/"
        },
        "id": "EazH8CEgXFe9",
        "outputId": "b5f25e8b-1dbd-45bc-e2ab-1ea26d8686f6"
      },
      "execution_count": 120,
      "outputs": [
        {
          "output_type": "execute_result",
          "data": {
            "text/plain": [
              "array([3, 4, 5])"
            ]
          },
          "metadata": {},
          "execution_count": 120
        }
      ]
    },
    {
      "cell_type": "code",
      "source": [
        "np.setdiff1d(m,n)"
      ],
      "metadata": {
        "colab": {
          "base_uri": "https://localhost:8080/"
        },
        "id": "9gf3yI3FXIL9",
        "outputId": "685da931-d263-4e88-fb3c-283027d14cdb"
      },
      "execution_count": 121,
      "outputs": [
        {
          "output_type": "execute_result",
          "data": {
            "text/plain": [
              "array([1, 2])"
            ]
          },
          "metadata": {},
          "execution_count": 121
        }
      ]
    },
    {
      "cell_type": "code",
      "source": [
        "np.setxor1d(m,n)"
      ],
      "metadata": {
        "colab": {
          "base_uri": "https://localhost:8080/"
        },
        "id": "OjXsU7siXL2k",
        "outputId": "b3cbb232-7bac-4ac3-c015-3f56c104c649"
      },
      "execution_count": 122,
      "outputs": [
        {
          "output_type": "execute_result",
          "data": {
            "text/plain": [
              "array([1, 2, 6, 7])"
            ]
          },
          "metadata": {},
          "execution_count": 122
        }
      ]
    },
    {
      "cell_type": "code",
      "source": [],
      "metadata": {
        "id": "k3S5Let2XQat"
      },
      "execution_count": null,
      "outputs": []
    }
  ]
}