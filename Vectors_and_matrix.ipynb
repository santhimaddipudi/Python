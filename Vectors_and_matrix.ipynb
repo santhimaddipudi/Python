{
  "nbformat": 4,
  "nbformat_minor": 0,
  "metadata": {
    "colab": {
      "provenance": [],
      "authorship_tag": "ABX9TyMnpvVMrWad3t9eL2osxaz+",
      "include_colab_link": true
    },
    "kernelspec": {
      "name": "python3",
      "display_name": "Python 3"
    },
    "language_info": {
      "name": "python"
    }
  },
  "cells": [
    {
      "cell_type": "markdown",
      "metadata": {
        "id": "view-in-github",
        "colab_type": "text"
      },
      "source": [
        "<a href=\"https://colab.research.google.com/github/santhimaddipudi/Python/blob/master/Vectors_and_matrix.ipynb\" target=\"_parent\"><img src=\"https://colab.research.google.com/assets/colab-badge.svg\" alt=\"Open In Colab\"/></a>"
      ]
    },
    {
      "cell_type": "code",
      "execution_count": 1,
      "metadata": {
        "id": "7eo70PZWjgFC"
      },
      "outputs": [],
      "source": [
        "import numpy as np"
      ]
    },
    {
      "cell_type": "code",
      "source": [
        "#vector--1D\n",
        "x=np.array([1,2,3,4])\n",
        "x"
      ],
      "metadata": {
        "colab": {
          "base_uri": "https://localhost:8080/"
        },
        "id": "Qaz5x06wjm0M",
        "outputId": "b5c262e8-4400-4f23-96ef-8edbc907eeee"
      },
      "execution_count": 3,
      "outputs": [
        {
          "output_type": "execute_result",
          "data": {
            "text/plain": [
              "array([1, 2, 3, 4])"
            ]
          },
          "metadata": {},
          "execution_count": 3
        }
      ]
    },
    {
      "cell_type": "code",
      "source": [
        "x.shape"
      ],
      "metadata": {
        "colab": {
          "base_uri": "https://localhost:8080/"
        },
        "id": "LESbaxy-j6at",
        "outputId": "61115477-af8b-4d98-d1ea-5c2795ff0466"
      },
      "execution_count": 5,
      "outputs": [
        {
          "output_type": "execute_result",
          "data": {
            "text/plain": [
              "(4,)"
            ]
          },
          "metadata": {},
          "execution_count": 5
        }
      ]
    },
    {
      "cell_type": "code",
      "source": [
        "a=np.array([[1,2],[3,4],[5,6]])\n",
        "a"
      ],
      "metadata": {
        "colab": {
          "base_uri": "https://localhost:8080/"
        },
        "id": "jwH-_o2bj-tr",
        "outputId": "a82173c3-ad24-4d28-b3fd-bf03b581dd93"
      },
      "execution_count": 8,
      "outputs": [
        {
          "output_type": "execute_result",
          "data": {
            "text/plain": [
              "array([[1, 2],\n",
              "       [3, 4],\n",
              "       [5, 6]])"
            ]
          },
          "metadata": {},
          "execution_count": 8
        }
      ]
    },
    {
      "cell_type": "code",
      "source": [
        "a.shape"
      ],
      "metadata": {
        "colab": {
          "base_uri": "https://localhost:8080/"
        },
        "id": "XBnX9bUHkNSj",
        "outputId": "18453b6d-7a60-46e2-ff28-9a4dfefa8ffc"
      },
      "execution_count": 9,
      "outputs": [
        {
          "output_type": "execute_result",
          "data": {
            "text/plain": [
              "(3, 2)"
            ]
          },
          "metadata": {},
          "execution_count": 9
        }
      ]
    },
    {
      "cell_type": "code",
      "source": [
        "#TRANSPOSE\n",
        "a.T"
      ],
      "metadata": {
        "colab": {
          "base_uri": "https://localhost:8080/"
        },
        "id": "BLiibu50kOo7",
        "outputId": "dd13ea90-00bc-4d23-8f6d-5a08da8af63f"
      },
      "execution_count": 10,
      "outputs": [
        {
          "output_type": "execute_result",
          "data": {
            "text/plain": [
              "array([[1, 3, 5],\n",
              "       [2, 4, 6]])"
            ]
          },
          "metadata": {},
          "execution_count": 10
        }
      ]
    },
    {
      "cell_type": "code",
      "source": [
        "2+a#add scalar to every element in matrix(braodcast)"
      ],
      "metadata": {
        "colab": {
          "base_uri": "https://localhost:8080/"
        },
        "id": "F8W2A2CBkkYs",
        "outputId": "deed0d86-3228-405c-da63-61bb97aa2d7a"
      },
      "execution_count": 11,
      "outputs": [
        {
          "output_type": "execute_result",
          "data": {
            "text/plain": [
              "array([[3, 4],\n",
              "       [5, 6],\n",
              "       [7, 8]])"
            ]
          },
          "metadata": {},
          "execution_count": 11
        }
      ]
    },
    {
      "cell_type": "code",
      "source": [
        "a1=np.array([[2,3,4],[1,2,3],[3,5,6]])\n",
        "b1=np.array([[1],[2],[3]])\n",
        "print(a1)\n",
        "print(b1)"
      ],
      "metadata": {
        "colab": {
          "base_uri": "https://localhost:8080/"
        },
        "id": "S6hExlH7k21s",
        "outputId": "dd3c80bc-2688-4aec-9448-65017a26f60c"
      },
      "execution_count": 12,
      "outputs": [
        {
          "output_type": "stream",
          "name": "stdout",
          "text": [
            "[[2 3 4]\n",
            " [1 2 3]\n",
            " [3 5 6]]\n",
            "[[1]\n",
            " [2]\n",
            " [3]]\n"
          ]
        }
      ]
    },
    {
      "cell_type": "code",
      "source": [
        "print(a1+b1)"
      ],
      "metadata": {
        "colab": {
          "base_uri": "https://localhost:8080/"
        },
        "id": "4VZwwqBQlJ4M",
        "outputId": "9ea11810-1644-4821-ee74-1f700b1647ac"
      },
      "execution_count": 13,
      "outputs": [
        {
          "output_type": "stream",
          "name": "stdout",
          "text": [
            "[[3 4 5]\n",
            " [3 4 5]\n",
            " [6 8 9]]\n"
          ]
        }
      ]
    },
    {
      "cell_type": "code",
      "source": [
        "c1=np.array([1,1,1])#python will broadcast the array with other array\n",
        "print(a1+c1)"
      ],
      "metadata": {
        "colab": {
          "base_uri": "https://localhost:8080/"
        },
        "id": "C-W5wg9XlOf0",
        "outputId": "a36139ea-e03a-42b0-c9da-6071f896bf34"
      },
      "execution_count": 14,
      "outputs": [
        {
          "output_type": "stream",
          "name": "stdout",
          "text": [
            "[[3 4 5]\n",
            " [2 3 4]\n",
            " [4 6 7]]\n"
          ]
        }
      ]
    },
    {
      "cell_type": "code",
      "source": [
        "print((a1+c1).shape)"
      ],
      "metadata": {
        "colab": {
          "base_uri": "https://localhost:8080/"
        },
        "id": "_TkB4cxzlg-k",
        "outputId": "2f66e820-84a9-42f5-bf95-e30a6d6a9181"
      },
      "execution_count": 16,
      "outputs": [
        {
          "output_type": "stream",
          "name": "stdout",
          "text": [
            "(3, 3)\n"
          ]
        }
      ]
    },
    {
      "cell_type": "code",
      "source": [
        "e=np.array([[1,0],[0,1]])\n",
        "e\n",
        "np.linalg.inv(e)"
      ],
      "metadata": {
        "colab": {
          "base_uri": "https://localhost:8080/"
        },
        "id": "MmjDQk8zniEj",
        "outputId": "0ee1e9cd-9fb1-4aa7-f233-1221551ad480"
      },
      "execution_count": 21,
      "outputs": [
        {
          "output_type": "execute_result",
          "data": {
            "text/plain": [
              "array([[1., 0.],\n",
              "       [0., 1.]])"
            ]
          },
          "metadata": {},
          "execution_count": 21
        }
      ]
    },
    {
      "cell_type": "code",
      "source": [
        "#yield element wise multiplication known as the Hadamard Product\n",
        "a1=np.array([[1,2],[2,3]])\n",
        "a2=np.array([[1,3],[3,3]])\n",
        "#print(a1@a2) #matrix multiplication\n",
        "print(a1*a2) #Hadamard Product,same as below--element wise multiplication\n",
        "#np.multiply(a1, a2)#Hadamard Product"
      ],
      "metadata": {
        "colab": {
          "base_uri": "https://localhost:8080/"
        },
        "id": "Id1d5NA0wcpd",
        "outputId": "f83b6027-7383-4650-b965-c3cbd1c80a3e"
      },
      "execution_count": 51,
      "outputs": [
        {
          "output_type": "stream",
          "name": "stdout",
          "text": [
            "[[1 6]\n",
            " [6 9]]\n"
          ]
        }
      ]
    },
    {
      "cell_type": "code",
      "source": [
        "#dot product\n",
        "a1=np.array([[1,2],[2,3]])\n",
        "a2=np.array([[1,3],[3,3]])\n",
        "print(a1)\n",
        "print(a2)\n",
        "np.dot(a1,a2)"
      ],
      "metadata": {
        "colab": {
          "base_uri": "https://localhost:8080/"
        },
        "id": "I7zxROZNyjHd",
        "outputId": "cd79553d-abcc-4584-9fe7-6c6461e18e26"
      },
      "execution_count": 35,
      "outputs": [
        {
          "output_type": "stream",
          "name": "stdout",
          "text": [
            "[[1 2]\n",
            " [2 3]]\n",
            "[[1 3]\n",
            " [3 3]]\n"
          ]
        },
        {
          "output_type": "execute_result",
          "data": {
            "text/plain": [
              "array([[ 7,  9],\n",
              "       [11, 15]])"
            ]
          },
          "metadata": {},
          "execution_count": 35
        }
      ]
    },
    {
      "cell_type": "code",
      "source": [
        "np.dot(a2,a1)"
      ],
      "metadata": {
        "colab": {
          "base_uri": "https://localhost:8080/"
        },
        "id": "hs3pRmeDzQtd",
        "outputId": "c6033bd8-cdf6-4a6b-cb5b-86eab3934188"
      },
      "execution_count": 34,
      "outputs": [
        {
          "output_type": "execute_result",
          "data": {
            "text/plain": [
              "array([[ 7, 11],\n",
              "       [ 9, 15]])"
            ]
          },
          "metadata": {},
          "execution_count": 34
        }
      ]
    },
    {
      "cell_type": "code",
      "source": [
        "#dot product of two diffrent dim matrixes\n",
        "m1=np.array([[1,2],[2,3]])\n",
        "m2=np.array([[1,2,1],[1,2,3]])\n",
        "print(np.dot(m1,m2)) #dot product\n",
        "print(m1@m2) #Matrix product"
      ],
      "metadata": {
        "colab": {
          "base_uri": "https://localhost:8080/"
        },
        "id": "ovzz9f6e0XUM",
        "outputId": "571ff863-3514-4d68-a941-097f6d88e191"
      },
      "execution_count": 61,
      "outputs": [
        {
          "output_type": "stream",
          "name": "stdout",
          "text": [
            "[[ 3  6  7]\n",
            " [ 5 10 11]]\n",
            "[[ 3  6  7]\n",
            " [ 5 10 11]]\n"
          ]
        }
      ]
    },
    {
      "cell_type": "code",
      "source": [
        "#dot product of vectors is scalar value\n",
        "import numpy as np\n",
        "\n",
        "v = np.array([1,2,3])\n",
        "u = np.array([3,2,4])\n",
        "\n",
        "print(np.dot(v,u))"
      ],
      "metadata": {
        "colab": {
          "base_uri": "https://localhost:8080/"
        },
        "id": "E11vmdAe2PX9",
        "outputId": "75e3e0f3-5e97-428b-e38c-869810e3b58c"
      },
      "execution_count": 42,
      "outputs": [
        {
          "output_type": "stream",
          "name": "stdout",
          "text": [
            "19\n"
          ]
        }
      ]
    },
    {
      "cell_type": "code",
      "source": [
        "#scalar with array\n",
        "r=2\n",
        "np.dot(r,u)"
      ],
      "metadata": {
        "colab": {
          "base_uri": "https://localhost:8080/"
        },
        "id": "YR9GdLMX3Pkl",
        "outputId": "10db1c1e-6665-473f-b1d5-287f431a3b8c"
      },
      "execution_count": 43,
      "outputs": [
        {
          "output_type": "execute_result",
          "data": {
            "text/plain": [
              "array([6, 4, 8])"
            ]
          },
          "metadata": {},
          "execution_count": 43
        }
      ]
    },
    {
      "cell_type": "code",
      "source": [
        "h1=np.array([[3,4,5],[6,7,8]])\n",
        "h2=np.array([[1,2],[3,4],[5,1]])\n",
        "print(h1@h2)#matrix product\n",
        "print(h2@h1)#matrix product\n"
      ],
      "metadata": {
        "colab": {
          "base_uri": "https://localhost:8080/"
        },
        "id": "YUkrcWlE30gc",
        "outputId": "83edaf7d-9ef2-43bd-9f6b-9deb93959643"
      },
      "execution_count": 62,
      "outputs": [
        {
          "output_type": "stream",
          "name": "stdout",
          "text": [
            "[[40 27]\n",
            " [67 48]]\n",
            "[[15 18 21]\n",
            " [33 40 47]\n",
            " [21 27 33]]\n"
          ]
        }
      ]
    },
    {
      "cell_type": "markdown",
      "source": [
        "##cross product"
      ],
      "metadata": {
        "id": "rZIuyZrdDBh5"
      }
    },
    {
      "cell_type": "markdown",
      "source": [],
      "metadata": {
        "id": "hVilucTgC-9Z"
      }
    },
    {
      "cell_type": "code",
      "source": [
        "# import library\n",
        "import numpy as np\n",
        "\n",
        "# declare vectors\n",
        "x = [1, 2]\n",
        "y = [3, 4]\n",
        "\n",
        "# find cross product of\n",
        "# two given vectors\n",
        "result = np.cross(x, y)\n",
        "\n",
        "# show the result\n",
        "print(result)"
      ],
      "metadata": {
        "colab": {
          "base_uri": "https://localhost:8080/"
        },
        "id": "N6a6mXhdC6pK",
        "outputId": "85b434bf-ebd0-4256-fbf6-4720f7c7fce4"
      },
      "execution_count": 76,
      "outputs": [
        {
          "output_type": "stream",
          "name": "stdout",
          "text": [
            "-2\n"
          ]
        }
      ]
    },
    {
      "cell_type": "code",
      "source": [
        "# import library\n",
        "import numpy as np\n",
        "\n",
        "# declare vectors\n",
        "x = [[1,2], [8,4]]\n",
        "y = [[2,1], [3,2]]\n",
        "\n",
        "# find cross product of\n",
        "# two given vectors\n",
        "print(x)\n",
        "print(y)\n",
        "result = np.cross(x, y)#1x1-2x2,8x2-3X4=>-3,4\n",
        "\n",
        "\n",
        "# show the result\n",
        "print(result)\n"
      ],
      "metadata": {
        "colab": {
          "base_uri": "https://localhost:8080/"
        },
        "id": "PzBN2nbHINjb",
        "outputId": "bae5bdcb-324d-4373-8507-71eab81dab4b"
      },
      "execution_count": 89,
      "outputs": [
        {
          "output_type": "stream",
          "name": "stdout",
          "text": [
            "[[1, 2], [8, 4]]\n",
            "[[2, 1], [3, 2]]\n",
            "[-3  4]\n"
          ]
        }
      ]
    },
    {
      "cell_type": "code",
      "source": [
        "# Example 3: One Vector 2D\n",
        "arr = np.array([2,4,2])\n",
        "arr1 = np.array([3,5,2])\n",
        "print(np.cross(arr, arr1))\n",
        "print(np.cross(arr1, arr))"
      ],
      "metadata": {
        "colab": {
          "base_uri": "https://localhost:8080/"
        },
        "id": "aepLp1kILMk5",
        "outputId": "58562b88-469b-47f5-a1ad-d21b169fdd4b"
      },
      "execution_count": 94,
      "outputs": [
        {
          "output_type": "stream",
          "name": "stdout",
          "text": [
            "[-2  2 -2]\n",
            "[ 2 -2  2]\n"
          ]
        }
      ]
    },
    {
      "cell_type": "code",
      "source": [
        "#L1 norm\n",
        "arr = np.array([1,2,3,4])\n",
        "np.linalg.norm(arr,1) #1+2+3+4"
      ],
      "metadata": {
        "colab": {
          "base_uri": "https://localhost:8080/"
        },
        "id": "gOxAeyhhRFbf",
        "outputId": "1015e5e0-bb73-4cde-8b67-60f415eee538"
      },
      "execution_count": 96,
      "outputs": [
        {
          "output_type": "execute_result",
          "data": {
            "text/plain": [
              "10.0"
            ]
          },
          "metadata": {},
          "execution_count": 96
        }
      ]
    },
    {
      "cell_type": "code",
      "source": [
        "#L1 norm\n",
        "arr = np.array([-1,2,-3,4])\n",
        "np.linalg.norm(arr,1) #|-1|+|2|+|-3|+|4|  absolute values"
      ],
      "metadata": {
        "colab": {
          "base_uri": "https://localhost:8080/"
        },
        "id": "pixemkPbRf4I",
        "outputId": "0153a209-2adc-4170-b8d8-b0a40fe7ffed"
      },
      "execution_count": 97,
      "outputs": [
        {
          "output_type": "execute_result",
          "data": {
            "text/plain": [
              "10.0"
            ]
          },
          "metadata": {},
          "execution_count": 97
        }
      ]
    },
    {
      "cell_type": "code",
      "source": [
        "#L2 norm\n",
        "arr2 = np.array([1,2,3,4,5])\n",
        "np.linalg.norm(arr2)#sqrt(1^2 + 2^2 + 3^2 + 4^2 + 5^2) = 7.416\n",
        "# same as\n",
        "#np.linalg.norm(arr2,2)"
      ],
      "metadata": {
        "colab": {
          "base_uri": "https://localhost:8080/"
        },
        "id": "K_RuRuP4Smtg",
        "outputId": "c964f4a7-155f-4f09-8d72-10dd6793138c"
      },
      "execution_count": 103,
      "outputs": [
        {
          "output_type": "execute_result",
          "data": {
            "text/plain": [
              "7.416198487095663"
            ]
          },
          "metadata": {},
          "execution_count": 103
        }
      ]
    },
    {
      "cell_type": "markdown",
      "source": [
        "##Matrix Inversion"
      ],
      "metadata": {
        "id": "QtI_vKNUUO61"
      }
    },
    {
      "cell_type": "code",
      "source": [
        "# Import required package\n",
        "import numpy as np\n",
        "\n",
        "# Taking a 3 * 3 matrix\n",
        "A = np.array([[6, 1, 1],\n",
        "              [4, -2, 5],\n",
        "              [2, 8, 7]])\n",
        "\n",
        "# Calculating the inverse of the matrix\n",
        "print(np.linalg.inv(A))"
      ],
      "metadata": {
        "colab": {
          "base_uri": "https://localhost:8080/"
        },
        "id": "Ip7I7zdrUOMB",
        "outputId": "c71721f8-4167-49d6-b335-68280e5ba4ae"
      },
      "execution_count": 114,
      "outputs": [
        {
          "output_type": "stream",
          "name": "stdout",
          "text": [
            "[[ 0.17647059 -0.00326797 -0.02287582]\n",
            " [ 0.05882353 -0.13071895  0.08496732]\n",
            " [-0.11764706  0.1503268   0.05228758]]\n"
          ]
        }
      ]
    },
    {
      "cell_type": "markdown",
      "source": [
        "###SVD -Singular Value Decomposition"
      ],
      "metadata": {
        "id": "EBCqxSLRZIds"
      }
    },
    {
      "cell_type": "code",
      "source": [
        "#svd\n",
        "m1 = np.array([[1,2,3],[4,5,6],[7,8,9]])\n",
        "np.linalg.svd(m1)"
      ],
      "metadata": {
        "colab": {
          "base_uri": "https://localhost:8080/"
        },
        "id": "fPNRPQYiZIAl",
        "outputId": "54327606-fe75-4564-e8a8-f1cc43b19349"
      },
      "execution_count": 115,
      "outputs": [
        {
          "output_type": "execute_result",
          "data": {
            "text/plain": [
              "(array([[-0.21483724,  0.88723069,  0.40824829],\n",
              "        [-0.52058739,  0.24964395, -0.81649658],\n",
              "        [-0.82633754, -0.38794278,  0.40824829]]),\n",
              " array([1.68481034e+01, 1.06836951e+00, 4.41842475e-16]),\n",
              " array([[-0.47967118, -0.57236779, -0.66506441],\n",
              "        [-0.77669099, -0.07568647,  0.62531805],\n",
              "        [-0.40824829,  0.81649658, -0.40824829]]))"
            ]
          },
          "metadata": {},
          "execution_count": 115
        }
      ]
    },
    {
      "cell_type": "code",
      "source": [
        "#svd\n",
        "m1 = np.array([[1,8],[3,5]])\n",
        "np.linalg.svd(m1)"
      ],
      "metadata": {
        "colab": {
          "base_uri": "https://localhost:8080/"
        },
        "id": "NF-QdakEair1",
        "outputId": "9f6a764d-bacc-4f3e-8ab5-64070447560a"
      },
      "execution_count": 124,
      "outputs": [
        {
          "output_type": "execute_result",
          "data": {
            "text/plain": [
              "(array([[-0.81826243, -0.57484485],\n",
              "        [-0.57484485,  0.81826243]]),\n",
              " array([9.75747479, 1.94722512]),\n",
              " array([[-0.2605999 , -0.96544689],\n",
              "        [ 0.96544689, -0.2605999 ]]))"
            ]
          },
          "metadata": {},
          "execution_count": 124
        }
      ]
    },
    {
      "cell_type": "markdown",
      "source": [
        "##Covariance matrix\n"
      ],
      "metadata": {
        "id": "Jsx0Hodca5mX"
      }
    },
    {
      "cell_type": "code",
      "source": [
        "m1 = np.array([[1,2],[9,6]])\n",
        "np.cov(m1)"
      ],
      "metadata": {
        "colab": {
          "base_uri": "https://localhost:8080/"
        },
        "id": "rFAXzRY1a8UJ",
        "outputId": "7224807b-5197-4b6e-eea6-379d930aae6a"
      },
      "execution_count": 131,
      "outputs": [
        {
          "output_type": "execute_result",
          "data": {
            "text/plain": [
              "array([[ 0.5, -1.5],\n",
              "       [-1.5,  4.5]])"
            ]
          },
          "metadata": {},
          "execution_count": 131
        }
      ]
    },
    {
      "cell_type": "code",
      "source": [
        "x = np.array([[0, 2], [1, 1], [2, 0]]).T\n",
        "print(x)\n",
        "np.cov(x)"
      ],
      "metadata": {
        "colab": {
          "base_uri": "https://localhost:8080/"
        },
        "id": "v8qmQAG7cT6k",
        "outputId": "b081385c-cbb3-40fb-d597-c08bba5c0960"
      },
      "execution_count": 133,
      "outputs": [
        {
          "output_type": "stream",
          "name": "stdout",
          "text": [
            "[[0 1 2]\n",
            " [2 1 0]]\n"
          ]
        },
        {
          "output_type": "execute_result",
          "data": {
            "text/plain": [
              "array([[ 1., -1.],\n",
              "       [-1.,  1.]])"
            ]
          },
          "metadata": {},
          "execution_count": 133
        }
      ]
    },
    {
      "cell_type": "code",
      "source": [
        "import numpy as np\n",
        "\n",
        "A = [45, 37, 42, 35, 39,78,88,32,21]\n",
        "B = [38, 31, 26, 28, 33,88,35, 39,78]\n",
        "C = [10, 15, 17, 21, 12,76,35, 39,78]\n",
        "\n",
        "data = np.array([A, B, C])\n",
        "print(data)\n",
        "cov_matrix = np.cov(data, bias=True)\n",
        "print(cov_matrix)"
      ],
      "metadata": {
        "colab": {
          "base_uri": "https://localhost:8080/"
        },
        "id": "XYN4mxDccggW",
        "outputId": "51a25c61-4ffe-47aa-c50d-b34832c05868"
      },
      "execution_count": 139,
      "outputs": [
        {
          "output_type": "stream",
          "name": "stdout",
          "text": [
            "[[45 37 42 35 39 78 88 32 21]\n",
            " [38 31 26 28 33 88 35 39 78]\n",
            " [10 15 17 21 12 76 35 39 78]]\n",
            "[[430.66666667  77.55555556  86.33333333]\n",
            " [ 77.55555556 456.         495.22222222]\n",
            " [ 86.33333333 495.22222222 622.66666667]]\n"
          ]
        }
      ]
    },
    {
      "cell_type": "markdown",
      "source": [
        "###determinant"
      ],
      "metadata": {
        "id": "wY3IcX4beTt0"
      }
    },
    {
      "cell_type": "code",
      "source": [
        "import numpy as np\n",
        "a = np.array([[1,2], [3,4]])\n",
        "print(np.linalg.det(a))"
      ],
      "metadata": {
        "colab": {
          "base_uri": "https://localhost:8080/"
        },
        "id": "gpNfQE6oeTOh",
        "outputId": "69bc3b94-bf1a-4b9f-8d1c-6b2f366c2eae"
      },
      "execution_count": 141,
      "outputs": [
        {
          "output_type": "stream",
          "name": "stdout",
          "text": [
            "-2.0000000000000004\n"
          ]
        }
      ]
    },
    {
      "cell_type": "code",
      "source": [
        "import numpy as np\n",
        "\n",
        "b = np.array([[6,1,1], [4, -2, 5], [2,8,7]])\n",
        "print(b)\n",
        "np.linalg.det(b)\n",
        "##print 6*(-2*7 - 5*8) - 1*(4*7 - 5*2) + 1*(4*8 - -2*2)"
      ],
      "metadata": {
        "colab": {
          "base_uri": "https://localhost:8080/"
        },
        "id": "etxERiYrono_",
        "outputId": "519e625d-db83-4603-adea-791798530136"
      },
      "execution_count": 143,
      "outputs": [
        {
          "output_type": "stream",
          "name": "stdout",
          "text": [
            "[[ 6  1  1]\n",
            " [ 4 -2  5]\n",
            " [ 2  8  7]]\n"
          ]
        },
        {
          "output_type": "execute_result",
          "data": {
            "text/plain": [
              "-306.0"
            ]
          },
          "metadata": {},
          "execution_count": 143
        }
      ]
    },
    {
      "cell_type": "markdown",
      "source": [
        "###Rank of matrix"
      ],
      "metadata": {
        "id": "YrX7bMqHpUy9"
      }
    },
    {
      "cell_type": "code",
      "source": [
        "matrixA = np.array([[1, 2, 3, 23],\n",
        "                       [4, 5, 6, 25],\n",
        "                       [7, 8, 9, 28],\n",
        "                       [10, 11, 12, 41]])\n",
        "np.linalg.matrix_rank(matrixA)"
      ],
      "metadata": {
        "colab": {
          "base_uri": "https://localhost:8080/"
        },
        "id": "Y4ARKkwPpWzA",
        "outputId": "f766e87e-dbf6-469c-a38a-53b3ade203e0"
      },
      "execution_count": 144,
      "outputs": [
        {
          "output_type": "execute_result",
          "data": {
            "text/plain": [
              "3"
            ]
          },
          "metadata": {},
          "execution_count": 144
        }
      ]
    },
    {
      "cell_type": "code",
      "source": [
        "my_matrix = np.array([[1, 2, 1], [2, 4,3], [3, 6, 3]])\n",
        "print(\"Matrix\",my_matrix)\n",
        "np.linalg.matrix_rank(my_matrix) #In the above example, we can note that row3 can be obtained by multiplying row1 by 3\n",
        " #other rows we can't get like that so rank is 2//same applies to columns\n"
      ],
      "metadata": {
        "colab": {
          "base_uri": "https://localhost:8080/"
        },
        "id": "WAi_67Ygq6sr",
        "outputId": "c4bb0a13-20b9-4d7c-c249-7d3976a51bd9"
      },
      "execution_count": 153,
      "outputs": [
        {
          "output_type": "stream",
          "name": "stdout",
          "text": [
            "Matrix [[1 2 1]\n",
            " [2 4 3]\n",
            " [3 6 3]]\n"
          ]
        },
        {
          "output_type": "execute_result",
          "data": {
            "text/plain": [
              "2"
            ]
          },
          "metadata": {},
          "execution_count": 153
        }
      ]
    }
  ]
}