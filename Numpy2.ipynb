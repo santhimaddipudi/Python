{
  "nbformat": 4,
  "nbformat_minor": 0,
  "metadata": {
    "colab": {
      "provenance": [],
      "authorship_tag": "ABX9TyMcHjUO2C7H1Hkjnxus3+fl",
      "include_colab_link": true
    },
    "kernelspec": {
      "name": "python3",
      "display_name": "Python 3"
    },
    "language_info": {
      "name": "python"
    }
  },
  "cells": [
    {
      "cell_type": "markdown",
      "metadata": {
        "id": "view-in-github",
        "colab_type": "text"
      },
      "source": [
        "<a href=\"https://colab.research.google.com/github/santhimaddipudi/Python/blob/master/Numpy2.ipynb\" target=\"_parent\"><img src=\"https://colab.research.google.com/assets/colab-badge.svg\" alt=\"Open In Colab\"/></a>"
      ]
    },
    {
      "cell_type": "code",
      "execution_count": 2,
      "metadata": {
        "colab": {
          "base_uri": "https://localhost:8080/"
        },
        "id": "bBFb7Q0AG-r3",
        "outputId": "01e43d97-dc29-45e1-e36e-a6026712170c"
      },
      "outputs": [
        {
          "output_type": "execute_result",
          "data": {
            "text/plain": [
              "array([[2, 0, 0, 0],\n",
              "       [0, 3, 0, 0],\n",
              "       [0, 0, 4, 0],\n",
              "       [0, 0, 0, 5]])"
            ]
          },
          "metadata": {},
          "execution_count": 2
        }
      ],
      "source": [
        "#creates a diagnal array\n",
        "import numpy as np\n",
        "np.diag((2,3,4,5))"
      ]
    },
    {
      "cell_type": "code",
      "source": [
        "np.random.seed(100) # Set seed\n",
        "ar11=np.random.rand(3); ar11"
      ],
      "metadata": {
        "colab": {
          "base_uri": "https://localhost:8080/"
        },
        "id": "4Pbjhyu1Hj2i",
        "outputId": "6019ac9e-9bf0-483a-a35d-0c4ac8aa1681"
      },
      "execution_count": 3,
      "outputs": [
        {
          "output_type": "execute_result",
          "data": {
            "text/plain": [
              "array([0.54340494, 0.27836939, 0.42451759])"
            ]
          },
          "metadata": {},
          "execution_count": 3
        }
      ]
    },
    {
      "cell_type": "code",
      "source": [
        "#create an uninitialized array\n",
        "ar13=np.empty((3,2)); ar13"
      ],
      "metadata": {
        "colab": {
          "base_uri": "https://localhost:8080/"
        },
        "id": "cjmeKh-kIU3X",
        "outputId": "11a6b242-a5dd-4599-f912-55a6986ce763"
      },
      "execution_count": 4,
      "outputs": [
        {
          "output_type": "execute_result",
          "data": {
            "text/plain": [
              "array([[4.81078028e-310, 0.00000000e+000],\n",
              "       [2.05833592e-312, 6.79038654e-313],\n",
              "       [2.14321575e-312, 2.27053550e-312]])"
            ]
          },
          "metadata": {},
          "execution_count": 4
        }
      ]
    },
    {
      "cell_type": "code",
      "source": [
        "#allows one to construct an array from a smaller array by repeating it several times on the basis of a parameter:\n",
        "a1=np.tile(np.array([[1,2],[6,7]]),3)\n",
        "print(a1)\n",
        "a2=np.tile(np.array([[1,2],[6,7]]),(2,2))\n",
        "print(a2)"
      ],
      "metadata": {
        "colab": {
          "base_uri": "https://localhost:8080/"
        },
        "id": "IlW3DzR3Iv8D",
        "outputId": "d77bd782-1fa6-4c1c-b288-1e4fac61c64c"
      },
      "execution_count": 7,
      "outputs": [
        {
          "output_type": "stream",
          "name": "stdout",
          "text": [
            "[[1 2 1 2 1 2]\n",
            " [6 7 6 7 6 7]]\n",
            "[[1 2 1 2]\n",
            " [6 7 6 7]\n",
            " [1 2 1 2]\n",
            " [6 7 6 7]]\n"
          ]
        }
      ]
    }
  ]
}