{
  "nbformat": 4,
  "nbformat_minor": 0,
  "metadata": {
    "colab": {
      "provenance": [],
      "authorship_tag": "ABX9TyOMYDuiV9vxVcoXvtNDcTC+",
      "include_colab_link": true
    },
    "kernelspec": {
      "name": "python3",
      "display_name": "Python 3"
    },
    "language_info": {
      "name": "python"
    }
  },
  "cells": [
    {
      "cell_type": "markdown",
      "metadata": {
        "id": "view-in-github",
        "colab_type": "text"
      },
      "source": [
        "<a href=\"https://colab.research.google.com/github/santhimaddipudi/Python-work/blob/master/ML1_EDA.ipynb\" target=\"_parent\"><img src=\"https://colab.research.google.com/assets/colab-badge.svg\" alt=\"Open In Colab\"/></a>"
      ]
    },
    {
      "cell_type": "code",
      "execution_count": 6,
      "metadata": {
        "colab": {
          "base_uri": "https://localhost:8080/"
        },
        "id": "WEDFV9ON8Rop",
        "outputId": "3267bf4d-3705-4e47-d25d-a201c8509a41"
      },
      "outputs": [
        {
          "output_type": "stream",
          "name": "stdout",
          "text": [
            "         State  Population  Murderrate Abbreviation\n",
            "0      Alabama     4779736         5.7           AL\n",
            "1       Alaska      710231         5.6           AK\n",
            "2      Arizona     6392017         4.7           AZ\n",
            "3     Arkansas     2915918         5.6           AR\n",
            "4   California    37253956         4.4           CA\n",
            "5     Colorado     5029196         2.8           CO\n",
            "6  Connecticut     3574097         2.4           CT\n",
            "7     Delaware      897934         5.8           DE\n"
          ]
        }
      ],
      "source": [
        "import pandas as pd\n",
        "import io\n",
        "\n",
        "state = pd.read_csv(\"/content/sample_data/state.csv\")\n",
        "print(state)"
      ]
    },
    {
      "cell_type": "markdown",
      "source": [
        "##Mean and median"
      ],
      "metadata": {
        "id": "B9bvSA0YB0eC"
      }
    },
    {
      "cell_type": "code",
      "source": [
        "state['Population'].mean()"
      ],
      "metadata": {
        "colab": {
          "base_uri": "https://localhost:8080/"
        },
        "id": "VzqgkuTk_n90",
        "outputId": "62249bfd-22a1-4e13-8317-619b49954828"
      },
      "execution_count": 10,
      "outputs": [
        {
          "output_type": "execute_result",
          "data": {
            "text/plain": [
              "7694135.625"
            ]
          },
          "metadata": {},
          "execution_count": 10
        }
      ]
    },
    {
      "cell_type": "code",
      "source": [
        "state['Population'].median()"
      ],
      "metadata": {
        "colab": {
          "base_uri": "https://localhost:8080/"
        },
        "id": "0qL-1WBeBmlT",
        "outputId": "3c856d7d-7dcb-4cd4-c464-84ed52b2893e"
      },
      "execution_count": 11,
      "outputs": [
        {
          "output_type": "execute_result",
          "data": {
            "text/plain": [
              "4176916.5"
            ]
          },
          "metadata": {},
          "execution_count": 11
        }
      ]
    },
    {
      "cell_type": "markdown",
      "source": [
        "\n",
        "A trimmed mean  is the mean of a dataset that has been calculated after removing a specific percentage of the smallest and largest values from the dataset."
      ],
      "metadata": {
        "id": "L2ObgoQpCgX6"
      }
    },
    {
      "cell_type": "code",
      "source": [
        "#calculate 20% trimmed mean\n",
        "from scipy import stats\n",
        "stats.trim_mean(state['Population'], 0.2)"
      ],
      "metadata": {
        "colab": {
          "base_uri": "https://localhost:8080/"
        },
        "id": "hIMzTQvPBqAV",
        "outputId": "2db15c02-0b2a-47db-f00e-178918cd0d14"
      },
      "execution_count": 18,
      "outputs": [
        {
          "output_type": "execute_result",
          "data": {
            "text/plain": [
              "3931483.0"
            ]
          },
          "metadata": {},
          "execution_count": 18
        }
      ]
    },
    {
      "cell_type": "markdown",
      "source": [
        "weighted mean and weighted median"
      ],
      "metadata": {
        "id": "qdWjdZBfDRW5"
      }
    },
    {
      "cell_type": "code",
      "source": [
        "pip install weightedstats"
      ],
      "metadata": {
        "colab": {
          "base_uri": "https://localhost:8080/"
        },
        "id": "XI5U1cAuELER",
        "outputId": "47e88574-4a04-441c-e444-fc8cf0346b77"
      },
      "execution_count": 25,
      "outputs": [
        {
          "output_type": "stream",
          "name": "stdout",
          "text": [
            "Collecting weightedstats\n",
            "  Downloading weightedstats-0.4.1-py3-none-any.whl (3.8 kB)\n",
            "Installing collected packages: weightedstats\n",
            "Successfully installed weightedstats-0.4.1\n"
          ]
        }
      ]
    },
    {
      "cell_type": "code",
      "source": [
        "import numpy as np\n",
        "import weightedstats as ws\n",
        "ws.weighted_mean(state['Murderrate'], weights=state['Population'])\n",
        "##ws.weighted_median(state['Murderrate'], weights=state['Population'])"
      ],
      "metadata": {
        "colab": {
          "base_uri": "https://localhost:8080/"
        },
        "id": "pEnsK8w5DPQD",
        "outputId": "a434f7a5-1d09-4400-e1e0-d48382debe51"
      },
      "execution_count": 32,
      "outputs": [
        {
          "output_type": "execute_result",
          "data": {
            "text/plain": [
              "4.376359279149048"
            ]
          },
          "metadata": {},
          "execution_count": 32
        }
      ]
    },
    {
      "cell_type": "markdown",
      "source": [
        "#Standard deviation and quantiles\n",
        "\n",
        "\n"
      ],
      "metadata": {
        "id": "fMZ0yhftYUXt"
      }
    },
    {
      "cell_type": "code",
      "source": [
        "print(state['Population'].std())"
      ],
      "metadata": {
        "colab": {
          "base_uri": "https://localhost:8080/"
        },
        "id": "-gRZW8SkYO7x",
        "outputId": "f4516bde-1574-4a63-ffe4-b73c89694f7d"
      },
      "execution_count": 33,
      "outputs": [
        {
          "output_type": "stream",
          "name": "stdout",
          "text": [
            "12105745.29585633\n"
          ]
        }
      ]
    },
    {
      "cell_type": "code",
      "source": [],
      "metadata": {
        "id": "tQasqawYZCrn"
      },
      "execution_count": null,
      "outputs": []
    },
    {
      "cell_type": "code",
      "source": [
        "print(state['Population'].quantile(0.75) - state['Population'].quantile(0.25))"
      ],
      "metadata": {
        "colab": {
          "base_uri": "https://localhost:8080/"
        },
        "id": "9Y7qIhk5Yqvf",
        "outputId": "dcc6f23e-f486-4877-ba0c-0f4a31c9b8e3"
      },
      "execution_count": 38,
      "outputs": [
        {
          "output_type": "stream",
          "name": "stdout",
          "text": [
            "2958479.25\n"
          ]
        }
      ]
    },
    {
      "cell_type": "code",
      "source": [
        "#Median absolute deviation from the median can be calculated with a method in statsmodels\n",
        "#print(robust.scale.mad(state['Population']))\n",
        "print(abs(state['Population'] - state['Population'].median()).median() / 0.6744897501960817)"
      ],
      "metadata": {
        "colab": {
          "base_uri": "https://localhost:8080/"
        },
        "id": "ehOrDTawZPgi",
        "outputId": "eede2c7a-4fc4-4f65-8dbc-47bca53ac696"
      },
      "execution_count": 40,
      "outputs": [
        {
          "output_type": "stream",
          "name": "stdout",
          "text": [
            "2576836.044572552\n"
          ]
        }
      ]
    },
    {
      "cell_type": "markdown",
      "source": [],
      "metadata": {
        "id": "hGEk2xHhZy4G"
      }
    },
    {
      "cell_type": "markdown",
      "source": [
        "Variance and standard deviation are the most widespread and routinely reported\n",
        "statistics of variability.\n",
        "• Both are sensitive to outliers."
      ],
      "metadata": {
        "id": "ISX1cFMzZx0n"
      }
    }
  ]
}