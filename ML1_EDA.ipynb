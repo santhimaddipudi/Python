{
  "nbformat": 4,
  "nbformat_minor": 0,
  "metadata": {
    "colab": {
      "provenance": [],
      "authorship_tag": "ABX9TyMD5IquFV1zOUph8SiYLB/e",
      "include_colab_link": true
    },
    "kernelspec": {
      "name": "python3",
      "display_name": "Python 3"
    },
    "language_info": {
      "name": "python"
    }
  },
  "cells": [
    {
      "cell_type": "markdown",
      "metadata": {
        "id": "view-in-github",
        "colab_type": "text"
      },
      "source": [
        "<a href=\"https://colab.research.google.com/github/santhimaddipudi/Python-work/blob/master/ML1_EDA.ipynb\" target=\"_parent\"><img src=\"https://colab.research.google.com/assets/colab-badge.svg\" alt=\"Open In Colab\"/></a>"
      ]
    },
    {
      "cell_type": "code",
      "source": [
        "%matplotlib inline\n",
        "\n",
        "from pathlib import Path\n",
        "\n",
        "import pandas as pd\n",
        "import numpy as np\n",
        "from scipy.stats import trim_mean\n",
        "from statsmodels import robust\n",
        "\n",
        "\n",
        "import seaborn as sns\n",
        "import matplotlib.pylab as plt"
      ],
      "metadata": {
        "id": "lmRsP2xB4v_X"
      },
      "execution_count": null,
      "outputs": []
    },
    {
      "cell_type": "code",
      "execution_count": null,
      "metadata": {
        "colab": {
          "base_uri": "https://localhost:8080/"
        },
        "id": "WEDFV9ON8Rop",
        "outputId": "686d8d5c-a8c2-4b3f-9c27-9ff7bc57588d"
      },
      "outputs": [
        {
          "output_type": "stream",
          "name": "stdout",
          "text": [
            "         State  Population  Murderrate Abbreviation\n",
            "0      Alabama     4779736         5.7           AL\n",
            "1       Alaska      710231         5.6           AK\n",
            "2      Arizona     6392017         4.7           AZ\n",
            "3     Arkansas     2915918         5.6           AR\n",
            "4   California    37253956         4.4           CA\n",
            "5     Colorado     5029196         2.8           CO\n",
            "6  Connecticut     3574097         2.4           CT\n",
            "7     Delaware      897934         5.8           DE\n"
          ]
        }
      ],
      "source": [
        "import pandas as pd\n",
        "import io\n",
        "\n",
        "state = pd.read_csv(\"/content/sample_data/state.csv\")\n",
        "print(state.head(8))"
      ]
    },
    {
      "cell_type": "markdown",
      "source": [
        "##Mean and median"
      ],
      "metadata": {
        "id": "B9bvSA0YB0eC"
      }
    },
    {
      "cell_type": "code",
      "source": [],
      "metadata": {
        "id": "zpFvRO117S6H"
      },
      "execution_count": null,
      "outputs": []
    },
    {
      "cell_type": "code",
      "source": [
        "state['Population'].mean()"
      ],
      "metadata": {
        "colab": {
          "base_uri": "https://localhost:8080/"
        },
        "id": "VzqgkuTk_n90",
        "outputId": "3534c32f-553c-4372-d705-6256e4667351"
      },
      "execution_count": null,
      "outputs": [
        {
          "output_type": "execute_result",
          "data": {
            "text/plain": [
              "6162876.3"
            ]
          },
          "metadata": {},
          "execution_count": 3
        }
      ]
    },
    {
      "cell_type": "code",
      "source": [
        "state['Population'].median()"
      ],
      "metadata": {
        "colab": {
          "base_uri": "https://localhost:8080/"
        },
        "id": "0qL-1WBeBmlT",
        "outputId": "e449d674-b885-468c-8572-d4e94f85fbd1"
      },
      "execution_count": null,
      "outputs": [
        {
          "output_type": "execute_result",
          "data": {
            "text/plain": [
              "4436369.5"
            ]
          },
          "metadata": {},
          "execution_count": 4
        }
      ]
    },
    {
      "cell_type": "markdown",
      "source": [
        "\n",
        "A trimmed mean  is the mean of a dataset that has been calculated after removing a specific percentage of the smallest and largest values from the dataset."
      ],
      "metadata": {
        "id": "L2ObgoQpCgX6"
      }
    },
    {
      "cell_type": "code",
      "source": [
        "#calculate 20% trimmed mean\n",
        "from scipy import stats\n",
        "stats.trim_mean(state['Population'], 0.2)"
      ],
      "metadata": {
        "colab": {
          "base_uri": "https://localhost:8080/"
        },
        "id": "hIMzTQvPBqAV",
        "outputId": "5ad8e8d2-1682-4292-a7db-5f2e6310f0da"
      },
      "execution_count": null,
      "outputs": [
        {
          "output_type": "execute_result",
          "data": {
            "text/plain": [
              "4413915.966666667"
            ]
          },
          "metadata": {},
          "execution_count": 5
        }
      ]
    },
    {
      "cell_type": "markdown",
      "source": [
        "weighted mean and weighted median"
      ],
      "metadata": {
        "id": "qdWjdZBfDRW5"
      }
    },
    {
      "cell_type": "code",
      "source": [
        "pip install weightedstats"
      ],
      "metadata": {
        "colab": {
          "base_uri": "https://localhost:8080/"
        },
        "id": "XI5U1cAuELER",
        "outputId": "52f63b1d-dd43-4910-dec1-67eed2e49b7c"
      },
      "execution_count": null,
      "outputs": [
        {
          "output_type": "stream",
          "name": "stdout",
          "text": [
            "Collecting weightedstats\n",
            "  Downloading weightedstats-0.4.1-py3-none-any.whl (3.8 kB)\n",
            "Installing collected packages: weightedstats\n",
            "Successfully installed weightedstats-0.4.1\n"
          ]
        }
      ]
    },
    {
      "cell_type": "code",
      "source": [
        "import numpy as np\n",
        "import weightedstats as ws\n",
        "ws.weighted_mean(state['Murderrate'], weights=state['Population'])\n",
        "##ws.weighted_median(state['Murderrate'], weights=state['Population'])"
      ],
      "metadata": {
        "colab": {
          "base_uri": "https://localhost:8080/"
        },
        "id": "pEnsK8w5DPQD",
        "outputId": "ebffbf25-c290-4ee8-fae0-d423ad20a9f9"
      },
      "execution_count": null,
      "outputs": [
        {
          "output_type": "execute_result",
          "data": {
            "text/plain": [
              "4.445833981123394"
            ]
          },
          "metadata": {},
          "execution_count": 7
        }
      ]
    },
    {
      "cell_type": "markdown",
      "source": [
        "#Standard deviation and quantiles\n",
        "\n",
        "\n"
      ],
      "metadata": {
        "id": "fMZ0yhftYUXt"
      }
    },
    {
      "cell_type": "code",
      "source": [
        "print(state['Population'].std())"
      ],
      "metadata": {
        "colab": {
          "base_uri": "https://localhost:8080/"
        },
        "id": "-gRZW8SkYO7x",
        "outputId": "18359e23-3382-4c20-ed16-9356abd231ec"
      },
      "execution_count": null,
      "outputs": [
        {
          "output_type": "stream",
          "name": "stdout",
          "text": [
            "6848235.347401142\n"
          ]
        }
      ]
    },
    {
      "cell_type": "code",
      "source": [
        "print(state['Population'].quantile(0.75) - state['Population'].quantile(0.25))"
      ],
      "metadata": {
        "colab": {
          "base_uri": "https://localhost:8080/"
        },
        "id": "9Y7qIhk5Yqvf",
        "outputId": "d96f99d8-cf12-4ff7-bf87-616d8e05eb66"
      },
      "execution_count": null,
      "outputs": [
        {
          "output_type": "stream",
          "name": "stdout",
          "text": [
            "4847308.0\n"
          ]
        }
      ]
    },
    {
      "cell_type": "code",
      "source": [
        "#Median absolute deviation from the median can be calculated with a method in statsmodels\n",
        "#print(robust.scale.mad(state['Population']))\n",
        "print(abs(state['Population'] - state['Population'].median()).median() / 0.6744897501960817)"
      ],
      "metadata": {
        "colab": {
          "base_uri": "https://localhost:8080/"
        },
        "id": "ehOrDTawZPgi",
        "outputId": "12888aab-8f2d-4f01-cc1d-79debe52681b"
      },
      "execution_count": null,
      "outputs": [
        {
          "output_type": "stream",
          "name": "stdout",
          "text": [
            "3849876.1459979336\n"
          ]
        }
      ]
    },
    {
      "cell_type": "markdown",
      "source": [],
      "metadata": {
        "id": "hGEk2xHhZy4G"
      }
    },
    {
      "cell_type": "markdown",
      "source": [
        "Variance and standard deviation are the most widespread and routinely reported\n",
        "statistics of variability.\n",
        "• Both are sensitive to outliers."
      ],
      "metadata": {
        "id": "ISX1cFMzZx0n"
      }
    },
    {
      "cell_type": "markdown",
      "source": [
        "#qualtiles of murderrate"
      ],
      "metadata": {
        "id": "5sDubPvL3R4G"
      }
    },
    {
      "cell_type": "code",
      "source": [
        "state['Murderrate'].quantile([0.05, 0.25, 0.5, 0.75, 0.95])\n"
      ],
      "metadata": {
        "colab": {
          "base_uri": "https://localhost:8080/"
        },
        "id": "9yhGq45s2zuf",
        "outputId": "4ccac91d-0828-48eb-91c8-50b4a485c300"
      },
      "execution_count": null,
      "outputs": [
        {
          "output_type": "execute_result",
          "data": {
            "text/plain": [
              "0.05    1.600\n",
              "0.25    2.425\n",
              "0.50    4.000\n",
              "0.75    5.550\n",
              "0.95    6.510\n",
              "Name: Murderrate, dtype: float64"
            ]
          },
          "metadata": {},
          "execution_count": 11
        }
      ]
    },
    {
      "cell_type": "markdown",
      "source": [
        "#box plot that shows the 75th and 25th percentile and outliers"
      ],
      "metadata": {
        "id": "dhaa4YDC4AYf"
      }
    },
    {
      "cell_type": "code",
      "source": [
        "ax = (state['Population']/1_000_000).plot.box(figsize=(3, 4))\n",
        "ax.set_ylabel('Population (millions)')\n",
        "\n",
        "plt.tight_layout()\n",
        "plt.show()\n",
        "#the circles outside plot are outliers"
      ],
      "metadata": {
        "colab": {
          "base_uri": "https://localhost:8080/",
          "height": 407
        },
        "id": "96PEMwg43VOe",
        "outputId": "9811baa5-7bc1-4fff-af76-b1596bbf4edf"
      },
      "execution_count": null,
      "outputs": [
        {
          "output_type": "display_data",
          "data": {
            "text/plain": [
              "<Figure size 300x400 with 1 Axes>"
            ],
            "image/png": "[encoded data removed]"
          },
          "metadata": {}
        }
      ]
    },
    {
      "cell_type": "code",
      "source": [
        "binnedPopulation = pd.cut(state['Population'], 10)\n",
        "print(binnedPopulation.value_counts())"
      ],
      "metadata": {
        "colab": {
          "base_uri": "https://localhost:8080/"
        },
        "id": "N7JTrOas4QNO",
        "outputId": "eeb45f37-a33f-457b-d558-f249a6c2ebc9"
      },
      "execution_count": null,
      "outputs": [
        {
          "output_type": "stream",
          "name": "stdout",
          "text": [
            "(526935.67, 4232659.0]      24\n",
            "(4232659.0, 7901692.0]      14\n",
            "(7901692.0, 11570725.0]      6\n",
            "(11570725.0, 15239758.0]     2\n",
            "(15239758.0, 18908791.0]     1\n",
            "(18908791.0, 22577824.0]     1\n",
            "(22577824.0, 26246857.0]     1\n",
            "(33584923.0, 37253956.0]     1\n",
            "(26246857.0, 29915890.0]     0\n",
            "(29915890.0, 33584923.0]     0\n",
            "Name: Population, dtype: int64\n"
          ]
        }
      ]
    },
    {
      "cell_type": "markdown",
      "source": [
        "#Frequency table"
      ],
      "metadata": {
        "id": "-rUv_wb2FTG3"
      }
    },
    {
      "cell_type": "code",
      "source": [
        "# Table 1.5\n",
        "binnedPopulation.name = 'binnedPopulation'\n",
        "df = pd.concat([state, binnedPopulation], axis=1)\n",
        "df = df.sort_values(by='Population')\n",
        "\n",
        "groups = []\n",
        "for group, subset in df.groupby(by='binnedPopulation'):\n",
        "    groups.append({\n",
        "        'BinRange': group,\n",
        "        'Count': len(subset),\n",
        "        'States': ','.join(subset.Abbreviation)\n",
        "    })\n",
        "print(pd.DataFrame(groups))"
      ],
      "metadata": {
        "colab": {
          "base_uri": "https://localhost:8080/"
        },
        "id": "SyNcHf9Y5Fsf",
        "outputId": "06134aa7-fe20-4f57-c136-1d2bc6338964"
      },
      "execution_count": null,
      "outputs": [
        {
          "output_type": "stream",
          "name": "stdout",
          "text": [
            "                   BinRange  Count  \\\n",
            "0    (526935.67, 4232659.0]     24   \n",
            "1    (4232659.0, 7901692.0]     14   \n",
            "2   (7901692.0, 11570725.0]      6   \n",
            "3  (11570725.0, 15239758.0]      2   \n",
            "4  (15239758.0, 18908791.0]      1   \n",
            "5  (18908791.0, 22577824.0]      1   \n",
            "6  (22577824.0, 26246857.0]      1   \n",
            "7  (26246857.0, 29915890.0]      0   \n",
            "8  (29915890.0, 33584923.0]      0   \n",
            "9  (33584923.0, 37253956.0]      1   \n",
            "\n",
            "                                              States  \n",
            "0  WY,VT,ND,AK,SD,DE,MT,RI,NH,ME,HI,ID,NE,WV,NM,N...  \n",
            "1          KY,LA,SC,AL,CO,MN,WI,MD,MO,TN,AZ,IN,MA,WA  \n",
            "2                                  VA,NJ,NC,GA,MI,OH  \n",
            "3                                              PA,IL  \n",
            "4                                                 FL  \n",
            "5                                                 NY  \n",
            "6                                                 TX  \n",
            "7                                                     \n",
            "8                                                     \n",
            "9                                                 CA  \n"
          ]
        }
      ]
    },
    {
      "cell_type": "markdown",
      "source": [
        "#histogram"
      ],
      "metadata": {
        "id": "I2YNScZYFasA"
      }
    },
    {
      "cell_type": "code",
      "source": [
        "ax = (state['Population'] / 1_000_000).plot.hist(figsize=(4, 4))\n",
        "ax.set_xlabel('Population (millions)')"
      ],
      "metadata": {
        "colab": {
          "base_uri": "https://localhost:8080/",
          "height": 408
        },
        "id": "hPVIbQbYFY-u",
        "outputId": "4aac9447-ea37-4a27-ed91-35f5babbf830"
      },
      "execution_count": null,
      "outputs": [
        {
          "output_type": "execute_result",
          "data": {
            "text/plain": [
              "Text(0.5, 0, 'Population (millions)')"
            ]
          },
          "metadata": {},
          "execution_count": 15
        },
        {
          "output_type": "display_data",
          "data": {
            "text/plain": [
              "<Figure size 400x400 with 1 Axes>"
            ],
            "image/png": "[encoded data removed]"
          },
          "metadata": {}
        }
      ]
    },
    {
      "cell_type": "markdown",
      "source": [
        "#density lines:pandas provides the density method to create a density plot."
      ],
      "metadata": {
        "id": "tnmvVtFqFu-W"
      }
    },
    {
      "cell_type": "code",
      "source": [
        "ax = state['Murderrate'].plot.hist(density=True, xlim=[0,12], bins=range(1,12))\n",
        "state['Murderrate'].plot.density(ax=ax)\n",
        "ax.set_xlabel('Murder Rate (per 100,000)')"
      ],
      "metadata": {
        "colab": {
          "base_uri": "https://localhost:8080/",
          "height": 466
        },
        "id": "c3CzlRO1Fw8u",
        "outputId": "9fb34c7e-2850-4857-ef46-5a89f5142cb9"
      },
      "execution_count": null,
      "outputs": [
        {
          "output_type": "execute_result",
          "data": {
            "text/plain": [
              "Text(0.5, 0, 'Murder Rate (per 100,000)')"
            ]
          },
          "metadata": {},
          "execution_count": 16
        },
        {
          "output_type": "display_data",
          "data": {
            "text/plain": [
              "<Figure size 640x480 with 1 Axes>"
            ],
            "image/png": "[encoded data removed]"
          },
          "metadata": {}
        }
      ]
    },
    {
      "cell_type": "markdown",
      "source": [
        "##Correlation"
      ],
      "metadata": {
        "id": "Oq0yv6u6VMbL"
      }
    },
    {
      "cell_type": "code",
      "source": [
        "import pandas as pd\n",
        "from scipy.stats import pearsonr\n",
        "\n",
        "# Import your data into Python\n",
        "df = pd.read_csv(\"/content/sample_data/Auto.csv\")\n",
        "\n",
        "# Convert dataframe into series\n",
        "list1 = df['weight']\n",
        "list2 = df['mpg']\n",
        "\n",
        "# Apply the pearsonr()\n",
        "corr, _ = pearsonr(list1, list2)\n",
        "print('Pearsons correlation: %.3f' % corr)"
      ],
      "metadata": {
        "id": "7hvHhIu1VLme",
        "colab": {
          "base_uri": "https://localhost:8080/",
          "height": 423
        },
        "outputId": "0acfd05d-38b5-475f-873d-a370fb8c468d"
      },
      "execution_count": 7,
      "outputs": [
        {
          "output_type": "execute_result",
          "data": {
            "text/plain": [
              "      mpg  weight\n",
              "0    18.0    3504\n",
              "1    15.0    3693\n",
              "2    18.0    3436\n",
              "3    16.0    3433\n",
              "4    17.0    3449\n",
              "..    ...     ...\n",
              "295  25.4    3530\n",
              "296  23.0    3900\n",
              "297  27.2    3190\n",
              "298  23.9    3420\n",
              "299  34.2    2200\n",
              "\n",
              "[300 rows x 2 columns]"
            ],
            "text/html": [
              "\n",
              "  <div id=\"df-d019ae13-30d2-46bc-adbd-9aed1ec781b2\" class=\"colab-df-container\">\n",
              "    <div>\n",
              "<style scoped>\n",
              "    .dataframe tbody tr th:only-of-type {\n",
              "        vertical-align: middle;\n",
              "    }\n",
              "\n",
              "    .dataframe tbody tr th {\n",
              "        vertical-align: top;\n",
              "    }\n",
              "\n",
              "    .dataframe thead th {\n",
              "        text-align: right;\n",
              "    }\n",
              "</style>\n",
              "<table border=\"1\" class=\"dataframe\">\n",
              "  <thead>\n",
              "    <tr style=\"text-align: right;\">\n",
              "      <th></th>\n",
              "      <th>mpg</th>\n",
              "      <th>weight</th>\n",
              "    </tr>\n",
              "  </thead>\n",
              "  <tbody>\n",
              "    <tr>\n",
              "      <th>0</th>\n",
              "      <td>18.0</td>\n",
              "      <td>3504</td>\n",
              "    </tr>\n",
              "    <tr>\n",
              "      <th>1</th>\n",
              "      <td>15.0</td>\n",
              "      <td>3693</td>\n",
              "    </tr>\n",
              "    <tr>\n",
              "      <th>2</th>\n",
              "      <td>18.0</td>\n",
              "      <td>3436</td>\n",
              "    </tr>\n",
              "    <tr>\n",
              "      <th>3</th>\n",
              "      <td>16.0</td>\n",
              "      <td>3433</td>\n",
              "    </tr>\n",
              "    <tr>\n",
              "      <th>4</th>\n",
              "      <td>17.0</td>\n",
              "      <td>3449</td>\n",
              "    </tr>\n",
              "    <tr>\n",
              "      <th>...</th>\n",
              "      <td>...</td>\n",
              "      <td>...</td>\n",
              "    </tr>\n",
              "    <tr>\n",
              "      <th>295</th>\n",
              "      <td>25.4</td>\n",
              "      <td>3530</td>\n",
              "    </tr>\n",
              "    <tr>\n",
              "      <th>296</th>\n",
              "      <td>23.0</td>\n",
              "      <td>3900</td>\n",
              "    </tr>\n",
              "    <tr>\n",
              "      <th>297</th>\n",
              "      <td>27.2</td>\n",
              "      <td>3190</td>\n",
              "    </tr>\n",
              "    <tr>\n",
              "      <th>298</th>\n",
              "      <td>23.9</td>\n",
              "      <td>3420</td>\n",
              "    </tr>\n",
              "    <tr>\n",
              "      <th>299</th>\n",
              "      <td>34.2</td>\n",
              "      <td>2200</td>\n",
              "    </tr>\n",
              "  </tbody>\n",
              "</table>\n",
              "<p>300 rows × 2 columns</p>\n",
              "</div>\n",
              "    <div class=\"colab-df-buttons\">\n",
              "\n",
              "  <div class=\"colab-df-container\">\n",
              "    <button class=\"colab-df-convert\" onclick=\"convertToInteractive('df-d019ae13-30d2-46bc-adbd-9aed1ec781b2')\"\n",
              "            title=\"Convert this dataframe to an interactive table.\"\n",
              "            style=\"display:none;\">\n",
              "\n",
              "  <svg xmlns=\"http://www.w3.org/2000/svg\" height=\"24px\" viewBox=\"0 -960 960 960\">\n",
              "    <path d=\"M120-120v-720h720v720H120Zm60-500h600v-160H180v160Zm220 220h160v-160H400v160Zm0 220h160v-160H400v160ZM180-400h160v-160H180v160Zm440 0h160v-160H620v160ZM180-180h160v-160H180v160Zm440 0h160v-160H620v160Z\"/>\n",
              "  </svg>\n",
              "    </button>\n",
              "\n",
              "  <style>\n",
              "    .colab-df-container {\n",
              "      display:flex;\n",
              "      gap: 12px;\n",
              "    }\n",
              "\n",
              "    .colab-df-convert {\n",
              "      background-color: #E8F0FE;\n",
              "      border: none;\n",
              "      border-radius: 50%;\n",
              "      cursor: pointer;\n",
              "      display: none;\n",
              "      fill: #1967D2;\n",
              "      height: 32px;\n",
              "      padding: 0 0 0 0;\n",
              "      width: 32px;\n",
              "    }\n",
              "\n",
              "    .colab-df-convert:hover {\n",
              "      background-color: #E2EBFA;\n",
              "      box-shadow: 0px 1px 2px rgba(60, 64, 67, 0.3), 0px 1px 3px 1px rgba(60, 64, 67, 0.15);\n",
              "      fill: #174EA6;\n",
              "    }\n",
              "\n",
              "    .colab-df-buttons div {\n",
              "      margin-bottom: 4px;\n",
              "    }\n",
              "\n",
              "    [theme=dark] .colab-df-convert {\n",
              "      background-color: #3B4455;\n",
              "      fill: #D2E3FC;\n",
              "    }\n",
              "\n",
              "    [theme=dark] .colab-df-convert:hover {\n",
              "      background-color: #434B5C;\n",
              "      box-shadow: 0px 1px 3px 1px rgba(0, 0, 0, 0.15);\n",
              "      filter: drop-shadow(0px 1px 2px rgba(0, 0, 0, 0.3));\n",
              "      fill: #FFFFFF;\n",
              "    }\n",
              "  </style>\n",
              "\n",
              "    <script>\n",
              "      const buttonEl =\n",
              "        document.querySelector('#df-d019ae13-30d2-46bc-adbd-9aed1ec781b2 button.colab-df-convert');\n",
              "      buttonEl.style.display =\n",
              "        google.colab.kernel.accessAllowed ? 'block' : 'none';\n",
              "\n",
              "      async function convertToInteractive(key) {\n",
              "        const element = document.querySelector('#df-d019ae13-30d2-46bc-adbd-9aed1ec781b2');\n",
              "        const dataTable =\n",
              "          await google.colab.kernel.invokeFunction('convertToInteractive',\n",
              "                                                    [key], {});\n",
              "        if (!dataTable) return;\n",
              "\n",
              "        const docLinkHtml = 'Like what you see? Visit the ' +\n",
              "          '<a target=\"_blank\" href=https://colab.research.google.com/notebooks/data_table.ipynb>data table notebook</a>'\n",
              "          + ' to learn more about interactive tables.';\n",
              "        element.innerHTML = '';\n",
              "        dataTable['output_type'] = 'display_data';\n",
              "        await google.colab.output.renderOutput(dataTable, element);\n",
              "        const docLink = document.createElement('div');\n",
              "        docLink.innerHTML = docLinkHtml;\n",
              "        element.appendChild(docLink);\n",
              "      }\n",
              "    </script>\n",
              "  </div>\n",
              "\n",
              "\n",
              "<div id=\"df-d8bc9137-8e39-4d68-a2c5-793271b27da8\">\n",
              "  <button class=\"colab-df-quickchart\" onclick=\"quickchart('df-d8bc9137-8e39-4d68-a2c5-793271b27da8')\"\n",
              "            title=\"Suggest charts\"\n",
              "            style=\"display:none;\">\n",
              "\n",
              "<svg xmlns=\"http://www.w3.org/2000/svg\" height=\"24px\"viewBox=\"0 0 24 24\"\n",
              "     width=\"24px\">\n",
              "    <g>\n",
              "        <path d=\"M19 3H5c-1.1 0-2 .9-2 2v14c0 1.1.9 2 2 2h14c1.1 0 2-.9 2-2V5c0-1.1-.9-2-2-2zM9 17H7v-7h2v7zm4 0h-2V7h2v10zm4 0h-2v-4h2v4z\"/>\n",
              "    </g>\n",
              "</svg>\n",
              "  </button>\n",
              "\n",
              "<style>\n",
              "  .colab-df-quickchart {\n",
              "      --bg-color: #E8F0FE;\n",
              "      --fill-color: #1967D2;\n",
              "      --hover-bg-color: #E2EBFA;\n",
              "      --hover-fill-color: #174EA6;\n",
              "      --disabled-fill-color: #AAA;\n",
              "      --disabled-bg-color: #DDD;\n",
              "  }\n",
              "\n",
              "  [theme=dark] .colab-df-quickchart {\n",
              "      --bg-color: #3B4455;\n",
              "      --fill-color: #D2E3FC;\n",
              "      --hover-bg-color: #434B5C;\n",
              "      --hover-fill-color: #FFFFFF;\n",
              "      --disabled-bg-color: #3B4455;\n",
              "      --disabled-fill-color: #666;\n",
              "  }\n",
              "\n",
              "  .colab-df-quickchart {\n",
              "    background-color: var(--bg-color);\n",
              "    border: none;\n",
              "    border-radius: 50%;\n",
              "    cursor: pointer;\n",
              "    display: none;\n",
              "    fill: var(--fill-color);\n",
              "    height: 32px;\n",
              "    padding: 0;\n",
              "    width: 32px;\n",
              "  }\n",
              "\n",
              "  .colab-df-quickchart:hover {\n",
              "    background-color: var(--hover-bg-color);\n",
              "    box-shadow: 0 1px 2px rgba(60, 64, 67, 0.3), 0 1px 3px 1px rgba(60, 64, 67, 0.15);\n",
              "    fill: var(--button-hover-fill-color);\n",
              "  }\n",
              "\n",
              "  .colab-df-quickchart-complete:disabled,\n",
              "  .colab-df-quickchart-complete:disabled:hover {\n",
              "    background-color: var(--disabled-bg-color);\n",
              "    fill: var(--disabled-fill-color);\n",
              "    box-shadow: none;\n",
              "  }\n",
              "\n",
              "  .colab-df-spinner {\n",
              "    border: 2px solid var(--fill-color);\n",
              "    border-color: transparent;\n",
              "    border-bottom-color: var(--fill-color);\n",
              "    animation:\n",
              "      spin 1s steps(1) infinite;\n",
              "  }\n",
              "\n",
              "  @keyframes spin {\n",
              "    0% {\n",
              "      border-color: transparent;\n",
              "      border-bottom-color: var(--fill-color);\n",
              "      border-left-color: var(--fill-color);\n",
              "    }\n",
              "    20% {\n",
              "      border-color: transparent;\n",
              "      border-left-color: var(--fill-color);\n",
              "      border-top-color: var(--fill-color);\n",
              "    }\n",
              "    30% {\n",
              "      border-color: transparent;\n",
              "      border-left-color: var(--fill-color);\n",
              "      border-top-color: var(--fill-color);\n",
              "      border-right-color: var(--fill-color);\n",
              "    }\n",
              "    40% {\n",
              "      border-color: transparent;\n",
              "      border-right-color: var(--fill-color);\n",
              "      border-top-color: var(--fill-color);\n",
              "    }\n",
              "    60% {\n",
              "      border-color: transparent;\n",
              "      border-right-color: var(--fill-color);\n",
              "    }\n",
              "    80% {\n",
              "      border-color: transparent;\n",
              "      border-right-color: var(--fill-color);\n",
              "      border-bottom-color: var(--fill-color);\n",
              "    }\n",
              "    90% {\n",
              "      border-color: transparent;\n",
              "      border-bottom-color: var(--fill-color);\n",
              "    }\n",
              "  }\n",
              "</style>\n",
              "\n",
              "  <script>\n",
              "    async function quickchart(key) {\n",
              "      const quickchartButtonEl =\n",
              "        document.querySelector('#' + key + ' button');\n",
              "      quickchartButtonEl.disabled = true;  // To prevent multiple clicks.\n",
              "      quickchartButtonEl.classList.add('colab-df-spinner');\n",
              "      try {\n",
              "        const charts = await google.colab.kernel.invokeFunction(\n",
              "            'suggestCharts', [key], {});\n",
              "      } catch (error) {\n",
              "        console.error('Error during call to suggestCharts:', error);\n",
              "      }\n",
              "      quickchartButtonEl.classList.remove('colab-df-spinner');\n",
              "      quickchartButtonEl.classList.add('colab-df-quickchart-complete');\n",
              "    }\n",
              "    (() => {\n",
              "      let quickchartButtonEl =\n",
              "        document.querySelector('#df-d8bc9137-8e39-4d68-a2c5-793271b27da8 button');\n",
              "      quickchartButtonEl.style.display =\n",
              "        google.colab.kernel.accessAllowed ? 'block' : 'none';\n",
              "    })();\n",
              "  </script>\n",
              "</div>\n",
              "    </div>\n",
              "  </div>\n"
            ]
          },
          "metadata": {},
          "execution_count": 7
        }
      ]
    },
    {
      "cell_type": "markdown",
      "source": [
        "The standard way to visualize the relationship between two measured data variables is\n",
        "with a scatterplot"
      ],
      "metadata": {
        "id": "OSaoY5JjUjCg"
      }
    },
    {
      "cell_type": "code",
      "source": [
        "import seaborn as sns\n",
        "sns.scatterplot(x=\"mpg\", y=\"weight\", data=df);"
      ],
      "metadata": {
        "colab": {
          "base_uri": "https://localhost:8080/",
          "height": 449
        },
        "id": "1sODYXTVdort",
        "outputId": "c613aa0b-d259-4072-f4b7-a809725d3659"
      },
      "execution_count": 8,
      "outputs": [
        {
          "output_type": "display_data",
          "data": {
            "text/plain": [
              "<Figure size 640x480 with 1 Axes>"
            ],
            "image/png": "[encoded data removed]"
          },
          "metadata": {}
        }
      ]
    }
  ]
}