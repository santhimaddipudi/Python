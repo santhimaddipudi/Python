{
  "nbformat": 4,
  "nbformat_minor": 0,
  "metadata": {
    "colab": {
      "provenance": [],
      "authorship_tag": "ABX9TyMdAmHfLFXr9eALdfnc6fDL",
      "include_colab_link": true
    },
    "kernelspec": {
      "name": "python3",
      "display_name": "Python 3"
    },
    "language_info": {
      "name": "python"
    }
  },
  "cells": [
    {
      "cell_type": "markdown",
      "metadata": {
        "id": "view-in-github",
        "colab_type": "text"
      },
      "source": [
        "<a href=\"https://colab.research.google.com/github/santhimaddipudi/Python-work/blob/master/descriptive_statistics.ipynb\" target=\"_parent\"><img src=\"https://colab.research.google.com/assets/colab-badge.svg\" alt=\"Open In Colab\"/></a>"
      ]
    },
    {
      "cell_type": "markdown",
      "source": [
        "#Descriptive statistics"
      ],
      "metadata": {
        "id": "HOJId0I97kOH"
      }
    },
    {
      "cell_type": "code",
      "source": [
        "import statistics\n",
        "import numpy as np\n",
        "import pandas as pd\n",
        "\n",
        "import seaborn as sns\n",
        "import matplotlib.pyplot as plt"
      ],
      "metadata": {
        "id": "-WYzbhpz7nGm"
      },
      "execution_count": 3,
      "outputs": []
    },
    {
      "cell_type": "code",
      "source": [
        "forbes = pd.read_csv(\"/content/sample_data/forbes.csv\")\n",
        "\n",
        "forbes.head()"
      ],
      "metadata": {
        "id": "oPTITp0gAipC"
      },
      "execution_count": null,
      "outputs": []
    },
    {
      "cell_type": "code",
      "source": [
        "forbes.isnull()"
      ],
      "metadata": {
        "id": "aXijDpLNA0WK"
      },
      "execution_count": null,
      "outputs": []
    },
    {
      "cell_type": "code",
      "source": [
        "forbes.isnull().sum()"
      ],
      "metadata": {
        "id": "zjgDQ6I9A7LS"
      },
      "execution_count": null,
      "outputs": []
    },
    {
      "cell_type": "code",
      "source": [
        "forbes.dropna(inplace=True)\n",
        "\n",
        "forbes.isnull().sum()"
      ],
      "metadata": {
        "id": "i_wiEJ_XA9_C"
      },
      "execution_count": null,
      "outputs": []
    },
    {
      "cell_type": "code",
      "source": [
        "forbes.shape"
      ],
      "metadata": {
        "id": "DYUorg78BDqR"
      },
      "execution_count": null,
      "outputs": []
    },
    {
      "cell_type": "code",
      "source": [
        "market_value_mean = forbes['Market Value'].mean()\n",
        "\n",
        "market_value_mean"
      ],
      "metadata": {
        "id": "xkn0Ee9KBJDi"
      },
      "execution_count": null,
      "outputs": []
    },
    {
      "cell_type": "code",
      "source": [
        "market_value_median=forbes['Market Value'].median()\n",
        "market_value_median"
      ],
      "metadata": {
        "id": "IlUKD97UB0xB"
      },
      "execution_count": null,
      "outputs": []
    },
    {
      "cell_type": "code",
      "source": [
        "market_value_mode=forbes['Market Value'].mode()\n",
        "market_value_mode"
      ],
      "metadata": {
        "id": "1QlLv1WDkIpV"
      },
      "execution_count": null,
      "outputs": []
    },
    {
      "cell_type": "code",
      "source": [
        "statistics.stdev(forbes['Market Value'])"
      ],
      "metadata": {
        "colab": {
          "base_uri": "https://localhost:8080/"
        },
        "id": "ZW1g8ptDk3Ig",
        "outputId": "892cd9fc-1342-4fc8-b47d-6f5ca054cc72"
      },
      "execution_count": 48,
      "outputs": [
        {
          "output_type": "execute_result",
          "data": {
            "text/plain": [
              "47.09954119132452"
            ]
          },
          "metadata": {},
          "execution_count": 48
        }
      ]
    },
    {
      "cell_type": "code",
      "source": [
        "forbes['Market Value'].min()"
      ],
      "metadata": {
        "colab": {
          "base_uri": "https://localhost:8080/"
        },
        "id": "Aqk6ifU4BLwZ",
        "outputId": "71f55ae8-b055-4fbe-8168-0f44f9840e11"
      },
      "execution_count": 11,
      "outputs": [
        {
          "output_type": "execute_result",
          "data": {
            "text/plain": [
              "0.24"
            ]
          },
          "metadata": {},
          "execution_count": 11
        }
      ]
    },
    {
      "cell_type": "code",
      "source": [
        "forbes['Market Value'].max()"
      ],
      "metadata": {
        "colab": {
          "base_uri": "https://localhost:8080/"
        },
        "id": "hP6rlhbkBNlb",
        "outputId": "23b7e246-af38-4eba-e280-b9c4ff4e453a"
      },
      "execution_count": 12,
      "outputs": [
        {
          "output_type": "execute_result",
          "data": {
            "text/plain": [
              "752.0"
            ]
          },
          "metadata": {},
          "execution_count": 12
        }
      ]
    },
    {
      "cell_type": "code",
      "source": [
        "# sector is a categorical data\n",
        "\n",
        "forbes['Sector'].value_counts()"
      ],
      "metadata": {
        "colab": {
          "base_uri": "https://localhost:8080/"
        },
        "id": "umbDGbi-BTMa",
        "outputId": "56f69348-5ede-486f-c1ff-bec8d0f593cb"
      },
      "execution_count": 13,
      "outputs": [
        {
          "output_type": "execute_result",
          "data": {
            "text/plain": [
              "Financials                    474\n",
              "Consumer Discretionary        209\n",
              "Industrials                   192\n",
              "Materials                     145\n",
              "Consumer Staples              106\n",
              "Information Technology        103\n",
              "Utilities                      86\n",
              "Energy                         79\n",
              "Health Care                    71\n",
              "Telecommunication Services     43\n",
              "Name: Sector, dtype: int64"
            ]
          },
          "metadata": {},
          "execution_count": 13
        }
      ]
    },
    {
      "cell_type": "code",
      "source": [
        "forbes['Sector'].mode()"
      ],
      "metadata": {
        "colab": {
          "base_uri": "https://localhost:8080/"
        },
        "id": "CHEdx9rCBXh5",
        "outputId": "1b73c2e2-1511-4222-81ef-2da585ff4639"
      },
      "execution_count": 14,
      "outputs": [
        {
          "output_type": "execute_result",
          "data": {
            "text/plain": [
              "0    Financials\n",
              "Name: Sector, dtype: object"
            ]
          },
          "metadata": {},
          "execution_count": 14
        }
      ]
    },
    {
      "cell_type": "markdown",
      "source": [
        "##box plot\n",
        "mean\n",
        "median\n",
        "25th percentile\n",
        "75th percentile\n",
        "\n",
        "maximum values are where in the data\n",
        "outliers"
      ],
      "metadata": {
        "id": "dm8iBRwABc_x"
      }
    },
    {
      "cell_type": "code",
      "source": [
        "plt.figure(figsize=(4,4))\n",
        "\n",
        "sns.boxplot(data=forbes, y = \"Market Value\", showmeans = True)\n",
        "\n",
        "plt.axhline(y=market_value_mean, color='r', linestyle='-')\n",
        "plt.axhline(y=market_value_median, color='g', linestyle='-')\n",
        "\n",
        "plt.title(\"Forbes Data\")\n",
        "plt.show()"
      ],
      "metadata": {
        "colab": {
          "base_uri": "https://localhost:8080/",
          "height": 372
        },
        "id": "aD-dcqOPBnjS",
        "outputId": "842557d5-8d95-4a69-93d8-10993cd68c56"
      },
      "execution_count": 20,
      "outputs": [
        {
          "output_type": "display_data",
          "data": {
            "text/plain": [
              "<Figure size 400x400 with 1 Axes>"
            ],
            "image/png": "[encoded data removed]"
          },
          "metadata": {}
        }
      ]
    },
    {
      "cell_type": "code",
      "source": [
        "plt.figure(figsize=(4,4))\n",
        "\n",
        "sns.boxplot(data=forbes, y = \"Market Value\", showmeans = True)\n",
        "plt.ylim(0,60)\n",
        "\n",
        "plt.axhline(y=market_value_mean, color='r', linestyle='-')\n",
        "plt.axhline(y=market_value_median, color='g', linestyle='-')\n",
        "\n",
        "plt.title(\"Forbes Data\")\n",
        "plt.show()"
      ],
      "metadata": {
        "colab": {
          "base_uri": "https://localhost:8080/",
          "height": 375
        },
        "id": "e8D2_00aCTEY",
        "outputId": "ce2cb8d0-bba1-470d-c9fa-ffc8062fb5c7"
      },
      "execution_count": 25,
      "outputs": [
        {
          "output_type": "display_data",
          "data": {
            "text/plain": [
              "<Figure size 400x400 with 1 Axes>"
            ],
            "image/png": "[encoded data removed]"
          },
          "metadata": {}
        }
      ]
    },
    {
      "cell_type": "code",
      "source": [
        "gd = forbes.groupby('Sector', as_index=False).count()\n",
        "\n",
        "gd"
      ],
      "metadata": {
        "colab": {
          "base_uri": "https://localhost:8080/",
          "height": 363
        },
        "id": "txVgILk-C-zI",
        "outputId": "e6bcda67-66fe-4817-ea79-a7123103900e"
      },
      "execution_count": 26,
      "outputs": [
        {
          "output_type": "execute_result",
          "data": {
            "text/plain": [
              "                       Sector  Rank  Company  Country  Sales  Profits  Assets  \\\n",
              "0      Consumer Discretionary   209      209      209    209      209     209   \n",
              "1            Consumer Staples   106      106      106    106      106     106   \n",
              "2                      Energy    79       79       79     79       79      79   \n",
              "3                  Financials   474      474      474    474      474     474   \n",
              "4                 Health Care    71       71       71     71       71      71   \n",
              "5                 Industrials   192      192      192    192      192     192   \n",
              "6      Information Technology   103      103      103    103      103     103   \n",
              "7                   Materials   145      145      145    145      145     145   \n",
              "8  Telecommunication Services    43       43       43     43       43      43   \n",
              "9                   Utilities    86       86       86     86       86      86   \n",
              "\n",
              "   Market Value  Industry  \n",
              "0           209       209  \n",
              "1           106       106  \n",
              "2            79        79  \n",
              "3           474       474  \n",
              "4            71        71  \n",
              "5           192       192  \n",
              "6           103       103  \n",
              "7           145       145  \n",
              "8            43        43  \n",
              "9            86        86  "
            ],
            "text/html": [
              "\n",
              "  <div id=\"df-9dc3d0a3-4fe7-41c2-8db0-ce1bdd847ee4\" class=\"colab-df-container\">\n",
              "    <div>\n",
              "<style scoped>\n",
              "    .dataframe tbody tr th:only-of-type {\n",
              "        vertical-align: middle;\n",
              "    }\n",
              "\n",
              "    .dataframe tbody tr th {\n",
              "        vertical-align: top;\n",
              "    }\n",
              "\n",
              "    .dataframe thead th {\n",
              "        text-align: right;\n",
              "    }\n",
              "</style>\n",
              "<table border=\"1\" class=\"dataframe\">\n",
              "  <thead>\n",
              "    <tr style=\"text-align: right;\">\n",
              "      <th></th>\n",
              "      <th>Sector</th>\n",
              "      <th>Rank</th>\n",
              "      <th>Company</th>\n",
              "      <th>Country</th>\n",
              "      <th>Sales</th>\n",
              "      <th>Profits</th>\n",
              "      <th>Assets</th>\n",
              "      <th>Market Value</th>\n",
              "      <th>Industry</th>\n",
              "    </tr>\n",
              "  </thead>\n",
              "  <tbody>\n",
              "    <tr>\n",
              "      <th>0</th>\n",
              "      <td>Consumer Discretionary</td>\n",
              "      <td>209</td>\n",
              "      <td>209</td>\n",
              "      <td>209</td>\n",
              "      <td>209</td>\n",
              "      <td>209</td>\n",
              "      <td>209</td>\n",
              "      <td>209</td>\n",
              "      <td>209</td>\n",
              "    </tr>\n",
              "    <tr>\n",
              "      <th>1</th>\n",
              "      <td>Consumer Staples</td>\n",
              "      <td>106</td>\n",
              "      <td>106</td>\n",
              "      <td>106</td>\n",
              "      <td>106</td>\n",
              "      <td>106</td>\n",
              "      <td>106</td>\n",
              "      <td>106</td>\n",
              "      <td>106</td>\n",
              "    </tr>\n",
              "    <tr>\n",
              "      <th>2</th>\n",
              "      <td>Energy</td>\n",
              "      <td>79</td>\n",
              "      <td>79</td>\n",
              "      <td>79</td>\n",
              "      <td>79</td>\n",
              "      <td>79</td>\n",
              "      <td>79</td>\n",
              "      <td>79</td>\n",
              "      <td>79</td>\n",
              "    </tr>\n",
              "    <tr>\n",
              "      <th>3</th>\n",
              "      <td>Financials</td>\n",
              "      <td>474</td>\n",
              "      <td>474</td>\n",
              "      <td>474</td>\n",
              "      <td>474</td>\n",
              "      <td>474</td>\n",
              "      <td>474</td>\n",
              "      <td>474</td>\n",
              "      <td>474</td>\n",
              "    </tr>\n",
              "    <tr>\n",
              "      <th>4</th>\n",
              "      <td>Health Care</td>\n",
              "      <td>71</td>\n",
              "      <td>71</td>\n",
              "      <td>71</td>\n",
              "      <td>71</td>\n",
              "      <td>71</td>\n",
              "      <td>71</td>\n",
              "      <td>71</td>\n",
              "      <td>71</td>\n",
              "    </tr>\n",
              "    <tr>\n",
              "      <th>5</th>\n",
              "      <td>Industrials</td>\n",
              "      <td>192</td>\n",
              "      <td>192</td>\n",
              "      <td>192</td>\n",
              "      <td>192</td>\n",
              "      <td>192</td>\n",
              "      <td>192</td>\n",
              "      <td>192</td>\n",
              "      <td>192</td>\n",
              "    </tr>\n",
              "    <tr>\n",
              "      <th>6</th>\n",
              "      <td>Information Technology</td>\n",
              "      <td>103</td>\n",
              "      <td>103</td>\n",
              "      <td>103</td>\n",
              "      <td>103</td>\n",
              "      <td>103</td>\n",
              "      <td>103</td>\n",
              "      <td>103</td>\n",
              "      <td>103</td>\n",
              "    </tr>\n",
              "    <tr>\n",
              "      <th>7</th>\n",
              "      <td>Materials</td>\n",
              "      <td>145</td>\n",
              "      <td>145</td>\n",
              "      <td>145</td>\n",
              "      <td>145</td>\n",
              "      <td>145</td>\n",
              "      <td>145</td>\n",
              "      <td>145</td>\n",
              "      <td>145</td>\n",
              "    </tr>\n",
              "    <tr>\n",
              "      <th>8</th>\n",
              "      <td>Telecommunication Services</td>\n",
              "      <td>43</td>\n",
              "      <td>43</td>\n",
              "      <td>43</td>\n",
              "      <td>43</td>\n",
              "      <td>43</td>\n",
              "      <td>43</td>\n",
              "      <td>43</td>\n",
              "      <td>43</td>\n",
              "    </tr>\n",
              "    <tr>\n",
              "      <th>9</th>\n",
              "      <td>Utilities</td>\n",
              "      <td>86</td>\n",
              "      <td>86</td>\n",
              "      <td>86</td>\n",
              "      <td>86</td>\n",
              "      <td>86</td>\n",
              "      <td>86</td>\n",
              "      <td>86</td>\n",
              "      <td>86</td>\n",
              "    </tr>\n",
              "  </tbody>\n",
              "</table>\n",
              "</div>\n",
              "    <div class=\"colab-df-buttons\">\n",
              "\n",
              "  <div class=\"colab-df-container\">\n",
              "    <button class=\"colab-df-convert\" onclick=\"convertToInteractive('df-9dc3d0a3-4fe7-41c2-8db0-ce1bdd847ee4')\"\n",
              "            title=\"Convert this dataframe to an interactive table.\"\n",
              "            style=\"display:none;\">\n",
              "\n",
              "  <svg xmlns=\"http://www.w3.org/2000/svg\" height=\"24px\" viewBox=\"0 -960 960 960\">\n",
              "    <path d=\"M120-120v-720h720v720H120Zm60-500h600v-160H180v160Zm220 220h160v-160H400v160Zm0 220h160v-160H400v160ZM180-400h160v-160H180v160Zm440 0h160v-160H620v160ZM180-180h160v-160H180v160Zm440 0h160v-160H620v160Z\"/>\n",
              "  </svg>\n",
              "    </button>\n",
              "\n",
              "  <style>\n",
              "    .colab-df-container {\n",
              "      display:flex;\n",
              "      gap: 12px;\n",
              "    }\n",
              "\n",
              "    .colab-df-convert {\n",
              "      background-color: #E8F0FE;\n",
              "      border: none;\n",
              "      border-radius: 50%;\n",
              "      cursor: pointer;\n",
              "      display: none;\n",
              "      fill: #1967D2;\n",
              "      height: 32px;\n",
              "      padding: 0 0 0 0;\n",
              "      width: 32px;\n",
              "    }\n",
              "\n",
              "    .colab-df-convert:hover {\n",
              "      background-color: #E2EBFA;\n",
              "      box-shadow: 0px 1px 2px rgba(60, 64, 67, 0.3), 0px 1px 3px 1px rgba(60, 64, 67, 0.15);\n",
              "      fill: #174EA6;\n",
              "    }\n",
              "\n",
              "    .colab-df-buttons div {\n",
              "      margin-bottom: 4px;\n",
              "    }\n",
              "\n",
              "    [theme=dark] .colab-df-convert {\n",
              "      background-color: #3B4455;\n",
              "      fill: #D2E3FC;\n",
              "    }\n",
              "\n",
              "    [theme=dark] .colab-df-convert:hover {\n",
              "      background-color: #434B5C;\n",
              "      box-shadow: 0px 1px 3px 1px rgba(0, 0, 0, 0.15);\n",
              "      filter: drop-shadow(0px 1px 2px rgba(0, 0, 0, 0.3));\n",
              "      fill: #FFFFFF;\n",
              "    }\n",
              "  </style>\n",
              "\n",
              "    <script>\n",
              "      const buttonEl =\n",
              "        document.querySelector('#df-9dc3d0a3-4fe7-41c2-8db0-ce1bdd847ee4 button.colab-df-convert');\n",
              "      buttonEl.style.display =\n",
              "        google.colab.kernel.accessAllowed ? 'block' : 'none';\n",
              "\n",
              "      async function convertToInteractive(key) {\n",
              "        const element = document.querySelector('#df-9dc3d0a3-4fe7-41c2-8db0-ce1bdd847ee4');\n",
              "        const dataTable =\n",
              "          await google.colab.kernel.invokeFunction('convertToInteractive',\n",
              "                                                    [key], {});\n",
              "        if (!dataTable) return;\n",
              "\n",
              "        const docLinkHtml = 'Like what you see? Visit the ' +\n",
              "          '<a target=\"_blank\" href=https://colab.research.google.com/notebooks/data_table.ipynb>data table notebook</a>'\n",
              "          + ' to learn more about interactive tables.';\n",
              "        element.innerHTML = '';\n",
              "        dataTable['output_type'] = 'display_data';\n",
              "        await google.colab.output.renderOutput(dataTable, element);\n",
              "        const docLink = document.createElement('div');\n",
              "        docLink.innerHTML = docLinkHtml;\n",
              "        element.appendChild(docLink);\n",
              "      }\n",
              "    </script>\n",
              "  </div>\n",
              "\n",
              "\n",
              "<div id=\"df-34ea0431-8978-4cd2-b0d4-7c1d2ad4676d\">\n",
              "  <button class=\"colab-df-quickchart\" onclick=\"quickchart('df-34ea0431-8978-4cd2-b0d4-7c1d2ad4676d')\"\n",
              "            title=\"Suggest charts.\"\n",
              "            style=\"display:none;\">\n",
              "\n",
              "<svg xmlns=\"http://www.w3.org/2000/svg\" height=\"24px\"viewBox=\"0 0 24 24\"\n",
              "     width=\"24px\">\n",
              "    <g>\n",
              "        <path d=\"M19 3H5c-1.1 0-2 .9-2 2v14c0 1.1.9 2 2 2h14c1.1 0 2-.9 2-2V5c0-1.1-.9-2-2-2zM9 17H7v-7h2v7zm4 0h-2V7h2v10zm4 0h-2v-4h2v4z\"/>\n",
              "    </g>\n",
              "</svg>\n",
              "  </button>\n",
              "\n",
              "<style>\n",
              "  .colab-df-quickchart {\n",
              "      --bg-color: #E8F0FE;\n",
              "      --fill-color: #1967D2;\n",
              "      --hover-bg-color: #E2EBFA;\n",
              "      --hover-fill-color: #174EA6;\n",
              "      --disabled-fill-color: #AAA;\n",
              "      --disabled-bg-color: #DDD;\n",
              "  }\n",
              "\n",
              "  [theme=dark] .colab-df-quickchart {\n",
              "      --bg-color: #3B4455;\n",
              "      --fill-color: #D2E3FC;\n",
              "      --hover-bg-color: #434B5C;\n",
              "      --hover-fill-color: #FFFFFF;\n",
              "      --disabled-bg-color: #3B4455;\n",
              "      --disabled-fill-color: #666;\n",
              "  }\n",
              "\n",
              "  .colab-df-quickchart {\n",
              "    background-color: var(--bg-color);\n",
              "    border: none;\n",
              "    border-radius: 50%;\n",
              "    cursor: pointer;\n",
              "    display: none;\n",
              "    fill: var(--fill-color);\n",
              "    height: 32px;\n",
              "    padding: 0;\n",
              "    width: 32px;\n",
              "  }\n",
              "\n",
              "  .colab-df-quickchart:hover {\n",
              "    background-color: var(--hover-bg-color);\n",
              "    box-shadow: 0 1px 2px rgba(60, 64, 67, 0.3), 0 1px 3px 1px rgba(60, 64, 67, 0.15);\n",
              "    fill: var(--button-hover-fill-color);\n",
              "  }\n",
              "\n",
              "  .colab-df-quickchart-complete:disabled,\n",
              "  .colab-df-quickchart-complete:disabled:hover {\n",
              "    background-color: var(--disabled-bg-color);\n",
              "    fill: var(--disabled-fill-color);\n",
              "    box-shadow: none;\n",
              "  }\n",
              "\n",
              "  .colab-df-spinner {\n",
              "    border: 2px solid var(--fill-color);\n",
              "    border-color: transparent;\n",
              "    border-bottom-color: var(--fill-color);\n",
              "    animation:\n",
              "      spin 1s steps(1) infinite;\n",
              "  }\n",
              "\n",
              "  @keyframes spin {\n",
              "    0% {\n",
              "      border-color: transparent;\n",
              "      border-bottom-color: var(--fill-color);\n",
              "      border-left-color: var(--fill-color);\n",
              "    }\n",
              "    20% {\n",
              "      border-color: transparent;\n",
              "      border-left-color: var(--fill-color);\n",
              "      border-top-color: var(--fill-color);\n",
              "    }\n",
              "    30% {\n",
              "      border-color: transparent;\n",
              "      border-left-color: var(--fill-color);\n",
              "      border-top-color: var(--fill-color);\n",
              "      border-right-color: var(--fill-color);\n",
              "    }\n",
              "    40% {\n",
              "      border-color: transparent;\n",
              "      border-right-color: var(--fill-color);\n",
              "      border-top-color: var(--fill-color);\n",
              "    }\n",
              "    60% {\n",
              "      border-color: transparent;\n",
              "      border-right-color: var(--fill-color);\n",
              "    }\n",
              "    80% {\n",
              "      border-color: transparent;\n",
              "      border-right-color: var(--fill-color);\n",
              "      border-bottom-color: var(--fill-color);\n",
              "    }\n",
              "    90% {\n",
              "      border-color: transparent;\n",
              "      border-bottom-color: var(--fill-color);\n",
              "    }\n",
              "  }\n",
              "</style>\n",
              "\n",
              "  <script>\n",
              "    async function quickchart(key) {\n",
              "      const quickchartButtonEl =\n",
              "        document.querySelector('#' + key + ' button');\n",
              "      quickchartButtonEl.disabled = true;  // To prevent multiple clicks.\n",
              "      quickchartButtonEl.classList.add('colab-df-spinner');\n",
              "      try {\n",
              "        const charts = await google.colab.kernel.invokeFunction(\n",
              "            'suggestCharts', [key], {});\n",
              "      } catch (error) {\n",
              "        console.error('Error during call to suggestCharts:', error);\n",
              "      }\n",
              "      quickchartButtonEl.classList.remove('colab-df-spinner');\n",
              "      quickchartButtonEl.classList.add('colab-df-quickchart-complete');\n",
              "    }\n",
              "    (() => {\n",
              "      let quickchartButtonEl =\n",
              "        document.querySelector('#df-34ea0431-8978-4cd2-b0d4-7c1d2ad4676d button');\n",
              "      quickchartButtonEl.style.display =\n",
              "        google.colab.kernel.accessAllowed ? 'block' : 'none';\n",
              "    })();\n",
              "  </script>\n",
              "</div>\n",
              "    </div>\n",
              "  </div>\n"
            ]
          },
          "metadata": {},
          "execution_count": 26
        }
      ]
    },
    {
      "cell_type": "code",
      "source": [
        "gd = gd[['Sector', 'Rank']]\n",
        "\n",
        "gd = gd.sort_values(by='Rank', ascending=False)\n",
        "\n",
        "gd"
      ],
      "metadata": {
        "id": "PXJGzK12DEqf"
      },
      "execution_count": null,
      "outputs": []
    },
    {
      "cell_type": "markdown",
      "source": [
        "##pie chart"
      ],
      "metadata": {
        "id": "ECtJfq-vDIxg"
      }
    },
    {
      "cell_type": "code",
      "source": [
        "plt.figure(figsize=(8,5))\n",
        "\n",
        "plt.pie(gd['Rank'], labels=gd['Sector'], autopct='%.2f%%')\n",
        "\n",
        "plt.suptitle(\"Sector wise proportion of Companies\")\n",
        "\n",
        "plt.show()"
      ],
      "metadata": {
        "id": "m7Ag3cgDDKdq"
      },
      "execution_count": null,
      "outputs": []
    },
    {
      "cell_type": "markdown",
      "source": [
        "##range"
      ],
      "metadata": {
        "id": "bj-daWVMDxNB"
      }
    },
    {
      "cell_type": "code",
      "source": [
        "profit_max = forbes['Profits'].max()\n",
        "\n",
        "profit_max"
      ],
      "metadata": {
        "colab": {
          "base_uri": "https://localhost:8080/"
        },
        "id": "OKRRzE5tDyKw",
        "outputId": "6804eea0-ea14-4538-edee-94c54108b453"
      },
      "execution_count": 36,
      "outputs": [
        {
          "output_type": "execute_result",
          "data": {
            "text/plain": [
              "45.2"
            ]
          },
          "metadata": {},
          "execution_count": 36
        }
      ]
    },
    {
      "cell_type": "code",
      "source": [
        "profit_min = forbes['Profits'].min()\n",
        "\n",
        "profit_min"
      ],
      "metadata": {
        "colab": {
          "base_uri": "https://localhost:8080/"
        },
        "id": "ChXiw2lrD0RQ",
        "outputId": "898d761c-2b3c-4055-e7fc-6cce7f1ecd2e"
      },
      "execution_count": 37,
      "outputs": [
        {
          "output_type": "execute_result",
          "data": {
            "text/plain": [
              "-13.0"
            ]
          },
          "metadata": {},
          "execution_count": 37
        }
      ]
    },
    {
      "cell_type": "code",
      "source": [
        "profit_range = profit_max - profit_min\n",
        "\n",
        "profit_range"
      ],
      "metadata": {
        "colab": {
          "base_uri": "https://localhost:8080/"
        },
        "id": "D2hLZEopD4Vv",
        "outputId": "210483d4-5557-4fc7-99d0-2c561a849041"
      },
      "execution_count": 38,
      "outputs": [
        {
          "output_type": "execute_result",
          "data": {
            "text/plain": [
              "58.2"
            ]
          },
          "metadata": {},
          "execution_count": 38
        }
      ]
    },
    {
      "cell_type": "markdown",
      "source": [
        "##inter quartile range"
      ],
      "metadata": {
        "id": "EfUKIYEbEBZp"
      }
    },
    {
      "cell_type": "code",
      "source": [
        "# 25th percentile\n",
        "\n",
        "Q1 = np.quantile(forbes['Profits'], 0.25)\n",
        "Q1"
      ],
      "metadata": {
        "colab": {
          "base_uri": "https://localhost:8080/"
        },
        "id": "pFiOfAj3EEoH",
        "outputId": "01f8e7a7-aa35-4bf4-a099-a454791e6d4e"
      },
      "execution_count": 39,
      "outputs": [
        {
          "output_type": "execute_result",
          "data": {
            "text/plain": [
              "0.34975"
            ]
          },
          "metadata": {},
          "execution_count": 39
        }
      ]
    },
    {
      "cell_type": "code",
      "source": [
        "# 75th percentile\n",
        "\n",
        "Q3 = np.quantile(forbes['Profits'], 0.75)\n",
        "Q3"
      ],
      "metadata": {
        "colab": {
          "base_uri": "https://localhost:8080/"
        },
        "id": "ul-TyGktEHpg",
        "outputId": "151b3fc8-6f5e-4719-8bf6-b2c0c1fbbc0e"
      },
      "execution_count": 40,
      "outputs": [
        {
          "output_type": "execute_result",
          "data": {
            "text/plain": [
              "1.4249999999999998"
            ]
          },
          "metadata": {},
          "execution_count": 40
        }
      ]
    },
    {
      "cell_type": "code",
      "source": [
        "IQR = Q3 - Q1\n",
        "\n",
        "IQR"
      ],
      "metadata": {
        "colab": {
          "base_uri": "https://localhost:8080/"
        },
        "id": "pFzzn-wuEKZ3",
        "outputId": "40494554-8515-4716-83d3-17cab307a1c6"
      },
      "execution_count": 41,
      "outputs": [
        {
          "output_type": "execute_result",
          "data": {
            "text/plain": [
              "1.0752499999999998"
            ]
          },
          "metadata": {},
          "execution_count": 41
        }
      ]
    },
    {
      "cell_type": "markdown",
      "source": [
        "##Kurtosis"
      ],
      "metadata": {
        "id": "qH6mUX2vi6J1"
      }
    },
    {
      "cell_type": "code",
      "source": [],
      "metadata": {
        "id": "-5xDckfai2pm"
      },
      "execution_count": null,
      "outputs": []
    }
  ]
}