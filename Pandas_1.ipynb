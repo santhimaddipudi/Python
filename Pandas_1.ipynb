{
  "nbformat": 4,
  "nbformat_minor": 0,
  "metadata": {
    "colab": {
      "provenance": [],
      "authorship_tag": "ABX9TyM5P7Gc4LDTWqgfwTob9+CD",
      "include_colab_link": true
    },
    "kernelspec": {
      "name": "python3",
      "display_name": "Python 3"
    },
    "language_info": {
      "name": "python"
    }
  },
  "cells": [
    {
      "cell_type": "markdown",
      "metadata": {
        "id": "view-in-github",
        "colab_type": "text"
      },
      "source": [
        "<a href=\"https://colab.research.google.com/github/santhimaddipudi/Python/blob/master/Pandas_1.ipynb\" target=\"_parent\"><img src=\"https://colab.research.google.com/assets/colab-badge.svg\" alt=\"Open In Colab\"/></a>"
      ]
    },
    {
      "cell_type": "code",
      "execution_count": null,
      "metadata": {
        "id": "0hZdX21SYykW"
      },
      "outputs": [],
      "source": [
        "#It is built on top of NumPy and provides features not available in it.\n",
        "#There are three main data structures in pandas:\n",
        "• Series\n",
        "• DataFrame\n",
        "• Panel###"
      ]
    },
    {
      "cell_type": "markdown",
      "source": [
        "### Series"
      ],
      "metadata": {
        "id": "TZqEKeEc0SdH"
      }
    },
    {
      "cell_type": "code",
      "source": [
        "#series--1D array under the hood--dat acane be an ndarray,dict or scalar value\n",
        "import numpy as np\n",
        "import pandas as pd\n",
        "np.random.seed(100)\n",
        "ser=pd.Series(np.random.rand(7)); ser"
      ],
      "metadata": {
        "id": "A9Iyag8eY_sZ",
        "colab": {
          "base_uri": "https://localhost:8080/"
        },
        "outputId": "008c4fdf-5cd3-45d7-f6e7-2bbc53d58720"
      },
      "execution_count": 2,
      "outputs": [
        {
          "output_type": "execute_result",
          "data": {
            "text/plain": [
              "0    0.543405\n",
              "1    0.278369\n",
              "2    0.424518\n",
              "3    0.844776\n",
              "4    0.004719\n",
              "5    0.121569\n",
              "6    0.670749\n",
              "dtype: float64"
            ]
          },
          "metadata": {},
          "execution_count": 2
        }
      ]
    },
    {
      "cell_type": "code",
      "source": [
        "#creates a Series structure of the first 5 months of the year with a specified index of month names\n",
        "import calendar as cal\n",
        "monthNames=[cal.month_name[i] for i in np.arange(1,6)]\n",
        "months=pd.Series(np.arange(1,6),index=monthNames);months"
      ],
      "metadata": {
        "colab": {
          "base_uri": "https://localhost:8080/"
        },
        "id": "Qp4siRFvwDoA",
        "outputId": "762910cc-5ce2-4a00-f14a-456ae35aab36"
      },
      "execution_count": 4,
      "outputs": [
        {
          "output_type": "execute_result",
          "data": {
            "text/plain": [
              "January     1\n",
              "February    2\n",
              "March       3\n",
              "April       4\n",
              "May         5\n",
              "dtype: int64"
            ]
          },
          "metadata": {},
          "execution_count": 4
        }
      ]
    },
    {
      "cell_type": "code",
      "source": [
        "#using dict for series\n",
        "currDict={'US' : 'dollar', 'UK' : 'pound',\n",
        "'Germany': 'euro', 'Mexico':'peso',\n",
        "'Nigeria':'naira',\n",
        "'China':'yuan', 'Japan':'yen'}\n",
        "currSeries=pd.Series(currDict); currSeries"
      ],
      "metadata": {
        "colab": {
          "base_uri": "https://localhost:8080/"
        },
        "id": "vLKNGztiwQ1Z",
        "outputId": "3e0987dc-71c3-4baa-8b4a-ebc2b7167e27"
      },
      "execution_count": 5,
      "outputs": [
        {
          "output_type": "execute_result",
          "data": {
            "text/plain": [
              "US         dollar\n",
              "UK          pound\n",
              "Germany      euro\n",
              "Mexico       peso\n",
              "Nigeria     naira\n",
              "China        yuan\n",
              "Japan         yen\n",
              "dtype: object"
            ]
          },
          "metadata": {},
          "execution_count": 5
        }
      ]
    },
    {
      "cell_type": "code",
      "source": [
        "stockPrices = {'GOOG':1180.97,'FB':62.57,\n",
        "'TWTR': 64.50, 'AMZN':358.69,\n",
        "'AAPL':500.6}\n",
        "stockPriceSeries=pd.Series(stockPrices,\n",
        "index=['GOOG','FB','YHOO',\n",
        "'TWTR','AMZN','AAPL'],\n",
        "name='stockPrices')  #as the key for one of the index not availble in dict it is showing Nan\n",
        "stockPriceSeries"
      ],
      "metadata": {
        "colab": {
          "base_uri": "https://localhost:8080/"
        },
        "id": "h7XGbGtPxQOU",
        "outputId": "d7e04384-65e1-4ad4-fc7f-417f2438ed45"
      },
      "execution_count": 6,
      "outputs": [
        {
          "output_type": "execute_result",
          "data": {
            "text/plain": [
              "GOOG    1180.97\n",
              "FB        62.57\n",
              "YHOO        NaN\n",
              "TWTR      64.50\n",
              "AMZN     358.69\n",
              "AAPL     500.60\n",
              "Name: stockPrices, dtype: float64"
            ]
          },
          "metadata": {},
          "execution_count": 6
        }
      ]
    },
    {
      "cell_type": "code",
      "source": [
        "#using scalr values in series\n",
        "dogSeries=pd.Series('chihuahua',\n",
        "index=['breed','countryOfOrigin',\n",
        "'name', 'gender'])\n",
        "dogSeries"
      ],
      "metadata": {
        "colab": {
          "base_uri": "https://localhost:8080/"
        },
        "id": "nTC-ts3ZxhMR",
        "outputId": "f84cb484-0f7e-4a81-eca8-80e3664bf605"
      },
      "execution_count": 7,
      "outputs": [
        {
          "output_type": "execute_result",
          "data": {
            "text/plain": [
              "breed              chihuahua\n",
              "countryOfOrigin    chihuahua\n",
              "name               chihuahua\n",
              "gender             chihuahua\n",
              "dtype: object"
            ]
          },
          "metadata": {},
          "execution_count": 7
        }
      ]
    },
    {
      "cell_type": "code",
      "source": [
        "type(dogSeries)"
      ],
      "metadata": {
        "colab": {
          "base_uri": "https://localhost:8080/"
        },
        "id": "zaYJt-bZxqnb",
        "outputId": "828ace80-3730-43ca-a774-6e1159365981"
      },
      "execution_count": 8,
      "outputs": [
        {
          "output_type": "execute_result",
          "data": {
            "text/plain": [
              "pandas.core.series.Series"
            ]
          },
          "metadata": {},
          "execution_count": 8
        }
      ]
    },
    {
      "cell_type": "code",
      "source": [
        "dog2=pd.Series('chihuahua')#without index\n",
        "dog2\n",
        "type(dog2)"
      ],
      "metadata": {
        "colab": {
          "base_uri": "https://localhost:8080/"
        },
        "id": "4HGg0RDfxuIZ",
        "outputId": "602e1331-c25f-45ae-d6b2-31cd70afa09c"
      },
      "execution_count": 11,
      "outputs": [
        {
          "output_type": "execute_result",
          "data": {
            "text/plain": [
              "pandas.core.series.Series"
            ]
          },
          "metadata": {},
          "execution_count": 11
        }
      ]
    },
    {
      "cell_type": "code",
      "source": [
        "stockPriceSeries"
      ],
      "metadata": {
        "colab": {
          "base_uri": "https://localhost:8080/"
        },
        "id": "IkqWXjfFyRCr",
        "outputId": "46fcb02a-fbe6-4050-c382-efe26f3aefa3"
      },
      "execution_count": 13,
      "outputs": [
        {
          "output_type": "execute_result",
          "data": {
            "text/plain": [
              "GOOG    1180.97\n",
              "FB        62.57\n",
              "YHOO        NaN\n",
              "TWTR      64.50\n",
              "AMZN     358.69\n",
              "AAPL     500.60\n",
              "Name: stockPrices, dtype: float64"
            ]
          },
          "metadata": {},
          "execution_count": 13
        }
      ]
    },
    {
      "cell_type": "code",
      "source": [
        "stockPriceSeries['MSFT']# KeyError is raised if you try to retrieve a missing label\n"
      ],
      "metadata": {
        "id": "KuSSUl86yR9I"
      },
      "execution_count": null,
      "outputs": []
    },
    {
      "cell_type": "code",
      "source": [
        "#alternative\n",
        "stockPriceSeries.get('MSFT',np.NaN)"
      ],
      "metadata": {
        "colab": {
          "base_uri": "https://localhost:8080/"
        },
        "id": "cPKZaWbFyaIw",
        "outputId": "24c967c2-ae67-4f3b-9512-bd9368f25d5f"
      },
      "execution_count": 20,
      "outputs": [
        {
          "output_type": "execute_result",
          "data": {
            "text/plain": [
              "nan"
            ]
          },
          "metadata": {},
          "execution_count": 20
        }
      ]
    },
    {
      "cell_type": "code",
      "source": [
        "stockPriceSeries[1:3]"
      ],
      "metadata": {
        "colab": {
          "base_uri": "https://localhost:8080/"
        },
        "id": "zalpqwsjzJVp",
        "outputId": "64f08c4a-a598-4b85-9da8-833ae406320d"
      },
      "execution_count": 23,
      "outputs": [
        {
          "output_type": "execute_result",
          "data": {
            "text/plain": [
              "FB      62.57\n",
              "YHOO      NaN\n",
              "Name: stockPrices, dtype: float64"
            ]
          },
          "metadata": {},
          "execution_count": 23
        }
      ]
    },
    {
      "cell_type": "code",
      "source": [
        "stockPriceSeries[stockPriceSeries > 100]"
      ],
      "metadata": {
        "colab": {
          "base_uri": "https://localhost:8080/"
        },
        "id": "oneGg4iHzPXX",
        "outputId": "634b8809-060b-4e8b-f3ab-1ff8d60bcb17"
      },
      "execution_count": 24,
      "outputs": [
        {
          "output_type": "execute_result",
          "data": {
            "text/plain": [
              "GOOG    1180.97\n",
              "AMZN     358.69\n",
              "AAPL     500.60\n",
              "Name: stockPrices, dtype: float64"
            ]
          },
          "metadata": {},
          "execution_count": 24
        }
      ]
    },
    {
      "cell_type": "code",
      "source": [
        "#statistical operations\n",
        "print(np.mean(stockPriceSeries))\n",
        "print(np.std(stockPriceSeries))"
      ],
      "metadata": {
        "colab": {
          "base_uri": "https://localhost:8080/"
        },
        "id": "QI_cwVvRzWoP",
        "outputId": "affa5cec-a10b-46d8-c23f-00055395ce2c"
      },
      "execution_count": 27,
      "outputs": [
        {
          "output_type": "stream",
          "name": "stdout",
          "text": [
            "433.466\n",
            "410.50223047384287\n"
          ]
        }
      ]
    },
    {
      "cell_type": "code",
      "source": [
        "ser"
      ],
      "metadata": {
        "colab": {
          "base_uri": "https://localhost:8080/"
        },
        "id": "1EbMp8ZwzvUw",
        "outputId": "f019bb6c-2d6f-4f7c-8439-3845788dab96"
      },
      "execution_count": 28,
      "outputs": [
        {
          "output_type": "execute_result",
          "data": {
            "text/plain": [
              "0    0.543405\n",
              "1    0.278369\n",
              "2    0.424518\n",
              "3    0.844776\n",
              "4    0.004719\n",
              "5    0.121569\n",
              "6    0.670749\n",
              "dtype: float64"
            ]
          },
          "metadata": {},
          "execution_count": 28
        }
      ]
    },
    {
      "cell_type": "code",
      "source": [
        "ser*ser"
      ],
      "metadata": {
        "colab": {
          "base_uri": "https://localhost:8080/"
        },
        "id": "bhGrMJPKzwlI",
        "outputId": "961598bb-07b2-4e43-a215-a846b4a85123"
      },
      "execution_count": 29,
      "outputs": [
        {
          "output_type": "execute_result",
          "data": {
            "text/plain": [
              "0    0.295289\n",
              "1    0.077490\n",
              "2    0.180215\n",
              "3    0.713647\n",
              "4    0.000022\n",
              "5    0.014779\n",
              "6    0.449904\n",
              "dtype: float64"
            ]
          },
          "metadata": {},
          "execution_count": 29
        }
      ]
    },
    {
      "cell_type": "code",
      "source": [
        "#data is automatically aligned on the basis of the label\n",
        "ser[1:]+ser[:-3]"
      ],
      "metadata": {
        "colab": {
          "base_uri": "https://localhost:8080/"
        },
        "id": "5w7EcRzhzy9w",
        "outputId": "fa8607ac-1ddb-4444-8bf8-4e1c216b2494"
      },
      "execution_count": 30,
      "outputs": [
        {
          "output_type": "execute_result",
          "data": {
            "text/plain": [
              "0         NaN\n",
              "1    0.556739\n",
              "2    0.849035\n",
              "3    1.689552\n",
              "4         NaN\n",
              "5         NaN\n",
              "6         NaN\n",
              "dtype: float64"
            ]
          },
          "metadata": {},
          "execution_count": 30
        }
      ]
    },
    {
      "cell_type": "markdown",
      "source": [
        "### **DataFrame**\n",
        "DataFrame is an 2-dimensional labeled array. Its column types can be heterogeneous:\n",
        "that is, of varying types."
      ],
      "metadata": {
        "id": "TwM2DB3E0KRP"
      }
    },
    {
      "cell_type": "code",
      "source": [],
      "metadata": {
        "id": "hAIcOygY0QuP"
      },
      "execution_count": null,
      "outputs": []
    }
  ]
}