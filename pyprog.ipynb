{
  "nbformat": 4,
  "nbformat_minor": 0,
  "metadata": {
    "colab": {
      "provenance": [],
      "authorship_tag": "ABX9TyM32tRlW2n0mpi2hkmD4cmB",
      "include_colab_link": true
    },
    "kernelspec": {
      "name": "python3",
      "display_name": "Python 3"
    },
    "language_info": {
      "name": "python"
    }
  },
  "cells": [
    {
      "cell_type": "markdown",
      "metadata": {
        "id": "view-in-github",
        "colab_type": "text"
      },
      "source": [
        "<a href=\"https://colab.research.google.com/github/santhimaddipudi/Python-work/blob/master/pyprog.ipynb\" target=\"_parent\"><img src=\"https://colab.research.google.com/assets/colab-badge.svg\" alt=\"Open In Colab\"/></a>"
      ]
    },
    {
      "cell_type": "markdown",
      "source": [
        "##**Count no.of vowles**"
      ],
      "metadata": {
        "id": "U-XeBXIrYGbz"
      }
    },
    {
      "cell_type": "code",
      "execution_count": 1,
      "metadata": {
        "colab": {
          "base_uri": "https://localhost:8080/"
        },
        "id": "FG-CU22vXVSO",
        "outputId": "6f77d4bc-1830-4f6c-9f70-089d3a906bec"
      },
      "outputs": [
        {
          "output_type": "stream",
          "name": "stdout",
          "text": [
            "Enter string:my name is santhi\n",
            "Number of vowels in string is: 5\n"
          ]
        }
      ],
      "source": [
        "vowel=['a','e','i','o','u','A','E','I','O','U']\n",
        "sen=input(\"Enter string:\")\n",
        "count=0\n",
        "for i in sen:\n",
        "  if i in vowel:\n",
        "    count+=1\n",
        "print(\"Number of vowels in string is:\",count)"
      ]
    },
    {
      "cell_type": "markdown",
      "source": [
        "##**Counting the Number of Occurances of a Character in a String**"
      ],
      "metadata": {
        "id": "hzyQvZRFYVPk"
      }
    },
    {
      "cell_type": "code",
      "source": [
        "sen=input(\"Enter string:\")\n",
        "find=input(\"Enter character to find:\")\n",
        "count=0\n",
        "for letter in sen:\n",
        "  if letter==find:\n",
        "    count+=1\n",
        "print(find,\"occurs\",count,\"times\")\n",
        "\n"
      ],
      "metadata": {
        "colab": {
          "base_uri": "https://localhost:8080/"
        },
        "id": "cB9DW06fYRKl",
        "outputId": "05f61219-4192-4012-e366-4c35b35019ef"
      },
      "execution_count": 2,
      "outputs": [
        {
          "output_type": "stream",
          "name": "stdout",
          "text": [
            "Enter string:my world is beautiful\n",
            "Enter character to find:i\n",
            "i occurs 2 times\n"
          ]
        }
      ]
    },
    {
      "cell_type": "markdown",
      "source": [
        "#writing febnocci series"
      ],
      "metadata": {
        "id": "SpO9fr4aYzxt"
      }
    },
    {
      "cell_type": "code",
      "source": [
        "fib = [0,1]\n",
        "# Range starts from 0 by default\n",
        "for i in range(8):\n",
        "    fib.append(fib[-1] + fib[-2])\n",
        "\n",
        "# Converting the list of integers to string\n",
        "print(', '.join(str(e) for e in fib))"
      ],
      "metadata": {
        "colab": {
          "base_uri": "https://localhost:8080/"
        },
        "id": "LtBAzgXQY2p6",
        "outputId": "490a0e7e-314c-4303-e026-4a7e1272b1ac"
      },
      "execution_count": 4,
      "outputs": [
        {
          "output_type": "stream",
          "name": "stdout",
          "text": [
            "0, 1, 1, 2, 3, 5, 8, 13, 21, 34\n"
          ]
        }
      ]
    },
    {
      "cell_type": "markdown",
      "source": [
        "#Finding the Maximum Number in a List"
      ],
      "metadata": {
        "id": "z3ir78udZs7-"
      }
    },
    {
      "cell_type": "code",
      "source": [
        "numberList = [15, 85, 35, 89, 125]\n",
        "maxNum = numberList[0]\n",
        "for num in numberList:\n",
        "    if maxNum < num:\n",
        "        maxNum = num\n",
        "print(maxNum)"
      ],
      "metadata": {
        "colab": {
          "base_uri": "https://localhost:8080/"
        },
        "id": "xWcXJxVCZt7s",
        "outputId": "427330ef-7fb5-4899-aa8e-cb2e4a7bf805"
      },
      "execution_count": 14,
      "outputs": [
        {
          "output_type": "stream",
          "name": "stdout",
          "text": [
            "125\n"
          ]
        }
      ]
    },
    {
      "cell_type": "markdown",
      "source": [
        "#find middle element"
      ],
      "metadata": {
        "id": "JGoohCcDad_D"
      }
    },
    {
      "cell_type": "code",
      "source": [
        "numList = [1, 2, 3, 4, 5]\n",
        "midElement = int((len(numList)/2))\n",
        "\n",
        "print(numList[midElement])"
      ],
      "metadata": {
        "colab": {
          "base_uri": "https://localhost:8080/"
        },
        "id": "dMYSrlbGaQR0",
        "outputId": "91736b3f-6440-40fa-ba76-31a15998da82"
      },
      "execution_count": 16,
      "outputs": [
        {
          "output_type": "stream",
          "name": "stdout",
          "text": [
            "6\n"
          ]
        }
      ]
    },
    {
      "cell_type": "markdown",
      "source": [
        "#convert list to string"
      ],
      "metadata": {
        "id": "5w4ZmJUSahCD"
      }
    },
    {
      "cell_type": "code",
      "source": [
        "lst = [\"P\", \"Y\", \"T\", \"H\", \"O\", \"N\"]\n",
        "print(type(lst))\n",
        "string = ''.join(lst)\n",
        "\n",
        "print(string)\n",
        "print(type(string))"
      ],
      "metadata": {
        "colab": {
          "base_uri": "https://localhost:8080/"
        },
        "id": "1iD563c0aZEc",
        "outputId": "cffbf752-2c6b-44e9-ee88-dfb632ba5410"
      },
      "execution_count": 18,
      "outputs": [
        {
          "output_type": "stream",
          "name": "stdout",
          "text": [
            "<class 'list'>\n",
            "PYTHON\n",
            "<class 'str'>\n"
          ]
        }
      ]
    },
    {
      "cell_type": "markdown",
      "source": [
        "adding two list elements"
      ],
      "metadata": {
        "id": "wPfBbt2_blfZ"
      }
    },
    {
      "cell_type": "code",
      "source": [
        "lst1 = [1, 2, 3,6]\n",
        "lst2 = [4, 5, 6,0]\n",
        "\n",
        "res_lst = []\n",
        "for i in range(0, len(lst1)):\n",
        "    res_lst.append(lst1[i] + lst2[i])\n",
        "print(res_lst)"
      ],
      "metadata": {
        "colab": {
          "base_uri": "https://localhost:8080/"
        },
        "id": "WqVXBEikbLTt",
        "outputId": "e3f45444-3652-4235-a439-c32ee110c010"
      },
      "execution_count": 24,
      "outputs": [
        {
          "output_type": "stream",
          "name": "stdout",
          "text": [
            "[5, 7, 9, 6]\n"
          ]
        }
      ]
    },
    {
      "cell_type": "markdown",
      "source": [
        "#Comparing Two Strings for Anagrams"
      ],
      "metadata": {
        "id": "EEGmZ3-xcGJO"
      }
    },
    {
      "cell_type": "code",
      "source": [
        "str1 = \"Listen\"\n",
        "str2 = \"Silent\"\n",
        "\n",
        "str1 = list(str1.upper())\n",
        "str2 = list(str2.upper())\n",
        "str1.sort(), str2.sort()\n",
        "\n",
        "if(str1 == str2):\n",
        "    print(\"True\")\n",
        "else:\n",
        "    print(\"False\")"
      ],
      "metadata": {
        "colab": {
          "base_uri": "https://localhost:8080/"
        },
        "id": "5d1dUTr3bkZq",
        "outputId": "9b1d763b-8549-4086-83d2-84a0d33284ae"
      },
      "execution_count": 29,
      "outputs": [
        {
          "output_type": "stream",
          "name": "stdout",
          "text": [
            "['E', 'I', 'L', 'N', 'S', 'T']\n",
            "['E', 'I', 'L', 'N', 'S', 'T']\n",
            "True\n"
          ]
        }
      ]
    },
    {
      "cell_type": "markdown",
      "source": [
        "#Checking for Palindrome Using Extended Slicing Technique"
      ],
      "metadata": {
        "id": "LqQZaxXKcc-b"
      }
    },
    {
      "cell_type": "code",
      "source": [
        "str1 = \"Kayak\".lower()\n",
        "str2 = \"kayak\".lower()\n",
        "print(str2[::-1])\n",
        "if(str1 == str2[::-1]):\n",
        "    print(\"True\")\n",
        "else:\n",
        "    print(\"False\")"
      ],
      "metadata": {
        "colab": {
          "base_uri": "https://localhost:8080/"
        },
        "id": "f-sXVy5dcSzM",
        "outputId": "d38cf364-68da-4aa5-c1b9-81369eda8e3f"
      },
      "execution_count": 32,
      "outputs": [
        {
          "output_type": "stream",
          "name": "stdout",
          "text": [
            "kayak\n",
            "True\n"
          ]
        }
      ]
    },
    {
      "cell_type": "markdown",
      "source": [
        "#count white spaces in string"
      ],
      "metadata": {
        "id": "5BxkQHNIcfb6"
      }
    },
    {
      "cell_type": "code",
      "source": [
        "string = \"P r ogramm in g \"\n",
        "print(string.count(' '))"
      ],
      "metadata": {
        "colab": {
          "base_uri": "https://localhost:8080/"
        },
        "id": "fsc8Pl3pchrl",
        "outputId": "57cc5eca-09a8-4c08-b15a-575eb13a8eff"
      },
      "execution_count": 34,
      "outputs": [
        {
          "output_type": "stream",
          "name": "stdout",
          "text": [
            "5\n"
          ]
        }
      ]
    },
    {
      "cell_type": "code",
      "source": [
        "# Importing Regular Expressions Library\n",
        "import re\n",
        "\n",
        "name = 'Python is 123 boost'\n",
        "\n",
        "digitCount = re.sub(\"[^0-9]\", \"\", name)\n",
        "letterCount = re.sub(\"[^a-zA-Z]\", \"\", name)\n",
        "spaceCount = re.findall(\"[ \\n]\", name)\n",
        "\n",
        "print(len(digitCount))\n",
        "print(len(letterCount))\n",
        "print(len(spaceCount))"
      ],
      "metadata": {
        "colab": {
          "base_uri": "https://localhost:8080/"
        },
        "id": "BcKaSM8Cc66F",
        "outputId": "9fe0f2f1-0e67-40f8-b39c-193c6432a62a"
      },
      "execution_count": 37,
      "outputs": [
        {
          "output_type": "stream",
          "name": "stdout",
          "text": [
            "3\n",
            "13\n",
            "3\n"
          ]
        }
      ]
    },
    {
      "cell_type": "code",
      "source": [
        "# Importing Regular Expressions Library\n",
        "import re\n",
        "spChar = \"!@#$%^&*)sanmad\"\n",
        "\n",
        "count = re.sub('[\\w]+', '', spChar)\n",
        "print(len(count))"
      ],
      "metadata": {
        "colab": {
          "base_uri": "https://localhost:8080/"
        },
        "id": "oysbPIste5fL",
        "outputId": "9e1e1f73-184e-4292-98df-135bfa23eec8"
      },
      "execution_count": 39,
      "outputs": [
        {
          "output_type": "stream",
          "name": "stdout",
          "text": [
            "9\n"
          ]
        }
      ]
    },
    {
      "cell_type": "code",
      "source": [
        "text=input(\"Enter string:\")\n",
        "print(text.replace(\" \",\"\"))"
      ],
      "metadata": {
        "colab": {
          "base_uri": "https://localhost:8080/"
        },
        "id": "DoNDYf8hfII0",
        "outputId": "9df858a4-f79e-4c1c-8175-f7d81ab2cd39"
      },
      "execution_count": 40,
      "outputs": [
        {
          "output_type": "stream",
          "name": "stdout",
          "text": [
            "Enetr string:my name is san\n",
            "mynameissan\n"
          ]
        }
      ]
    },
    {
      "cell_type": "markdown",
      "source": [
        "#Building a Pyramid in Python"
      ],
      "metadata": {
        "id": "M9IpTPt3fsC9"
      }
    },
    {
      "cell_type": "code",
      "source": [
        "floors = 5\n",
        "h = 2*floors-1\n",
        "for i in range(1, 2*floors, 2):\n",
        "    print('{:^{}}'.format('*'*i, h))"
      ],
      "metadata": {
        "colab": {
          "base_uri": "https://localhost:8080/"
        },
        "id": "qZ557KfdfpeM",
        "outputId": "fed361f1-faa2-4345-96b7-deae0067a61f"
      },
      "execution_count": 42,
      "outputs": [
        {
          "output_type": "stream",
          "name": "stdout",
          "text": [
            "    *    \n",
            "   ***   \n",
            "  *****  \n",
            " ******* \n",
            "*********\n"
          ]
        }
      ]
    },
    {
      "cell_type": "markdown",
      "source": [
        "find all such numbers which are divisible by 7 but are not a multiple of 5"
      ],
      "metadata": {
        "id": "JwOA4zhDhIIs"
      }
    },
    {
      "cell_type": "code",
      "source": [
        "l=[]\n",
        "for i in range(2, 72):\n",
        "    if (i%7==0) and (i%5!=0):\n",
        "        l.append(str(i))\n",
        "\n",
        "print(','.join(l))"
      ],
      "metadata": {
        "colab": {
          "base_uri": "https://localhost:8080/"
        },
        "id": "DyZepz-AhIdk",
        "outputId": "ee346036-4bd1-4daa-bc06-38415eee481d"
      },
      "execution_count": 46,
      "outputs": [
        {
          "output_type": "stream",
          "name": "stdout",
          "text": [
            "7,14,21,28,42,49,56,63\n"
          ]
        }
      ]
    },
    {
      "cell_type": "markdown",
      "source": [
        "Write a program which can compute the factorial of a given numbers"
      ],
      "metadata": {
        "id": "DaQehXZohWfV"
      }
    },
    {
      "cell_type": "code",
      "source": [
        "def fact(x):\n",
        "    if x == 0:\n",
        "        return 1\n",
        "    return x * fact(x - 1)\n",
        "\n",
        "x=int(input(\"enter number:\"))\n",
        "print(fact(x))"
      ],
      "metadata": {
        "colab": {
          "base_uri": "https://localhost:8080/"
        },
        "id": "qK9o4LiGhiLd",
        "outputId": "2fd8f9fd-be9d-419e-f88f-922f871fbfb1"
      },
      "execution_count": 50,
      "outputs": [
        {
          "output_type": "stream",
          "name": "stdout",
          "text": [
            "enter number:6\n",
            "720\n"
          ]
        }
      ]
    },
    {
      "cell_type": "code",
      "source": [
        "from typing import Dict\n",
        "x=int(input(\"enter number:\"))\n",
        "res=dict()\n",
        "for i in range(1,x+1):\n",
        "  res[i]=i*i\n",
        "print(res)"
      ],
      "metadata": {
        "colab": {
          "base_uri": "https://localhost:8080/"
        },
        "id": "nfWccdhtiN8X",
        "outputId": "00395c3d-01ab-4c08-97e9-f92b303f420d"
      },
      "execution_count": 55,
      "outputs": [
        {
          "output_type": "stream",
          "name": "stdout",
          "text": [
            "enter number:5\n",
            "{1: 1, 2: 4, 3: 9, 4: 16, 5: 25}\n"
          ]
        }
      ]
    },
    {
      "cell_type": "code",
      "source": [
        "values=input(\"enter comma seperated numbers:\")\n",
        "l=values.split(\",\")\n",
        "t=tuple(l)\n",
        "print(l)\n",
        "print(t)"
      ],
      "metadata": {
        "colab": {
          "base_uri": "https://localhost:8080/"
        },
        "id": "Kh3EfOJFkta8",
        "outputId": "48242c33-c96d-4b0b-ede1-7822b41b6494"
      },
      "execution_count": 57,
      "outputs": [
        {
          "output_type": "stream",
          "name": "stdout",
          "text": [
            "enter comma seperated numbers:1,2,3,4,6\n",
            "['1', '2', '3', '4', '6']\n",
            "('1', '2', '3', '4', '6')\n"
          ]
        }
      ]
    },
    {
      "cell_type": "markdown",
      "source": [
        "#Define a class which has at least two methods"
      ],
      "metadata": {
        "id": "-kkCqYQclhVk"
      }
    },
    {
      "cell_type": "code",
      "source": [
        "class InputOutString(object):\n",
        "    def __init__(self):\n",
        "        self.s = \"\"\n",
        "\n",
        "    def getString(self):\n",
        "        self.s = input(\"enter string value:\")\n",
        "\n",
        "    def printString(self):\n",
        "        print(self.s.upper())\n",
        "\n",
        "strObj = InputOutString()\n",
        "strObj.getString()\n",
        "strObj.printString()\n"
      ],
      "metadata": {
        "colab": {
          "base_uri": "https://localhost:8080/"
        },
        "id": "mhjdn0U_lQQW",
        "outputId": "28ab8c78-d7a7-4fd5-e9b0-06d0b7085cea"
      },
      "execution_count": 58,
      "outputs": [
        {
          "output_type": "stream",
          "name": "stdout",
          "text": [
            "enter string value:santhi is good\n",
            "SANTHI IS GOOD\n"
          ]
        }
      ]
    },
    {
      "cell_type": "code",
      "source": [
        "lines = []\n",
        "while True:\n",
        "    s = input()\n",
        "    if s:\n",
        "        lines.append(s.upper())\n",
        "    else:\n",
        "        break;\n",
        "\n",
        "for sentence in lines:\n",
        "    print(sentence)"
      ],
      "metadata": {
        "colab": {
          "base_uri": "https://localhost:8080/"
        },
        "id": "qFTuwL3Dmvw9",
        "outputId": "556fdddb-492b-4231-a304-3e3a511fc7f2"
      },
      "execution_count": 59,
      "outputs": [
        {
          "output_type": "stream",
          "name": "stdout",
          "text": [
            "my name\n",
            "my son\n",
            "\n",
            "MY NAME\n",
            "MY SON\n"
          ]
        }
      ]
    },
    {
      "cell_type": "code",
      "source": [
        "s = input()\n",
        "words = [word for word in s.split(\" \")]\n",
        "print(\" \".join(sorted(list(set(words)))))"
      ],
      "metadata": {
        "colab": {
          "base_uri": "https://localhost:8080/"
        },
        "id": "3kqsrMlom8au",
        "outputId": "01c0c3a7-7760-494e-df45-c3f00c46bc67"
      },
      "execution_count": 61,
      "outputs": [
        {
          "output_type": "stream",
          "name": "stdout",
          "text": [
            "hello my dev hello\n",
            "dev hello my\n"
          ]
        }
      ]
    }
  ]
}