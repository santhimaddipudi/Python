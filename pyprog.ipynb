{
  "nbformat": 4,
  "nbformat_minor": 0,
  "metadata": {
    "colab": {
      "provenance": [],
      "authorship_tag": "ABX9TyNZxNWUAmiiv8K9udG7Lrse",
      "include_colab_link": true
    },
    "kernelspec": {
      "name": "python3",
      "display_name": "Python 3"
    },
    "language_info": {
      "name": "python"
    }
  },
  "cells": [
    {
      "cell_type": "markdown",
      "metadata": {
        "id": "view-in-github",
        "colab_type": "text"
      },
      "source": [
        "<a href=\"https://colab.research.google.com/github/santhimaddipudi/Python-work/blob/master/pyprog.ipynb\" target=\"_parent\"><img src=\"https://colab.research.google.com/assets/colab-badge.svg\" alt=\"Open In Colab\"/></a>"
      ]
    },
    {
      "cell_type": "markdown",
      "source": [
        "##**Count no.of vowles**"
      ],
      "metadata": {
        "id": "U-XeBXIrYGbz"
      }
    },
    {
      "cell_type": "code",
      "execution_count": 1,
      "metadata": {
        "colab": {
          "base_uri": "https://localhost:8080/"
        },
        "id": "FG-CU22vXVSO",
        "outputId": "6f77d4bc-1830-4f6c-9f70-089d3a906bec"
      },
      "outputs": [
        {
          "output_type": "stream",
          "name": "stdout",
          "text": [
            "Enter string:my name is santhi\n",
            "Number of vowels in string is: 5\n"
          ]
        }
      ],
      "source": [
        "vowel=['a','e','i','o','u','A','E','I','O','U']\n",
        "sen=input(\"Enter string:\")\n",
        "count=0\n",
        "for i in sen:\n",
        "  if i in vowel:\n",
        "    count+=1\n",
        "print(\"Number of vowels in string is:\",count)"
      ]
    },
    {
      "cell_type": "markdown",
      "source": [
        "##**Counting the Number of Occurances of a Character in a String**"
      ],
      "metadata": {
        "id": "hzyQvZRFYVPk"
      }
    },
    {
      "cell_type": "code",
      "source": [
        "sen=input(\"Enter string:\")\n",
        "find=input(\"Enter character to find:\")\n",
        "count=0\n",
        "for letter in sen:\n",
        "  if letter==find:\n",
        "    count+=1\n",
        "print(find,\"occurs\",count,\"times\")\n",
        "\n"
      ],
      "metadata": {
        "colab": {
          "base_uri": "https://localhost:8080/"
        },
        "id": "cB9DW06fYRKl",
        "outputId": "05f61219-4192-4012-e366-4c35b35019ef"
      },
      "execution_count": 2,
      "outputs": [
        {
          "output_type": "stream",
          "name": "stdout",
          "text": [
            "Enter string:my world is beautiful\n",
            "Enter character to find:i\n",
            "i occurs 2 times\n"
          ]
        }
      ]
    },
    {
      "cell_type": "markdown",
      "source": [
        "#writing febnocci series"
      ],
      "metadata": {
        "id": "SpO9fr4aYzxt"
      }
    },
    {
      "cell_type": "code",
      "source": [
        "fib = [0,1]\n",
        "# Range starts from 0 by default\n",
        "for i in range(8):\n",
        "    fib.append(fib[-1] + fib[-2])\n",
        "\n",
        "# Converting the list of integers to string\n",
        "print(', '.join(str(e) for e in fib))"
      ],
      "metadata": {
        "colab": {
          "base_uri": "https://localhost:8080/"
        },
        "id": "LtBAzgXQY2p6",
        "outputId": "490a0e7e-314c-4303-e026-4a7e1272b1ac"
      },
      "execution_count": 4,
      "outputs": [
        {
          "output_type": "stream",
          "name": "stdout",
          "text": [
            "0, 1, 1, 2, 3, 5, 8, 13, 21, 34\n"
          ]
        }
      ]
    },
    {
      "cell_type": "markdown",
      "source": [
        "#Finding the Maximum Number in a List"
      ],
      "metadata": {
        "id": "z3ir78udZs7-"
      }
    },
    {
      "cell_type": "code",
      "source": [
        "numberList = [15, 85, 35, 89, 125]\n",
        "maxNum = numberList[0]\n",
        "for num in numberList:\n",
        "    if maxNum < num:\n",
        "        maxNum = num\n",
        "print(maxNum)"
      ],
      "metadata": {
        "colab": {
          "base_uri": "https://localhost:8080/"
        },
        "id": "xWcXJxVCZt7s",
        "outputId": "427330ef-7fb5-4899-aa8e-cb2e4a7bf805"
      },
      "execution_count": 14,
      "outputs": [
        {
          "output_type": "stream",
          "name": "stdout",
          "text": [
            "125\n"
          ]
        }
      ]
    },
    {
      "cell_type": "markdown",
      "source": [
        "#find middle element"
      ],
      "metadata": {
        "id": "JGoohCcDad_D"
      }
    },
    {
      "cell_type": "code",
      "source": [
        "numList = [1, 2, 3, 4, 5]\n",
        "midElement = int((len(numList)/2))\n",
        "\n",
        "print(numList[midElement])"
      ],
      "metadata": {
        "colab": {
          "base_uri": "https://localhost:8080/"
        },
        "id": "dMYSrlbGaQR0",
        "outputId": "91736b3f-6440-40fa-ba76-31a15998da82"
      },
      "execution_count": 16,
      "outputs": [
        {
          "output_type": "stream",
          "name": "stdout",
          "text": [
            "6\n"
          ]
        }
      ]
    },
    {
      "cell_type": "markdown",
      "source": [
        "#convert list to string"
      ],
      "metadata": {
        "id": "5w4ZmJUSahCD"
      }
    },
    {
      "cell_type": "code",
      "source": [
        "lst = [\"P\", \"Y\", \"T\", \"H\", \"O\", \"N\"]\n",
        "print(type(lst))\n",
        "string = ''.join(lst)\n",
        "\n",
        "print(string)\n",
        "print(type(string))"
      ],
      "metadata": {
        "colab": {
          "base_uri": "https://localhost:8080/"
        },
        "id": "1iD563c0aZEc",
        "outputId": "cffbf752-2c6b-44e9-ee88-dfb632ba5410"
      },
      "execution_count": 18,
      "outputs": [
        {
          "output_type": "stream",
          "name": "stdout",
          "text": [
            "<class 'list'>\n",
            "PYTHON\n",
            "<class 'str'>\n"
          ]
        }
      ]
    }
  ]
}