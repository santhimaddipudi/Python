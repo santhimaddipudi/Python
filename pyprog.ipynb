{
  "nbformat": 4,
  "nbformat_minor": 0,
  "metadata": {
    "colab": {
      "provenance": [],
      "authorship_tag": "ABX9TyOnGxTHJZHk6m0oEDCBYuzg",
      "include_colab_link": true
    },
    "kernelspec": {
      "name": "python3",
      "display_name": "Python 3"
    },
    "language_info": {
      "name": "python"
    }
  },
  "cells": [
    {
      "cell_type": "markdown",
      "metadata": {
        "id": "view-in-github",
        "colab_type": "text"
      },
      "source": [
        "<a href=\"https://colab.research.google.com/github/santhimaddipudi/Python-work/blob/master/pyprog.ipynb\" target=\"_parent\"><img src=\"https://colab.research.google.com/assets/colab-badge.svg\" alt=\"Open In Colab\"/></a>"
      ]
    },
    {
      "cell_type": "markdown",
      "source": [
        "##**Count no.of vowles**"
      ],
      "metadata": {
        "id": "U-XeBXIrYGbz"
      }
    },
    {
      "cell_type": "code",
      "execution_count": null,
      "metadata": {
        "colab": {
          "base_uri": "https://localhost:8080/"
        },
        "id": "FG-CU22vXVSO",
        "outputId": "6f77d4bc-1830-4f6c-9f70-089d3a906bec"
      },
      "outputs": [
        {
          "output_type": "stream",
          "name": "stdout",
          "text": [
            "Enter string:my name is santhi\n",
            "Number of vowels in string is: 5\n"
          ]
        }
      ],
      "source": [
        "vowel=['a','e','i','o','u','A','E','I','O','U']\n",
        "sen=input(\"Enter string:\")\n",
        "count=0\n",
        "for i in sen:\n",
        "  if i in vowel:\n",
        "    count+=1\n",
        "print(\"Number of vowels in string is:\",count)"
      ]
    },
    {
      "cell_type": "markdown",
      "source": [
        "##**Counting the Number of Occurances of a Character in a String**"
      ],
      "metadata": {
        "id": "hzyQvZRFYVPk"
      }
    },
    {
      "cell_type": "code",
      "source": [
        "sen=input(\"Enter string:\")\n",
        "find=input(\"Enter character to find:\")\n",
        "count=0\n",
        "for letter in sen:\n",
        "  if letter==find:\n",
        "    count+=1\n",
        "print(find,\"occurs\",count,\"times\")\n",
        "\n"
      ],
      "metadata": {
        "colab": {
          "base_uri": "https://localhost:8080/"
        },
        "id": "cB9DW06fYRKl",
        "outputId": "05f61219-4192-4012-e366-4c35b35019ef"
      },
      "execution_count": null,
      "outputs": [
        {
          "output_type": "stream",
          "name": "stdout",
          "text": [
            "Enter string:my world is beautiful\n",
            "Enter character to find:i\n",
            "i occurs 2 times\n"
          ]
        }
      ]
    },
    {
      "cell_type": "markdown",
      "source": [
        "#writing febnocci series"
      ],
      "metadata": {
        "id": "SpO9fr4aYzxt"
      }
    },
    {
      "cell_type": "code",
      "source": [
        "fib = [0,1]\n",
        "# Range starts from 0 by default\n",
        "for i in range(8):\n",
        "    fib.append(fib[-1] + fib[-2])\n",
        "\n",
        "# Converting the list of integers to string\n",
        "print(', '.join(str(e) for e in fib))"
      ],
      "metadata": {
        "colab": {
          "base_uri": "https://localhost:8080/"
        },
        "id": "LtBAzgXQY2p6",
        "outputId": "490a0e7e-314c-4303-e026-4a7e1272b1ac"
      },
      "execution_count": null,
      "outputs": [
        {
          "output_type": "stream",
          "name": "stdout",
          "text": [
            "0, 1, 1, 2, 3, 5, 8, 13, 21, 34\n"
          ]
        }
      ]
    },
    {
      "cell_type": "markdown",
      "source": [
        "#Finding the Maximum Number in a List"
      ],
      "metadata": {
        "id": "z3ir78udZs7-"
      }
    },
    {
      "cell_type": "code",
      "source": [
        "numberList = [15, 85, 35, 89, 125]\n",
        "maxNum = numberList[0]\n",
        "for num in numberList:\n",
        "    if maxNum < num:\n",
        "        maxNum = num\n",
        "print(maxNum)"
      ],
      "metadata": {
        "colab": {
          "base_uri": "https://localhost:8080/"
        },
        "id": "xWcXJxVCZt7s",
        "outputId": "427330ef-7fb5-4899-aa8e-cb2e4a7bf805"
      },
      "execution_count": null,
      "outputs": [
        {
          "output_type": "stream",
          "name": "stdout",
          "text": [
            "125\n"
          ]
        }
      ]
    },
    {
      "cell_type": "markdown",
      "source": [
        "#find middle element"
      ],
      "metadata": {
        "id": "JGoohCcDad_D"
      }
    },
    {
      "cell_type": "code",
      "source": [
        "numList = [1, 2, 3, 4, 5]\n",
        "midElement = int((len(numList)/2))\n",
        "\n",
        "print(numList[midElement])"
      ],
      "metadata": {
        "colab": {
          "base_uri": "https://localhost:8080/"
        },
        "id": "dMYSrlbGaQR0",
        "outputId": "91736b3f-6440-40fa-ba76-31a15998da82"
      },
      "execution_count": null,
      "outputs": [
        {
          "output_type": "stream",
          "name": "stdout",
          "text": [
            "6\n"
          ]
        }
      ]
    },
    {
      "cell_type": "markdown",
      "source": [
        "#convert list to string"
      ],
      "metadata": {
        "id": "5w4ZmJUSahCD"
      }
    },
    {
      "cell_type": "code",
      "source": [
        "lst = [\"P\", \"Y\", \"T\", \"H\", \"O\", \"N\"]\n",
        "print(type(lst))\n",
        "string = ''.join(lst)\n",
        "\n",
        "print(string)\n",
        "print(type(string))"
      ],
      "metadata": {
        "colab": {
          "base_uri": "https://localhost:8080/"
        },
        "id": "1iD563c0aZEc",
        "outputId": "cffbf752-2c6b-44e9-ee88-dfb632ba5410"
      },
      "execution_count": null,
      "outputs": [
        {
          "output_type": "stream",
          "name": "stdout",
          "text": [
            "<class 'list'>\n",
            "PYTHON\n",
            "<class 'str'>\n"
          ]
        }
      ]
    },
    {
      "cell_type": "markdown",
      "source": [
        "adding two list elements"
      ],
      "metadata": {
        "id": "wPfBbt2_blfZ"
      }
    },
    {
      "cell_type": "code",
      "source": [
        "lst1 = [1, 2, 3,6]\n",
        "lst2 = [4, 5, 6,0]\n",
        "\n",
        "res_lst = []\n",
        "for i in range(0, len(lst1)):\n",
        "    res_lst.append(lst1[i] + lst2[i])\n",
        "print(res_lst)"
      ],
      "metadata": {
        "colab": {
          "base_uri": "https://localhost:8080/"
        },
        "id": "WqVXBEikbLTt",
        "outputId": "e3f45444-3652-4235-a439-c32ee110c010"
      },
      "execution_count": null,
      "outputs": [
        {
          "output_type": "stream",
          "name": "stdout",
          "text": [
            "[5, 7, 9, 6]\n"
          ]
        }
      ]
    },
    {
      "cell_type": "markdown",
      "source": [
        "#Comparing Two Strings for Anagrams"
      ],
      "metadata": {
        "id": "EEGmZ3-xcGJO"
      }
    },
    {
      "cell_type": "code",
      "source": [
        "str1 = \"Listen\"\n",
        "str2 = \"Silent\"\n",
        "\n",
        "str1 = list(str1.upper())\n",
        "str2 = list(str2.upper())\n",
        "str1.sort(), str2.sort()\n",
        "\n",
        "if(str1 == str2):\n",
        "    print(\"True\")\n",
        "else:\n",
        "    print(\"False\")"
      ],
      "metadata": {
        "colab": {
          "base_uri": "https://localhost:8080/"
        },
        "id": "5d1dUTr3bkZq",
        "outputId": "9b1d763b-8549-4086-83d2-84a0d33284ae"
      },
      "execution_count": null,
      "outputs": [
        {
          "output_type": "stream",
          "name": "stdout",
          "text": [
            "['E', 'I', 'L', 'N', 'S', 'T']\n",
            "['E', 'I', 'L', 'N', 'S', 'T']\n",
            "True\n"
          ]
        }
      ]
    },
    {
      "cell_type": "markdown",
      "source": [
        "#Checking for Palindrome Using Extended Slicing Technique"
      ],
      "metadata": {
        "id": "LqQZaxXKcc-b"
      }
    },
    {
      "cell_type": "code",
      "source": [
        "str1 = \"Kayak\".lower()\n",
        "str2 = \"kayak\".lower()\n",
        "print(str2[::-1])\n",
        "if(str1 == str2[::-1]):\n",
        "    print(\"True\")\n",
        "else:\n",
        "    print(\"False\")"
      ],
      "metadata": {
        "colab": {
          "base_uri": "https://localhost:8080/"
        },
        "id": "f-sXVy5dcSzM",
        "outputId": "d38cf364-68da-4aa5-c1b9-81369eda8e3f"
      },
      "execution_count": null,
      "outputs": [
        {
          "output_type": "stream",
          "name": "stdout",
          "text": [
            "kayak\n",
            "True\n"
          ]
        }
      ]
    },
    {
      "cell_type": "markdown",
      "source": [
        "#count white spaces in string"
      ],
      "metadata": {
        "id": "5BxkQHNIcfb6"
      }
    },
    {
      "cell_type": "code",
      "source": [
        "string = \"P r ogramm in g \"\n",
        "print(string.count(' '))"
      ],
      "metadata": {
        "colab": {
          "base_uri": "https://localhost:8080/"
        },
        "id": "fsc8Pl3pchrl",
        "outputId": "57cc5eca-09a8-4c08-b15a-575eb13a8eff"
      },
      "execution_count": null,
      "outputs": [
        {
          "output_type": "stream",
          "name": "stdout",
          "text": [
            "5\n"
          ]
        }
      ]
    },
    {
      "cell_type": "code",
      "source": [
        "# Importing Regular Expressions Library\n",
        "import re\n",
        "\n",
        "name = 'Python is 123 boost'\n",
        "\n",
        "digitCount = re.sub(\"[^0-9]\", \"\", name)\n",
        "letterCount = re.sub(\"[^a-zA-Z]\", \"\", name)\n",
        "spaceCount = re.findall(\"[ \\n]\", name)\n",
        "\n",
        "print(len(digitCount))\n",
        "print(len(letterCount))\n",
        "print(len(spaceCount))"
      ],
      "metadata": {
        "colab": {
          "base_uri": "https://localhost:8080/"
        },
        "id": "BcKaSM8Cc66F",
        "outputId": "9fe0f2f1-0e67-40f8-b39c-193c6432a62a"
      },
      "execution_count": null,
      "outputs": [
        {
          "output_type": "stream",
          "name": "stdout",
          "text": [
            "3\n",
            "13\n",
            "3\n"
          ]
        }
      ]
    },
    {
      "cell_type": "code",
      "source": [
        "# Importing Regular Expressions Library\n",
        "import re\n",
        "spChar = \"!@#$%^&*)sanmad\"\n",
        "\n",
        "count = re.sub('[\\w]+', '', spChar)\n",
        "print(len(count))"
      ],
      "metadata": {
        "colab": {
          "base_uri": "https://localhost:8080/"
        },
        "id": "oysbPIste5fL",
        "outputId": "9e1e1f73-184e-4292-98df-135bfa23eec8"
      },
      "execution_count": null,
      "outputs": [
        {
          "output_type": "stream",
          "name": "stdout",
          "text": [
            "9\n"
          ]
        }
      ]
    },
    {
      "cell_type": "code",
      "source": [
        "text=input(\"Enter string:\")\n",
        "print(text.replace(\" \",\"\"))"
      ],
      "metadata": {
        "colab": {
          "base_uri": "https://localhost:8080/"
        },
        "id": "DoNDYf8hfII0",
        "outputId": "9df858a4-f79e-4c1c-8175-f7d81ab2cd39"
      },
      "execution_count": null,
      "outputs": [
        {
          "output_type": "stream",
          "name": "stdout",
          "text": [
            "Enetr string:my name is san\n",
            "mynameissan\n"
          ]
        }
      ]
    },
    {
      "cell_type": "markdown",
      "source": [
        "#Building a Pyramid in Python"
      ],
      "metadata": {
        "id": "M9IpTPt3fsC9"
      }
    },
    {
      "cell_type": "code",
      "source": [
        "floors = 5\n",
        "h = 2*floors-1\n",
        "for i in range(1, 2*floors, 2):\n",
        "    print('{:^{}}'.format('*'*i, h))"
      ],
      "metadata": {
        "colab": {
          "base_uri": "https://localhost:8080/"
        },
        "id": "qZ557KfdfpeM",
        "outputId": "fed361f1-faa2-4345-96b7-deae0067a61f"
      },
      "execution_count": null,
      "outputs": [
        {
          "output_type": "stream",
          "name": "stdout",
          "text": [
            "    *    \n",
            "   ***   \n",
            "  *****  \n",
            " ******* \n",
            "*********\n"
          ]
        }
      ]
    },
    {
      "cell_type": "markdown",
      "source": [
        "find all such numbers which are divisible by 7 but are not a multiple of 5"
      ],
      "metadata": {
        "id": "JwOA4zhDhIIs"
      }
    },
    {
      "cell_type": "code",
      "source": [
        "l=[]\n",
        "for i in range(2, 72):\n",
        "    if (i%7==0) and (i%5!=0):\n",
        "        l.append(str(i))\n",
        "\n",
        "print(','.join(l))"
      ],
      "metadata": {
        "colab": {
          "base_uri": "https://localhost:8080/"
        },
        "id": "DyZepz-AhIdk",
        "outputId": "ee346036-4bd1-4daa-bc06-38415eee481d"
      },
      "execution_count": null,
      "outputs": [
        {
          "output_type": "stream",
          "name": "stdout",
          "text": [
            "7,14,21,28,42,49,56,63\n"
          ]
        }
      ]
    },
    {
      "cell_type": "markdown",
      "source": [
        "Write a program which can compute the factorial of a given numbers"
      ],
      "metadata": {
        "id": "DaQehXZohWfV"
      }
    },
    {
      "cell_type": "code",
      "source": [
        "def fact(x):\n",
        "    if x == 0:\n",
        "        return 1\n",
        "    return x * fact(x - 1)\n",
        "\n",
        "x=int(input(\"enter number:\"))\n",
        "print(fact(x))"
      ],
      "metadata": {
        "colab": {
          "base_uri": "https://localhost:8080/"
        },
        "id": "qK9o4LiGhiLd",
        "outputId": "2fd8f9fd-be9d-419e-f88f-922f871fbfb1"
      },
      "execution_count": null,
      "outputs": [
        {
          "output_type": "stream",
          "name": "stdout",
          "text": [
            "enter number:6\n",
            "720\n"
          ]
        }
      ]
    },
    {
      "cell_type": "code",
      "source": [
        "from typing import Dict\n",
        "x=int(input(\"enter number:\"))\n",
        "res=dict()\n",
        "for i in range(1,x+1):\n",
        "  res[i]=i*i\n",
        "print(res)"
      ],
      "metadata": {
        "colab": {
          "base_uri": "https://localhost:8080/"
        },
        "id": "nfWccdhtiN8X",
        "outputId": "00395c3d-01ab-4c08-97e9-f92b303f420d"
      },
      "execution_count": null,
      "outputs": [
        {
          "output_type": "stream",
          "name": "stdout",
          "text": [
            "enter number:5\n",
            "{1: 1, 2: 4, 3: 9, 4: 16, 5: 25}\n"
          ]
        }
      ]
    },
    {
      "cell_type": "code",
      "source": [
        "values=input(\"enter comma seperated numbers:\")\n",
        "l=values.split(\",\")\n",
        "t=tuple(l)\n",
        "print(l)\n",
        "print(t)"
      ],
      "metadata": {
        "colab": {
          "base_uri": "https://localhost:8080/"
        },
        "id": "Kh3EfOJFkta8",
        "outputId": "48242c33-c96d-4b0b-ede1-7822b41b6494"
      },
      "execution_count": null,
      "outputs": [
        {
          "output_type": "stream",
          "name": "stdout",
          "text": [
            "enter comma seperated numbers:1,2,3,4,6\n",
            "['1', '2', '3', '4', '6']\n",
            "('1', '2', '3', '4', '6')\n"
          ]
        }
      ]
    },
    {
      "cell_type": "markdown",
      "source": [
        "#Define a class which has at least two methods"
      ],
      "metadata": {
        "id": "-kkCqYQclhVk"
      }
    },
    {
      "cell_type": "code",
      "source": [
        "class InputOutString(object):\n",
        "    def __init__(self):\n",
        "        self.s = \"\"\n",
        "\n",
        "    def getString(self):\n",
        "        self.s = input(\"enter string value:\")\n",
        "\n",
        "    def printString(self):\n",
        "        print(self.s.upper())\n",
        "\n",
        "strObj = InputOutString()\n",
        "strObj.getString()\n",
        "strObj.printString()\n"
      ],
      "metadata": {
        "colab": {
          "base_uri": "https://localhost:8080/"
        },
        "id": "mhjdn0U_lQQW",
        "outputId": "28ab8c78-d7a7-4fd5-e9b0-06d0b7085cea"
      },
      "execution_count": null,
      "outputs": [
        {
          "output_type": "stream",
          "name": "stdout",
          "text": [
            "enter string value:santhi is good\n",
            "SANTHI IS GOOD\n"
          ]
        }
      ]
    },
    {
      "cell_type": "code",
      "source": [
        "lines = []\n",
        "while True:\n",
        "    s = input()\n",
        "    if s:\n",
        "        lines.append(s.upper())\n",
        "    else:\n",
        "        break;\n",
        "\n",
        "for sentence in lines:\n",
        "    print(sentence)"
      ],
      "metadata": {
        "colab": {
          "base_uri": "https://localhost:8080/"
        },
        "id": "qFTuwL3Dmvw9",
        "outputId": "556fdddb-492b-4231-a304-3e3a511fc7f2"
      },
      "execution_count": null,
      "outputs": [
        {
          "output_type": "stream",
          "name": "stdout",
          "text": [
            "my name\n",
            "my son\n",
            "\n",
            "MY NAME\n",
            "MY SON\n"
          ]
        }
      ]
    },
    {
      "cell_type": "code",
      "source": [
        "s = input()\n",
        "words = [word for word in s.split(\" \")]\n",
        "print(\" \".join(sorted(list(set(words)))))"
      ],
      "metadata": {
        "colab": {
          "base_uri": "https://localhost:8080/"
        },
        "id": "3kqsrMlom8au",
        "outputId": "01c0c3a7-7760-494e-df45-c3f00c46bc67"
      },
      "execution_count": null,
      "outputs": [
        {
          "output_type": "stream",
          "name": "stdout",
          "text": [
            "hello my dev hello\n",
            "dev hello my\n"
          ]
        }
      ]
    },
    {
      "cell_type": "markdown",
      "source": [
        "#check string is palindrome"
      ],
      "metadata": {
        "id": "nTnjn084T80V"
      }
    },
    {
      "cell_type": "code",
      "source": [
        "def is_palindrome(string):\n",
        "    reversed_string = string[::-1]\n",
        "    return string == reversed_string\n",
        "\n",
        "# Test the function\n",
        "#word = \"madam\"\n",
        "word=input(\"enter string:\")\n",
        "if is_palindrome(word):\n",
        "    print(f\"{word} is a palindrome\")\n",
        "else:\n",
        "    print(f\"{word} is not a palindrome\")"
      ],
      "metadata": {
        "colab": {
          "base_uri": "https://localhost:8080/"
        },
        "id": "JoDjkWEHT-sl",
        "outputId": "7eeef725-4af5-47fe-8721-38243e6856dd"
      },
      "execution_count": 3,
      "outputs": [
        {
          "output_type": "stream",
          "name": "stdout",
          "text": [
            "enter string:madam\n",
            "madam is a palindrome\n"
          ]
        }
      ]
    },
    {
      "cell_type": "markdown",
      "source": [
        "#Find largest elment in a list"
      ],
      "metadata": {
        "id": "k07prv5nUeXX"
      }
    },
    {
      "cell_type": "code",
      "source": [
        "def find_largest(numbers):\n",
        "    largest = numbers[0]\n",
        "    for num in numbers:\n",
        "        if num > largest:\n",
        "            largest = num\n",
        "    return largest\n",
        "\n",
        "# Test the function\n",
        "nums = [10, 5, 8, 20, 3]\n",
        "largest_num = find_largest(nums)\n",
        "print(f\"The largest number is {largest_num}\")"
      ],
      "metadata": {
        "colab": {
          "base_uri": "https://localhost:8080/"
        },
        "id": "4Pw3mIgqUiXF",
        "outputId": "b85b848c-8676-4b7a-f6ca-a3ea70ea93f4"
      },
      "execution_count": 4,
      "outputs": [
        {
          "output_type": "stream",
          "name": "stdout",
          "text": [
            "The largest number is 20\n"
          ]
        }
      ]
    },
    {
      "cell_type": "markdown",
      "source": [
        "#count the frequency of each element in a list"
      ],
      "metadata": {
        "id": "dNRyS2w2U3Q5"
      }
    },
    {
      "cell_type": "code",
      "source": [
        "def count_frequency(numbers):\n",
        "    frequency = {}\n",
        "    for num in numbers:\n",
        "        if num in frequency:\n",
        "            frequency[num] += 1\n",
        "        else:\n",
        "            frequency[num] = 1\n",
        "    return frequency\n",
        "\n",
        "# Test the function\n",
        "nums = [1, 2, 3, 2, 1, 3, 2, 4, 5, 4]\n",
        "frequency_count = count_frequency(nums)\n",
        "print(frequency_count)"
      ],
      "metadata": {
        "colab": {
          "base_uri": "https://localhost:8080/"
        },
        "id": "UHOeRaZqU85K",
        "outputId": "0d961137-44f3-4cfb-c7de-a4d998ecd5ef"
      },
      "execution_count": 5,
      "outputs": [
        {
          "output_type": "stream",
          "name": "stdout",
          "text": [
            "{1: 2, 2: 3, 3: 2, 4: 2, 5: 1}\n"
          ]
        }
      ]
    },
    {
      "cell_type": "markdown",
      "source": [
        "#program to check if a number is prime"
      ],
      "metadata": {
        "id": "7bvXg6sAVZsk"
      }
    },
    {
      "cell_type": "code",
      "source": [
        "def is_prime(number):\n",
        "    print(int(number**0.5))\n",
        "    if number < 2:\n",
        "        return False\n",
        "    for i in range(2, int(number**0.5) + 1):\n",
        "        if number % i == 0:\n",
        "            return False\n",
        "    return True\n",
        "\n",
        "# Test the function\n",
        "num = 17\n",
        "if is_prime(num):\n",
        "    print(f\"{num} is a prime number\")\n",
        "else:\n",
        "    print(f\"{num} is not a prime number\")"
      ],
      "metadata": {
        "colab": {
          "base_uri": "https://localhost:8080/"
        },
        "id": "hwSqXhokVSuw",
        "outputId": "ca789ea4-1cf7-46e7-e1b2-8a17eb497d30"
      },
      "execution_count": 6,
      "outputs": [
        {
          "output_type": "stream",
          "name": "stdout",
          "text": [
            "4\n",
            "17 is a prime number\n"
          ]
        }
      ]
    },
    {
      "cell_type": "markdown",
      "source": [
        "#Common elements between two lists"
      ],
      "metadata": {
        "id": "OfCeKKQZWAdX"
      }
    },
    {
      "cell_type": "code",
      "source": [
        "def find_common_elements(list1, list2):\n",
        "    common_elements = []\n",
        "    for item in list1:\n",
        "        if item in list2:\n",
        "            common_elements.append(item)\n",
        "    return common_elements\n",
        "\n",
        "# Test the function\n",
        "list_a = [1, 2, 3, 4, 5]\n",
        "list_b = [4, 5, 6, 7, 8]\n",
        "common = find_common_elements(list_a, list_b)\n",
        "print(common)"
      ],
      "metadata": {
        "colab": {
          "base_uri": "https://localhost:8080/"
        },
        "id": "jm3DefegWEz6",
        "outputId": "d3141475-4219-4751-ff8b-936e2ea0ce19"
      },
      "execution_count": 7,
      "outputs": [
        {
          "output_type": "stream",
          "name": "stdout",
          "text": [
            "[4, 5]\n"
          ]
        }
      ]
    },
    {
      "cell_type": "markdown",
      "source": [
        "#sort list using bubble sort"
      ],
      "metadata": {
        "id": "AiQ8ektBWSN3"
      }
    },
    {
      "cell_type": "code",
      "source": [
        "def bubble_sort(elements):\n",
        "    n = len(elements)\n",
        "    for i in range(n - 1):\n",
        "        for j in range(n - i - 1):\n",
        "            if elements[j] > elements[j + 1]:\n",
        "                elements[j], elements[j + 1] = elements[j + 1], elements[j]\n",
        "\n",
        "# Test the function\n",
        "nums = [5, 2, 8, 1, 9,4]\n",
        "bubble_sort(nums)\n",
        "print(nums)"
      ],
      "metadata": {
        "colab": {
          "base_uri": "https://localhost:8080/"
        },
        "id": "uscBBPR_WVHQ",
        "outputId": "3f19dd2c-c7f7-4bd7-9aef-e1f530cd9324"
      },
      "execution_count": 9,
      "outputs": [
        {
          "output_type": "stream",
          "name": "stdout",
          "text": [
            "[1, 2, 4, 5, 8, 9]\n"
          ]
        }
      ]
    },
    {
      "cell_type": "markdown",
      "source": [
        "#find second largest number in a list"
      ],
      "metadata": {
        "id": "6oeVzclDWlp7"
      }
    },
    {
      "cell_type": "code",
      "source": [
        "def find_second_largest(numbers):\n",
        "    largest = float('-inf')\n",
        "    second_largest = float('-inf')\n",
        "    for num in numbers:\n",
        "        if num > largest:\n",
        "            second_largest = largest\n",
        "            largest = num\n",
        "        elif num > second_largest and num != largest:\n",
        "            second_largest = num\n",
        "    return second_largest\n",
        "\n",
        "# Test the function\n",
        "nums = [10, 5, 8, 20, 3]\n",
        "second_largest_num = find_second_largest(nums)\n",
        "print(f\"The second largest number is {second_largest_num}\")"
      ],
      "metadata": {
        "id": "lHWDTu8IWpJa"
      },
      "execution_count": null,
      "outputs": []
    },
    {
      "cell_type": "markdown",
      "source": [
        "#remove duplicates in a list"
      ],
      "metadata": {
        "id": "FGZuBr2hWxYE"
      }
    },
    {
      "cell_type": "code",
      "source": [
        "def remove_duplicates(numbers):\n",
        "    unique_numbers = []\n",
        "    for num in numbers:\n",
        "        if num not in unique_numbers:\n",
        "            unique_numbers.append(num)\n",
        "    return unique_numbers\n",
        "\n",
        "# Test the function\n",
        "nums = [1,1, 2, 3, 2, 1, 3, 2, 4, 5,8, 4]\n",
        "unique_nums = remove_duplicates(nums)\n",
        "print(unique_nums)"
      ],
      "metadata": {
        "colab": {
          "base_uri": "https://localhost:8080/"
        },
        "id": "dP69hMx1WvRi",
        "outputId": "c07e49a7-f9f1-4a8a-d1d1-710db3c52d8c"
      },
      "execution_count": 12,
      "outputs": [
        {
          "output_type": "stream",
          "name": "stdout",
          "text": [
            "[1, 2, 3, 4, 5, 8]\n"
          ]
        }
      ]
    },
    {
      "cell_type": "markdown",
      "source": [
        "list comprehension using ternary"
      ],
      "metadata": {
        "id": "POSyYJNqpqS4"
      }
    },
    {
      "cell_type": "code",
      "source": [
        "num=[1,2,3,4,5,6,7,9]\n",
        "[\"even\" if ni%2==0 else \"odd\" for ni in num]\n"
      ],
      "metadata": {
        "colab": {
          "base_uri": "https://localhost:8080/"
        },
        "id": "oUr6qffViSnL",
        "outputId": "85e8fe8e-c8e8-4c3d-8727-dffa6071ef07"
      },
      "execution_count": 15,
      "outputs": [
        {
          "output_type": "execute_result",
          "data": {
            "text/plain": [
              "['odd', 'even', 'odd', 'even', 'odd', 'even', 'odd', 'odd']"
            ]
          },
          "metadata": {},
          "execution_count": 15
        }
      ]
    },
    {
      "cell_type": "markdown",
      "source": [
        "case /swicth implemented using dict"
      ],
      "metadata": {
        "id": "AzCxUS7Eq875"
      }
    },
    {
      "cell_type": "code",
      "source": [
        "def get_day_name(day_number):\n",
        "    switcher1 = {\n",
        "        1: \"Monday\",\n",
        "        2: \"Tuesday\",\n",
        "        3: \"Wednesday\",\n",
        "        4: \"Thursday\",\n",
        "        5: \"Friday\",\n",
        "        6: \"Saturday\",\n",
        "        7: \"Sunday\"\n",
        "    }\n",
        "    return switcher1.get(day_number, \"Invalid day number\")\n",
        "\n",
        "day_number = int(input(\"Enter a day number: \"))\n",
        "day_name = get_day_name(day_number)\n",
        "print(day_name)"
      ],
      "metadata": {
        "colab": {
          "base_uri": "https://localhost:8080/"
        },
        "id": "XgJfpfHWqTKw",
        "outputId": "6c330c8f-5226-4c5a-a8ff-8b4aeb0eb27a"
      },
      "execution_count": 21,
      "outputs": [
        {
          "output_type": "stream",
          "name": "stdout",
          "text": [
            "Enter a day number: 8\n",
            "Invalid day number\n"
          ]
        }
      ]
    },
    {
      "cell_type": "markdown",
      "source": [
        "match statement,\n",
        "which is Python’s answer to the switch-case structure"
      ],
      "metadata": {
        "id": "slfLg4RrrMk5"
      }
    },
    {
      "cell_type": "code",
      "source": [
        "def get_day_name(day_number):\n",
        " match day_number:\n",
        "  case 1:\n",
        "   return \"Monday\"\n",
        "  case 2:\n",
        "   return \"Tuesday\"\n",
        "  case 3:\n",
        "   return \"Wednesday\"\n",
        "  case 4:\n",
        "   return \"Thursday\"\n",
        "  case 5:\n",
        "   return \"Friday\"\n",
        "  case 6:\n",
        "   return \"Saturday\"\n",
        "  case 7:\n",
        "   return \"Sunday\"\n",
        "  case _:#for default case\n",
        "   return \"Invalid day number\"\n",
        "day_number = int(input(\"Enter a day number: \"))\n",
        "day_name = get_day_name(day_number)\n",
        "print(day_name)"
      ],
      "metadata": {
        "colab": {
          "base_uri": "https://localhost:8080/"
        },
        "id": "FThe3rLNrM4a",
        "outputId": "5c3415ab-237d-4839-e320-6c269d0305cb"
      },
      "execution_count": 24,
      "outputs": [
        {
          "output_type": "stream",
          "name": "stdout",
          "text": [
            "Enter a day number: 6\n",
            "Saturday\n"
          ]
        }
      ]
    },
    {
      "cell_type": "markdown",
      "source": [
        "generator vs list comprehension:The generator yields one item at a time and generates item only when in demand. Whereas, in a list comprehension, Python reserves memory for the whole list. Thus we can say that the generator expressions are memory efficient than the lists."
      ],
      "metadata": {
        "id": "F_n95I81ufgE"
      }
    },
    {
      "cell_type": "code",
      "source": [
        "#List comprehension\n",
        "list_comprehension = [i for i in range(10) if i % 2 == 0]\n",
        "print(list_comprehension)\n",
        "# Generator Expression\n",
        "generator_expression = (i for i in range(10) if i % 2 == 0)\n",
        "print(generator_expression)\n",
        "for i in generator_expression:\n",
        "    print(i,end=\" \")"
      ],
      "metadata": {
        "colab": {
          "base_uri": "https://localhost:8080/"
        },
        "id": "uhLFCiZuuHcL",
        "outputId": "3974d1c6-1c77-41ec-f84c-5852e55bfac6"
      },
      "execution_count": 30,
      "outputs": [
        {
          "output_type": "stream",
          "name": "stdout",
          "text": [
            "[0, 2, 4, 6, 8]\n",
            "<generator object <genexpr> at 0x7c6235da0040>\n",
            "0 2 4 6 8 "
          ]
        }
      ]
    },
    {
      "cell_type": "markdown",
      "source": [
        "#named tuples"
      ],
      "metadata": {
        "id": "DWCzSR7-v8JG"
      }
    },
    {
      "cell_type": "code",
      "source": [
        "from collections import namedtuple\n",
        "Person=namedtuple('Person','name age gender city')\n",
        "person1 = Person('srujan', 41,'male','hyd')\n",
        "person2 = Person('santhi', 38,'female','rpt')\n",
        "print(person1.name)\n",
        "print(person2.name)\n",
        "print(person1)\n",
        "print(person2[0],':', person2[2])\n"
      ],
      "metadata": {
        "colab": {
          "base_uri": "https://localhost:8080/"
        },
        "id": "RPF05fbbv-R1",
        "outputId": "1aefd8cc-9080-4d53-f7c4-bc272fb29eaf"
      },
      "execution_count": 40,
      "outputs": [
        {
          "output_type": "stream",
          "name": "stdout",
          "text": [
            "srujan\n",
            "santhi\n",
            "Person(name='srujan', age=41, gender='male', city='hyd')\n",
            "santhi : female\n"
          ]
        }
      ]
    },
    {
      "cell_type": "code",
      "source": [
        "fruits = ['Apple', 'Orange']\n",
        "fruits.append('banana')\n",
        "print(fruits)\n",
        "fruits.insert(1,'kiwi')\n",
        "print(fruits)\n",
        "fruits.pop()\n",
        "print(fruits)\n",
        "fruits[0]='kiwi'\n",
        "print(fruits)"
      ],
      "metadata": {
        "colab": {
          "base_uri": "https://localhost:8080/"
        },
        "id": "wIRbvsA-xeSG",
        "outputId": "3e0ce434-ee6c-4940-f274-4cb011d4aec6"
      },
      "execution_count": 46,
      "outputs": [
        {
          "output_type": "stream",
          "name": "stdout",
          "text": [
            "['Apple', 'Orange', 'banana']\n",
            "['Apple', 'kiwi', 'Orange', 'banana']\n",
            "['Apple', 'kiwi', 'Orange']\n",
            "['kiwi', 'kiwi', 'Orange']\n"
          ]
        }
      ]
    },
    {
      "cell_type": "markdown",
      "source": [
        "sets--get common and uncommon letters in words"
      ],
      "metadata": {
        "id": "AhO5MqJS03HK"
      }
    },
    {
      "cell_type": "code",
      "source": [
        "s1 = set('hello')\n",
        "s2 = set('world')\n",
        "print(s1 & s2)\n",
        "print(s1.intersection(s2))\n",
        "print(list(set(s1.intersection(s2))))#common\n",
        "print(list(set(s1.symmetric_difference(s2))))#not common\n",
        "print(s1-s2)\n",
        "print(s2-s1)"
      ],
      "metadata": {
        "colab": {
          "base_uri": "https://localhost:8080/"
        },
        "id": "X_m0yE4p02od",
        "outputId": "4b2f7e8f-660b-414d-fc87-5b744e9ded4b"
      },
      "execution_count": 54,
      "outputs": [
        {
          "output_type": "stream",
          "name": "stdout",
          "text": [
            "{'o', 'l'}\n",
            "{'o', 'l'}\n",
            "['o', 'l']\n",
            "['h', 'e', 'd', 'w', 'r']\n",
            "{'h', 'e'}\n",
            "{'w', 'r', 'd'}\n"
          ]
        }
      ]
    },
    {
      "cell_type": "markdown",
      "source": [
        "dict:shallow and deepcopy\n"
      ],
      "metadata": {
        "id": "0pd52Qlo8aZA"
      }
    },
    {
      "cell_type": "code",
      "source": [
        "import copy\n",
        "fruits = ['apple', 'banana']\n",
        "fruits_shallow=fruits.copy()#shallow copy\n",
        "print(fruits[0] is fruits[0])\n",
        "fruits_deep=copy.deepcopy(fruits)#deep copy\n",
        "print(fruits_deep[0] is fruits[0])\n"
      ],
      "metadata": {
        "colab": {
          "base_uri": "https://localhost:8080/"
        },
        "id": "PJBcui4G8cWv",
        "outputId": "24683dfb-8f5e-47fd-933a-8e3e3ec7631c"
      },
      "execution_count": 56,
      "outputs": [
        {
          "output_type": "stream",
          "name": "stdout",
          "text": [
            "True\n",
            "True\n"
          ]
        }
      ]
    },
    {
      "cell_type": "markdown",
      "source": [
        "Set operations"
      ],
      "metadata": {
        "id": "SQW9WuYo9pXp"
      }
    },
    {
      "cell_type": "code",
      "source": [
        " s = {1, 2, 3}\n",
        " s1={3,4,1,5,2}\n",
        " print(s)\n",
        " s.add(4)\n",
        " print(s)\n",
        " print(s.union(s1))\n",
        " print(s.intersection(s1))\n",
        " print(s.difference(s1))\n",
        " print(s.symmetric_difference(s1))\n",
        " print(s.issubset(s1))"
      ],
      "metadata": {
        "colab": {
          "base_uri": "https://localhost:8080/"
        },
        "id": "aN45_tTu9mit",
        "outputId": "620dcf75-8860-4e9a-c971-b0aae5e0ee36"
      },
      "execution_count": 60,
      "outputs": [
        {
          "output_type": "stream",
          "name": "stdout",
          "text": [
            "{1, 2, 3}\n",
            "{1, 2, 3, 4}\n",
            "{1, 2, 3, 4, 5}\n",
            "{1, 2, 3, 4}\n",
            "set()\n",
            "{5}\n",
            "True\n"
          ]
        }
      ]
    },
    {
      "cell_type": "markdown",
      "source": [
        " #built-in functions for working with sequences"
      ],
      "metadata": {
        "id": "V50RI6I--mT9"
      }
    },
    {
      "cell_type": "code",
      "source": [
        "l1=[1, 2, 3]\n",
        "l2='hello'\n",
        "print(len(l1))\n",
        "print(len(l2))\n",
        "print(min(l1))\n",
        "print(max(l2))\n",
        "print(sorted(l2))\n",
        "print(list(reversed(l1)))\n",
        "print(reversed(l2))\n",
        "\n"
      ],
      "metadata": {
        "colab": {
          "base_uri": "https://localhost:8080/",
          "height": 157
        },
        "id": "g3-Z7y0s-n8J",
        "outputId": "f2b8bd06-f939-406f-b138-c193b27a712a"
      },
      "execution_count": 79,
      "outputs": [
        {
          "output_type": "stream",
          "name": "stdout",
          "text": [
            "3\n",
            "5\n",
            "1\n",
            "o\n",
            "['e', 'h', 'l', 'l', 'o']\n",
            "[3, 2, 1]\n",
            "<reversed object at 0x7c6235f7d450>\n"
          ]
        },
        {
          "output_type": "execute_result",
          "data": {
            "text/plain": [
              "'2l'"
            ],
            "application/vnd.google.colaboratory.intrinsic+json": {
              "type": "string"
            }
          },
          "metadata": {},
          "execution_count": 79
        }
      ]
    },
    {
      "cell_type": "code",
      "source": [
        "fruits = ['orange', 'apple', 'banana']\n",
        "print(fruits)\n",
        "new_fruits=sorted(fruits)\n",
        "print(new_fruits)"
      ],
      "metadata": {
        "colab": {
          "base_uri": "https://localhost:8080/"
        },
        "id": "CRkB9fuHArDI",
        "outputId": "bddcfa77-ef62-4515-bead-4ae3de45cca1"
      },
      "execution_count": 83,
      "outputs": [
        {
          "output_type": "stream",
          "name": "stdout",
          "text": [
            "['orange', 'apple', 'banana']\n",
            "['apple', 'banana', 'orange']\n"
          ]
        }
      ]
    },
    {
      "cell_type": "markdown",
      "source": [
        "#regular expr"
      ],
      "metadata": {
        "id": "-CNwdyWhBaO0"
      }
    },
    {
      "cell_type": "code",
      "source": [
        "import re\n",
        "print(re.search('cat','cat in the box'))\n",
        "print(re.findall('cat','cat in the box cat'))\n",
        "print(re.search('\\d{4}-\\d{2}-\\d{2}', '2019-12-25'))\n"
      ],
      "metadata": {
        "colab": {
          "base_uri": "https://localhost:8080/"
        },
        "id": "6OjNQ85vBb3q",
        "outputId": "95ed29aa-905a-4f4a-b541-104ae798fbc6"
      },
      "execution_count": 88,
      "outputs": [
        {
          "output_type": "stream",
          "name": "stdout",
          "text": [
            "<re.Match object; span=(0, 3), match='cat'>\n",
            "['cat', 'cat']\n",
            "<re.Match object; span=(0, 10), match='2019-12-25'>\n"
          ]
        }
      ]
    },
    {
      "cell_type": "markdown",
      "source": [
        "#functions"
      ],
      "metadata": {
        "id": "Y6spiIxmClm8"
      }
    },
    {
      "cell_type": "code",
      "source": [
        "def add(x,y=5):\n",
        "  return(x+y)\n",
        "print(add(12))"
      ],
      "metadata": {
        "colab": {
          "base_uri": "https://localhost:8080/"
        },
        "id": "ShAG6-_DClP-",
        "outputId": "f662dc88-8c07-4858-f261-e8984835846d"
      },
      "execution_count": 97,
      "outputs": [
        {
          "output_type": "stream",
          "name": "stdout",
          "text": [
            "17\n"
          ]
        }
      ]
    },
    {
      "cell_type": "markdown",
      "source": [
        "How Would You Define a Function That Defaults One of Its Arguments to\n",
        "a List"
      ],
      "metadata": {
        "id": "j-TTFaiPFGp0"
      }
    },
    {
      "cell_type": "code",
      "source": [
        "def add_item(item, items=[]):\n",
        "  items.append(item)\n",
        "  return items\n",
        "print(add_item('apple'))\n",
        "print(add_item('banana'))\n",
        "print(add_item.__defaults__)\n",
        "def add_item1(item, items=None):\n",
        "  if(items is None):\n",
        "    items=[]\n",
        "  items.append(item)\n",
        "  return items\n",
        "print(add_item1('apple'))\n",
        "print(add_item1('banana'))\n",
        "print(add_item1.__defaults__)"
      ],
      "metadata": {
        "colab": {
          "base_uri": "https://localhost:8080/"
        },
        "id": "fqnNjaBxEim7",
        "outputId": "426ff900-bd96-4a17-d1ee-dfa749308de4"
      },
      "execution_count": 103,
      "outputs": [
        {
          "output_type": "stream",
          "name": "stdout",
          "text": [
            "['apple']\n",
            "['apple', 'banana']\n",
            "(['apple', 'banana'],)\n",
            "['apple']\n",
            "['banana']\n",
            "(None,)\n"
          ]
        }
      ]
    },
    {
      "cell_type": "markdown",
      "source": [
        "function that accepts an arbitrary number of positional arguments"
      ],
      "metadata": {
        "id": "W7ylLbvjJvl6"
      }
    },
    {
      "cell_type": "code",
      "source": [
        "def summmation(*nums):\n",
        "  total=0\n",
        "  for num in nums:\n",
        "    total+=num\n",
        "  return total\n",
        "print(summmation(1,2,3,10))"
      ],
      "metadata": {
        "colab": {
          "base_uri": "https://localhost:8080/"
        },
        "id": "kJ-USCVZJwOt",
        "outputId": "0d751f16-04f8-4965-f804-a5f3a0bf79cd"
      },
      "execution_count": 105,
      "outputs": [
        {
          "output_type": "stream",
          "name": "stdout",
          "text": [
            "16\n"
          ]
        }
      ]
    },
    {
      "cell_type": "markdown",
      "source": [
        "function that accepts an arbitrary number of keyword arguments"
      ],
      "metadata": {
        "id": "lJbb0do4KHUt"
      }
    },
    {
      "cell_type": "code",
      "source": [
        "def print_kwargs(**kwargs):\n",
        "  for key, value in kwargs.items():\n",
        "    print(f\"{key}: {value}\")\n",
        "print_kwargs(name=\"Alice\", age=30, city=\"New York\", country=\"USA\")"
      ],
      "metadata": {
        "colab": {
          "base_uri": "https://localhost:8080/"
        },
        "id": "wvPz_fYuKJNR",
        "outputId": "62e662aa-caff-477d-cbd9-a1c36fb08375"
      },
      "execution_count": 112,
      "outputs": [
        {
          "output_type": "stream",
          "name": "stdout",
          "text": [
            "name: Alice\n",
            "age: 30\n",
            "city: New York\n",
            "country: USA\n"
          ]
        }
      ]
    },
    {
      "cell_type": "code",
      "source": [
        "#You can define keyword-only arguments in a function by using * in the function definition. All parameters after * become keyword-only\n",
        "def increment(number, *, increment_by=1):\n",
        "  return number + increment_by\n",
        "print(increment(10))\n",
        "print(increment(13, increment_by=5))\n",
        "#Here, x is a positional-only argument, while y can be passed by position or keyword.\n",
        "def add(x, /, y):\n",
        " return x + y\n",
        "print(add(10, 20))\n",
        "print(add(10, y=2))"
      ],
      "metadata": {
        "colab": {
          "base_uri": "https://localhost:8080/"
        },
        "id": "hI2jS4KJLUqT",
        "outputId": "dea7687e-f00d-4b80-eb34-26be58555f36"
      },
      "execution_count": 118,
      "outputs": [
        {
          "output_type": "stream",
          "name": "stdout",
          "text": [
            "11\n",
            "18\n",
            "30\n",
            "12\n"
          ]
        }
      ]
    },
    {
      "cell_type": "code",
      "source": [
        "#lambda with map\n",
        "nums = [2, 4, 6, 8, 10,13,15]\n",
        "doubled = map(lambda x: x * 2, nums)\n",
        "print(list(doubled))\n",
        "#lambda with filter\n",
        "filtered = filter(lambda x: x % 2==0, nums)\n",
        "print(list(filtered))\n",
        "#lambda with sorted\n",
        "students = [('john', 'A', 15), ('jane', 'C', 12), ('dave', 'B', 10)]\n",
        "sorted_students = sorted(students, key=lambda x: x[1])\n",
        "print(sorted_students)"
      ],
      "metadata": {
        "colab": {
          "base_uri": "https://localhost:8080/"
        },
        "id": "tUQDu3XVNQ6P",
        "outputId": "73475d16-82a1-463e-b241-b64042d29bf1"
      },
      "execution_count": 123,
      "outputs": [
        {
          "output_type": "stream",
          "name": "stdout",
          "text": [
            "[4, 8, 12, 16, 20, 26, 30]\n",
            "[2, 4, 6, 8, 10]\n",
            "[('john', 'A', 15), ('dave', 'B', 10), ('jane', 'C', 12)]\n"
          ]
        }
      ]
    }
  ]
}