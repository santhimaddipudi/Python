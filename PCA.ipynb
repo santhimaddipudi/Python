{
  "nbformat": 4,
  "nbformat_minor": 0,
  "metadata": {
    "colab": {
      "provenance": [],
      "authorship_tag": "ABX9TyMRhZL3Nhww4kX6TC/78jg3",
      "include_colab_link": true
    },
    "kernelspec": {
      "name": "python3",
      "display_name": "Python 3"
    },
    "language_info": {
      "name": "python"
    }
  },
  "cells": [
    {
      "cell_type": "markdown",
      "metadata": {
        "id": "view-in-github",
        "colab_type": "text"
      },
      "source": [
        "<a href=\"https://colab.research.google.com/github/santhimaddipudi/Python-work/blob/master/PCA.ipynb\" target=\"_parent\"><img src=\"https://colab.research.google.com/assets/colab-badge.svg\" alt=\"Open In Colab\"/></a>"
      ]
    },
    {
      "cell_type": "code",
      "execution_count": 2,
      "metadata": {
        "colab": {
          "base_uri": "https://localhost:8080/"
        },
        "id": "dV1QJ7NtfOaW",
        "outputId": "1c4d7b61-7fd6-4791-f962-1177c6874274"
      },
      "outputs": [
        {
          "output_type": "stream",
          "name": "stdout",
          "text": [
            "[[0 2]\n",
            " [2 3]]\n",
            "E-value: [-1.  4.]\n",
            "E-vector [[-0.89442719 -0.4472136 ]\n",
            " [ 0.4472136  -0.89442719]]\n"
          ]
        }
      ],
      "source": [
        "import numpy as np\n",
        "from numpy.linalg import eig\n",
        "a = np.array([[0, 2],\n",
        "              [2, 3]])\n",
        "print(a)\n",
        "w,v=eig(a)\n",
        "print('E-value:', w)\n",
        "print('E-vector', v)\n"
      ]
    },
    {
      "cell_type": "code",
      "source": [
        "#REMAKE ORIGINAL WITH svd\n",
        "import numpy as np\n",
        "\n",
        "#Creating a matrix A\n",
        "A = np.array([[3,4,3],[1,2,3],[4,2,1]])\n",
        "print(A)\n",
        "u,v=np.linalg.eig(A)\n",
        "print(v)\n",
        "#Performing SVD\n",
        "U, D, VT = np.linalg.svd(A)\n",
        "print(\"U value:\",U)\n",
        "print(\"D value:\",D)\n",
        "print(\"V value:\",VT)\n",
        "\n",
        "#Checking if we can remake the original matrix using U,D,VT\n",
        "A_remake = (U @ np.diag(D) @ VT)\n",
        "print(A_remake)"
      ],
      "metadata": {
        "colab": {
          "base_uri": "https://localhost:8080/"
        },
        "id": "pOz3SFvOlmJi",
        "outputId": "976e9c92-5fb7-4fae-803a-418bcdd327c5"
      },
      "execution_count": 23,
      "outputs": [
        {
          "output_type": "stream",
          "name": "stdout",
          "text": [
            "[[3 4 3]\n",
            " [1 2 3]\n",
            " [4 2 1]]\n",
            "[[ 0.71702664+0.j          0.01961888-0.3440499j   0.01961888+0.3440499j ]\n",
            " [ 0.42048072+0.j          0.57135858+0.33513653j  0.57135858-0.33513653j]\n",
            " [ 0.55593953+0.j         -0.66518994+0.j         -0.66518994-0.j        ]]\n",
            "U value: [[-0.73553325 -0.18392937 -0.65204358]\n",
            " [-0.42657919 -0.62196982  0.65664582]\n",
            " [-0.52632788  0.76113306  0.37901904]]\n",
            "D value: [7.87764972 2.54031671 0.69958986]\n",
            "V value: [[-0.60151068 -0.61540527 -0.5093734 ]\n",
            " [ 0.73643349 -0.18005275 -0.65210944]\n",
            " [ 0.30959751 -0.76737042  0.5615087 ]]\n",
            "[[3. 4. 3.]\n",
            " [1. 2. 3.]\n",
            " [4. 2. 1.]]\n"
          ]
        }
      ]
    },
    {
      "cell_type": "code",
      "source": [
        "d=[1,2,3]\n",
        "np.diag(d)"
      ],
      "metadata": {
        "colab": {
          "base_uri": "https://localhost:8080/"
        },
        "id": "P-bzWTwlmJtj",
        "outputId": "072b6d49-9a39-4f86-835e-6f78363834b4"
      },
      "execution_count": 18,
      "outputs": [
        {
          "output_type": "execute_result",
          "data": {
            "text/plain": [
              "array([[1, 0, 0],\n",
              "       [0, 2, 0],\n",
              "       [0, 0, 3]])"
            ]
          },
          "metadata": {},
          "execution_count": 18
        }
      ]
    }
  ]
}